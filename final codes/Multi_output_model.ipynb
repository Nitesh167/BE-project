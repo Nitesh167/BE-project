{
  "nbformat": 4,
  "nbformat_minor": 0,
  "metadata": {
    "colab": {
      "name": "Multi output model",
      "provenance": []
    },
    "kernelspec": {
      "name": "python3",
      "display_name": "Python 3"
    },
    "language_info": {
      "name": "python"
    }
  },
  "cells": [
    {
      "cell_type": "code",
      "execution_count": 1,
      "metadata": {
        "id": "fZMWegmxYGUC"
      },
      "outputs": [],
      "source": [
        "import pandas as pd\n",
        "import numpy as np\n",
        "from sklearn.datasets import make_regression\n",
        "from sklearn.multioutput import MultiOutputRegressor\n",
        "from sklearn.ensemble import GradientBoostingRegressor\n",
        "from sklearn.multioutput import MultiOutputRegressor\n",
        "from sklearn.svm import SVR\n",
        "from sklearn import preprocessing\n",
        "import matplotlib.pyplot as plt  \n",
        "%matplotlib inline"
      ]
    },
    {
      "cell_type": "code",
      "source": [
        "!git clone https://github.com/Nitesh167/raw-materials-forecasting.git"
      ],
      "metadata": {
        "colab": {
          "base_uri": "https://localhost:8080/"
        },
        "id": "HTgNZlVsYNfQ",
        "outputId": "b09c9b0f-e94f-4afd-f4e0-e4fa08994a94"
      },
      "execution_count": 2,
      "outputs": [
        {
          "output_type": "stream",
          "name": "stdout",
          "text": [
            "Cloning into 'raw-materials-forecasting'...\n",
            "remote: Enumerating objects: 47, done.\u001b[K\n",
            "remote: Counting objects: 100% (28/28), done.\u001b[K\n",
            "remote: Compressing objects: 100% (28/28), done.\u001b[K\n",
            "remote: Total 47 (delta 8), reused 0 (delta 0), pack-reused 19\u001b[K\n",
            "Unpacking objects: 100% (47/47), done.\n"
          ]
        }
      ]
    },
    {
      "cell_type": "code",
      "source": [
        "cd raw-materials-forecasting/"
      ],
      "metadata": {
        "colab": {
          "base_uri": "https://localhost:8080/"
        },
        "id": "B44JnkzlYPRV",
        "outputId": "c35869f7-c328-49f3-9959-868cc997d5b2"
      },
      "execution_count": 3,
      "outputs": [
        {
          "output_type": "stream",
          "name": "stdout",
          "text": [
            "/content/raw-materials-forecasting\n"
          ]
        }
      ]
    },
    {
      "cell_type": "code",
      "source": [
        "df=pd.read_csv('dataset_value2.csv')\n",
        "df.columns=['Year',\"no_of_cars\",\"steel\",\"plastics\",\"iron\",\"rubber\",\"aluminium\",\"glass\",\"copper\"]\n",
        "df.head(10)"
      ],
      "metadata": {
        "colab": {
          "base_uri": "https://localhost:8080/",
          "height": 363
        },
        "id": "d-0L4At4Ycqk",
        "outputId": "0f0e6784-6551-4889-8162-15eb79712f8e"
      },
      "execution_count": 4,
      "outputs": [
        {
          "output_type": "execute_result",
          "data": {
            "text/plain": [
              "        Year  no_of_cars      steel  plastics      iron    rubber  aluminium  \\\n",
              "0  2001-2002      669719   505463.7   86072.3   70039.2   38816.9    24471.5   \n",
              "1  2002-2003      723330   572265.4  100524.4   76557.2   44020.4    28708.9   \n",
              "2  2003-2004      989560   811239.3  139558.5  108891.2   61251.2    42195.3   \n",
              "3  2004-2005     1209876  1045361.9  187176.3  139499.3   82993.2    54740.2   \n",
              "4  2005-2006     1309300  1151778.1  206929.6  150316.8   93703.9    62469.3   \n",
              "5  2006-2007     1545234  1409559.4  259339.7  177695.7  117663.3    79242.6   \n",
              "6  2007-2008     1777583  1645920.9  311564.3  208558.4  146554.6    98642.5   \n",
              "7  2008-2009     1838593  1648801.5  359327.6  212921.7  153244.8   102163.2   \n",
              "8  2009-2010     2357411  2070944.3  398196.5  251241.0  204582.0   136388.0   \n",
              "9  2010-2011     2987296  2619488.2  522065.8  286828.2  261032.9   178601.4   \n",
              "\n",
              "      glass   copper  \n",
              "0   25315.3   8016.5  \n",
              "1   29665.9   9569.6  \n",
              "2   40834.2  13611.4  \n",
              "3   51208.6  19423.9  \n",
              "4   56612.8  19521.6  \n",
              "5   72038.8  24012.9  \n",
              "6   90187.4  28183.5  \n",
              "7   87973.9  31216.5  \n",
              "8  107674.7  39480.7  \n",
              "9  141965.2  50374.7  "
            ],
            "text/html": [
              "\n",
              "  <div id=\"df-39d35fd8-7023-4962-86de-5021683538d2\">\n",
              "    <div class=\"colab-df-container\">\n",
              "      <div>\n",
              "<style scoped>\n",
              "    .dataframe tbody tr th:only-of-type {\n",
              "        vertical-align: middle;\n",
              "    }\n",
              "\n",
              "    .dataframe tbody tr th {\n",
              "        vertical-align: top;\n",
              "    }\n",
              "\n",
              "    .dataframe thead th {\n",
              "        text-align: right;\n",
              "    }\n",
              "</style>\n",
              "<table border=\"1\" class=\"dataframe\">\n",
              "  <thead>\n",
              "    <tr style=\"text-align: right;\">\n",
              "      <th></th>\n",
              "      <th>Year</th>\n",
              "      <th>no_of_cars</th>\n",
              "      <th>steel</th>\n",
              "      <th>plastics</th>\n",
              "      <th>iron</th>\n",
              "      <th>rubber</th>\n",
              "      <th>aluminium</th>\n",
              "      <th>glass</th>\n",
              "      <th>copper</th>\n",
              "    </tr>\n",
              "  </thead>\n",
              "  <tbody>\n",
              "    <tr>\n",
              "      <th>0</th>\n",
              "      <td>2001-2002</td>\n",
              "      <td>669719</td>\n",
              "      <td>505463.7</td>\n",
              "      <td>86072.3</td>\n",
              "      <td>70039.2</td>\n",
              "      <td>38816.9</td>\n",
              "      <td>24471.5</td>\n",
              "      <td>25315.3</td>\n",
              "      <td>8016.5</td>\n",
              "    </tr>\n",
              "    <tr>\n",
              "      <th>1</th>\n",
              "      <td>2002-2003</td>\n",
              "      <td>723330</td>\n",
              "      <td>572265.4</td>\n",
              "      <td>100524.4</td>\n",
              "      <td>76557.2</td>\n",
              "      <td>44020.4</td>\n",
              "      <td>28708.9</td>\n",
              "      <td>29665.9</td>\n",
              "      <td>9569.6</td>\n",
              "    </tr>\n",
              "    <tr>\n",
              "      <th>2</th>\n",
              "      <td>2003-2004</td>\n",
              "      <td>989560</td>\n",
              "      <td>811239.3</td>\n",
              "      <td>139558.5</td>\n",
              "      <td>108891.2</td>\n",
              "      <td>61251.2</td>\n",
              "      <td>42195.3</td>\n",
              "      <td>40834.2</td>\n",
              "      <td>13611.4</td>\n",
              "    </tr>\n",
              "    <tr>\n",
              "      <th>3</th>\n",
              "      <td>2004-2005</td>\n",
              "      <td>1209876</td>\n",
              "      <td>1045361.9</td>\n",
              "      <td>187176.3</td>\n",
              "      <td>139499.3</td>\n",
              "      <td>82993.2</td>\n",
              "      <td>54740.2</td>\n",
              "      <td>51208.6</td>\n",
              "      <td>19423.9</td>\n",
              "    </tr>\n",
              "    <tr>\n",
              "      <th>4</th>\n",
              "      <td>2005-2006</td>\n",
              "      <td>1309300</td>\n",
              "      <td>1151778.1</td>\n",
              "      <td>206929.6</td>\n",
              "      <td>150316.8</td>\n",
              "      <td>93703.9</td>\n",
              "      <td>62469.3</td>\n",
              "      <td>56612.8</td>\n",
              "      <td>19521.6</td>\n",
              "    </tr>\n",
              "    <tr>\n",
              "      <th>5</th>\n",
              "      <td>2006-2007</td>\n",
              "      <td>1545234</td>\n",
              "      <td>1409559.4</td>\n",
              "      <td>259339.7</td>\n",
              "      <td>177695.7</td>\n",
              "      <td>117663.3</td>\n",
              "      <td>79242.6</td>\n",
              "      <td>72038.8</td>\n",
              "      <td>24012.9</td>\n",
              "    </tr>\n",
              "    <tr>\n",
              "      <th>6</th>\n",
              "      <td>2007-2008</td>\n",
              "      <td>1777583</td>\n",
              "      <td>1645920.9</td>\n",
              "      <td>311564.3</td>\n",
              "      <td>208558.4</td>\n",
              "      <td>146554.6</td>\n",
              "      <td>98642.5</td>\n",
              "      <td>90187.4</td>\n",
              "      <td>28183.5</td>\n",
              "    </tr>\n",
              "    <tr>\n",
              "      <th>7</th>\n",
              "      <td>2008-2009</td>\n",
              "      <td>1838593</td>\n",
              "      <td>1648801.5</td>\n",
              "      <td>359327.6</td>\n",
              "      <td>212921.7</td>\n",
              "      <td>153244.8</td>\n",
              "      <td>102163.2</td>\n",
              "      <td>87973.9</td>\n",
              "      <td>31216.5</td>\n",
              "    </tr>\n",
              "    <tr>\n",
              "      <th>8</th>\n",
              "      <td>2009-2010</td>\n",
              "      <td>2357411</td>\n",
              "      <td>2070944.3</td>\n",
              "      <td>398196.5</td>\n",
              "      <td>251241.0</td>\n",
              "      <td>204582.0</td>\n",
              "      <td>136388.0</td>\n",
              "      <td>107674.7</td>\n",
              "      <td>39480.7</td>\n",
              "    </tr>\n",
              "    <tr>\n",
              "      <th>9</th>\n",
              "      <td>2010-2011</td>\n",
              "      <td>2987296</td>\n",
              "      <td>2619488.2</td>\n",
              "      <td>522065.8</td>\n",
              "      <td>286828.2</td>\n",
              "      <td>261032.9</td>\n",
              "      <td>178601.4</td>\n",
              "      <td>141965.2</td>\n",
              "      <td>50374.7</td>\n",
              "    </tr>\n",
              "  </tbody>\n",
              "</table>\n",
              "</div>\n",
              "      <button class=\"colab-df-convert\" onclick=\"convertToInteractive('df-39d35fd8-7023-4962-86de-5021683538d2')\"\n",
              "              title=\"Convert this dataframe to an interactive table.\"\n",
              "              style=\"display:none;\">\n",
              "        \n",
              "  <svg xmlns=\"http://www.w3.org/2000/svg\" height=\"24px\"viewBox=\"0 0 24 24\"\n",
              "       width=\"24px\">\n",
              "    <path d=\"M0 0h24v24H0V0z\" fill=\"none\"/>\n",
              "    <path d=\"M18.56 5.44l.94 2.06.94-2.06 2.06-.94-2.06-.94-.94-2.06-.94 2.06-2.06.94zm-11 1L8.5 8.5l.94-2.06 2.06-.94-2.06-.94L8.5 2.5l-.94 2.06-2.06.94zm10 10l.94 2.06.94-2.06 2.06-.94-2.06-.94-.94-2.06-.94 2.06-2.06.94z\"/><path d=\"M17.41 7.96l-1.37-1.37c-.4-.4-.92-.59-1.43-.59-.52 0-1.04.2-1.43.59L10.3 9.45l-7.72 7.72c-.78.78-.78 2.05 0 2.83L4 21.41c.39.39.9.59 1.41.59.51 0 1.02-.2 1.41-.59l7.78-7.78 2.81-2.81c.8-.78.8-2.07 0-2.86zM5.41 20L4 18.59l7.72-7.72 1.47 1.35L5.41 20z\"/>\n",
              "  </svg>\n",
              "      </button>\n",
              "      \n",
              "  <style>\n",
              "    .colab-df-container {\n",
              "      display:flex;\n",
              "      flex-wrap:wrap;\n",
              "      gap: 12px;\n",
              "    }\n",
              "\n",
              "    .colab-df-convert {\n",
              "      background-color: #E8F0FE;\n",
              "      border: none;\n",
              "      border-radius: 50%;\n",
              "      cursor: pointer;\n",
              "      display: none;\n",
              "      fill: #1967D2;\n",
              "      height: 32px;\n",
              "      padding: 0 0 0 0;\n",
              "      width: 32px;\n",
              "    }\n",
              "\n",
              "    .colab-df-convert:hover {\n",
              "      background-color: #E2EBFA;\n",
              "      box-shadow: 0px 1px 2px rgba(60, 64, 67, 0.3), 0px 1px 3px 1px rgba(60, 64, 67, 0.15);\n",
              "      fill: #174EA6;\n",
              "    }\n",
              "\n",
              "    [theme=dark] .colab-df-convert {\n",
              "      background-color: #3B4455;\n",
              "      fill: #D2E3FC;\n",
              "    }\n",
              "\n",
              "    [theme=dark] .colab-df-convert:hover {\n",
              "      background-color: #434B5C;\n",
              "      box-shadow: 0px 1px 3px 1px rgba(0, 0, 0, 0.15);\n",
              "      filter: drop-shadow(0px 1px 2px rgba(0, 0, 0, 0.3));\n",
              "      fill: #FFFFFF;\n",
              "    }\n",
              "  </style>\n",
              "\n",
              "      <script>\n",
              "        const buttonEl =\n",
              "          document.querySelector('#df-39d35fd8-7023-4962-86de-5021683538d2 button.colab-df-convert');\n",
              "        buttonEl.style.display =\n",
              "          google.colab.kernel.accessAllowed ? 'block' : 'none';\n",
              "\n",
              "        async function convertToInteractive(key) {\n",
              "          const element = document.querySelector('#df-39d35fd8-7023-4962-86de-5021683538d2');\n",
              "          const dataTable =\n",
              "            await google.colab.kernel.invokeFunction('convertToInteractive',\n",
              "                                                     [key], {});\n",
              "          if (!dataTable) return;\n",
              "\n",
              "          const docLinkHtml = 'Like what you see? Visit the ' +\n",
              "            '<a target=\"_blank\" href=https://colab.research.google.com/notebooks/data_table.ipynb>data table notebook</a>'\n",
              "            + ' to learn more about interactive tables.';\n",
              "          element.innerHTML = '';\n",
              "          dataTable['output_type'] = 'display_data';\n",
              "          await google.colab.output.renderOutput(dataTable, element);\n",
              "          const docLink = document.createElement('div');\n",
              "          docLink.innerHTML = docLinkHtml;\n",
              "          element.appendChild(docLink);\n",
              "        }\n",
              "      </script>\n",
              "    </div>\n",
              "  </div>\n",
              "  "
            ]
          },
          "metadata": {},
          "execution_count": 4
        }
      ]
    },
    {
      "cell_type": "code",
      "source": [
        "#delete column \n",
        "del df[\"Year\"]\n",
        "\n",
        "df.head()"
      ],
      "metadata": {
        "colab": {
          "base_uri": "https://localhost:8080/",
          "height": 206
        },
        "id": "PYouB_fhYr-V",
        "outputId": "cdf50366-9bb8-4f90-e162-7ebeb0f486cc"
      },
      "execution_count": 5,
      "outputs": [
        {
          "output_type": "execute_result",
          "data": {
            "text/plain": [
              "   no_of_cars      steel  plastics      iron   rubber  aluminium    glass  \\\n",
              "0      669719   505463.7   86072.3   70039.2  38816.9    24471.5  25315.3   \n",
              "1      723330   572265.4  100524.4   76557.2  44020.4    28708.9  29665.9   \n",
              "2      989560   811239.3  139558.5  108891.2  61251.2    42195.3  40834.2   \n",
              "3     1209876  1045361.9  187176.3  139499.3  82993.2    54740.2  51208.6   \n",
              "4     1309300  1151778.1  206929.6  150316.8  93703.9    62469.3  56612.8   \n",
              "\n",
              "    copper  \n",
              "0   8016.5  \n",
              "1   9569.6  \n",
              "2  13611.4  \n",
              "3  19423.9  \n",
              "4  19521.6  "
            ],
            "text/html": [
              "\n",
              "  <div id=\"df-6219d22d-bc34-41cc-8c73-c71dcb3281f2\">\n",
              "    <div class=\"colab-df-container\">\n",
              "      <div>\n",
              "<style scoped>\n",
              "    .dataframe tbody tr th:only-of-type {\n",
              "        vertical-align: middle;\n",
              "    }\n",
              "\n",
              "    .dataframe tbody tr th {\n",
              "        vertical-align: top;\n",
              "    }\n",
              "\n",
              "    .dataframe thead th {\n",
              "        text-align: right;\n",
              "    }\n",
              "</style>\n",
              "<table border=\"1\" class=\"dataframe\">\n",
              "  <thead>\n",
              "    <tr style=\"text-align: right;\">\n",
              "      <th></th>\n",
              "      <th>no_of_cars</th>\n",
              "      <th>steel</th>\n",
              "      <th>plastics</th>\n",
              "      <th>iron</th>\n",
              "      <th>rubber</th>\n",
              "      <th>aluminium</th>\n",
              "      <th>glass</th>\n",
              "      <th>copper</th>\n",
              "    </tr>\n",
              "  </thead>\n",
              "  <tbody>\n",
              "    <tr>\n",
              "      <th>0</th>\n",
              "      <td>669719</td>\n",
              "      <td>505463.7</td>\n",
              "      <td>86072.3</td>\n",
              "      <td>70039.2</td>\n",
              "      <td>38816.9</td>\n",
              "      <td>24471.5</td>\n",
              "      <td>25315.3</td>\n",
              "      <td>8016.5</td>\n",
              "    </tr>\n",
              "    <tr>\n",
              "      <th>1</th>\n",
              "      <td>723330</td>\n",
              "      <td>572265.4</td>\n",
              "      <td>100524.4</td>\n",
              "      <td>76557.2</td>\n",
              "      <td>44020.4</td>\n",
              "      <td>28708.9</td>\n",
              "      <td>29665.9</td>\n",
              "      <td>9569.6</td>\n",
              "    </tr>\n",
              "    <tr>\n",
              "      <th>2</th>\n",
              "      <td>989560</td>\n",
              "      <td>811239.3</td>\n",
              "      <td>139558.5</td>\n",
              "      <td>108891.2</td>\n",
              "      <td>61251.2</td>\n",
              "      <td>42195.3</td>\n",
              "      <td>40834.2</td>\n",
              "      <td>13611.4</td>\n",
              "    </tr>\n",
              "    <tr>\n",
              "      <th>3</th>\n",
              "      <td>1209876</td>\n",
              "      <td>1045361.9</td>\n",
              "      <td>187176.3</td>\n",
              "      <td>139499.3</td>\n",
              "      <td>82993.2</td>\n",
              "      <td>54740.2</td>\n",
              "      <td>51208.6</td>\n",
              "      <td>19423.9</td>\n",
              "    </tr>\n",
              "    <tr>\n",
              "      <th>4</th>\n",
              "      <td>1309300</td>\n",
              "      <td>1151778.1</td>\n",
              "      <td>206929.6</td>\n",
              "      <td>150316.8</td>\n",
              "      <td>93703.9</td>\n",
              "      <td>62469.3</td>\n",
              "      <td>56612.8</td>\n",
              "      <td>19521.6</td>\n",
              "    </tr>\n",
              "  </tbody>\n",
              "</table>\n",
              "</div>\n",
              "      <button class=\"colab-df-convert\" onclick=\"convertToInteractive('df-6219d22d-bc34-41cc-8c73-c71dcb3281f2')\"\n",
              "              title=\"Convert this dataframe to an interactive table.\"\n",
              "              style=\"display:none;\">\n",
              "        \n",
              "  <svg xmlns=\"http://www.w3.org/2000/svg\" height=\"24px\"viewBox=\"0 0 24 24\"\n",
              "       width=\"24px\">\n",
              "    <path d=\"M0 0h24v24H0V0z\" fill=\"none\"/>\n",
              "    <path d=\"M18.56 5.44l.94 2.06.94-2.06 2.06-.94-2.06-.94-.94-2.06-.94 2.06-2.06.94zm-11 1L8.5 8.5l.94-2.06 2.06-.94-2.06-.94L8.5 2.5l-.94 2.06-2.06.94zm10 10l.94 2.06.94-2.06 2.06-.94-2.06-.94-.94-2.06-.94 2.06-2.06.94z\"/><path d=\"M17.41 7.96l-1.37-1.37c-.4-.4-.92-.59-1.43-.59-.52 0-1.04.2-1.43.59L10.3 9.45l-7.72 7.72c-.78.78-.78 2.05 0 2.83L4 21.41c.39.39.9.59 1.41.59.51 0 1.02-.2 1.41-.59l7.78-7.78 2.81-2.81c.8-.78.8-2.07 0-2.86zM5.41 20L4 18.59l7.72-7.72 1.47 1.35L5.41 20z\"/>\n",
              "  </svg>\n",
              "      </button>\n",
              "      \n",
              "  <style>\n",
              "    .colab-df-container {\n",
              "      display:flex;\n",
              "      flex-wrap:wrap;\n",
              "      gap: 12px;\n",
              "    }\n",
              "\n",
              "    .colab-df-convert {\n",
              "      background-color: #E8F0FE;\n",
              "      border: none;\n",
              "      border-radius: 50%;\n",
              "      cursor: pointer;\n",
              "      display: none;\n",
              "      fill: #1967D2;\n",
              "      height: 32px;\n",
              "      padding: 0 0 0 0;\n",
              "      width: 32px;\n",
              "    }\n",
              "\n",
              "    .colab-df-convert:hover {\n",
              "      background-color: #E2EBFA;\n",
              "      box-shadow: 0px 1px 2px rgba(60, 64, 67, 0.3), 0px 1px 3px 1px rgba(60, 64, 67, 0.15);\n",
              "      fill: #174EA6;\n",
              "    }\n",
              "\n",
              "    [theme=dark] .colab-df-convert {\n",
              "      background-color: #3B4455;\n",
              "      fill: #D2E3FC;\n",
              "    }\n",
              "\n",
              "    [theme=dark] .colab-df-convert:hover {\n",
              "      background-color: #434B5C;\n",
              "      box-shadow: 0px 1px 3px 1px rgba(0, 0, 0, 0.15);\n",
              "      filter: drop-shadow(0px 1px 2px rgba(0, 0, 0, 0.3));\n",
              "      fill: #FFFFFF;\n",
              "    }\n",
              "  </style>\n",
              "\n",
              "      <script>\n",
              "        const buttonEl =\n",
              "          document.querySelector('#df-6219d22d-bc34-41cc-8c73-c71dcb3281f2 button.colab-df-convert');\n",
              "        buttonEl.style.display =\n",
              "          google.colab.kernel.accessAllowed ? 'block' : 'none';\n",
              "\n",
              "        async function convertToInteractive(key) {\n",
              "          const element = document.querySelector('#df-6219d22d-bc34-41cc-8c73-c71dcb3281f2');\n",
              "          const dataTable =\n",
              "            await google.colab.kernel.invokeFunction('convertToInteractive',\n",
              "                                                     [key], {});\n",
              "          if (!dataTable) return;\n",
              "\n",
              "          const docLinkHtml = 'Like what you see? Visit the ' +\n",
              "            '<a target=\"_blank\" href=https://colab.research.google.com/notebooks/data_table.ipynb>data table notebook</a>'\n",
              "            + ' to learn more about interactive tables.';\n",
              "          element.innerHTML = '';\n",
              "          dataTable['output_type'] = 'display_data';\n",
              "          await google.colab.output.renderOutput(dataTable, element);\n",
              "          const docLink = document.createElement('div');\n",
              "          docLink.innerHTML = docLinkHtml;\n",
              "          element.appendChild(docLink);\n",
              "        }\n",
              "      </script>\n",
              "    </div>\n",
              "  </div>\n",
              "  "
            ]
          },
          "metadata": {},
          "execution_count": 5
        }
      ]
    },
    {
      "cell_type": "code",
      "source": [
        "'''from sklearn.preprocessing import StandardScaler\n",
        "cols_to_norm = ['no_of_cars','steel','plastics','iron','rubber','aluminium','glass','copper']\n",
        "df[cols_to_norm] = StandardScaler().fit_transform(df[cols_to_norm])\n",
        "df.head(10)'''"
      ],
      "metadata": {
        "colab": {
          "base_uri": "https://localhost:8080/",
          "height": 53
        },
        "id": "W3rQuFbXhMm1",
        "outputId": "bff930d5-3d5c-47df-fb1d-ca99c7ad8dc2"
      },
      "execution_count": 6,
      "outputs": [
        {
          "output_type": "execute_result",
          "data": {
            "text/plain": [
              "\"from sklearn.preprocessing import StandardScaler\\ncols_to_norm = ['no_of_cars','steel','plastics','iron','rubber','aluminium','glass','copper']\\ndf[cols_to_norm] = StandardScaler().fit_transform(df[cols_to_norm])\\ndf.head(10)\""
            ],
            "application/vnd.google.colaboratory.intrinsic+json": {
              "type": "string"
            }
          },
          "metadata": {},
          "execution_count": 6
        }
      ]
    },
    {
      "cell_type": "code",
      "source": [
        "np.random.seed(99)\n",
        "msk = np.random.rand(len(df)) < 0.8\n",
        "train = df[msk]\n",
        "test = df[~msk]"
      ],
      "metadata": {
        "id": "9XJldiijZI8D"
      },
      "execution_count": 7,
      "outputs": []
    },
    {
      "cell_type": "code",
      "source": [
        "gbr = GradientBoostingRegressor()\n",
        "model = MultiOutputRegressor(estimator=gbr)\n",
        "print(model)\n"
      ],
      "metadata": {
        "id": "mFTLJASjZQoA",
        "colab": {
          "base_uri": "https://localhost:8080/"
        },
        "outputId": "a7d7b5f7-6189-4ba5-9e1a-ddcd7cbeecea"
      },
      "execution_count": 8,
      "outputs": [
        {
          "output_type": "stream",
          "name": "stdout",
          "text": [
            "MultiOutputRegressor(estimator=GradientBoostingRegressor())\n"
          ]
        }
      ]
    },
    {
      "cell_type": "code",
      "source": [
        ""
      ],
      "metadata": {
        "id": "ReGVMV2UhqPD"
      },
      "execution_count": 8,
      "outputs": []
    },
    {
      "cell_type": "code",
      "source": [
        "train_x = np.asanyarray(train[['no_of_cars']])\n",
        "train_y = np.asanyarray(train[[\"steel\",\"plastics\",\"iron\",\"rubber\",\"aluminium\",\"glass\",\"copper\"]])"
      ],
      "metadata": {
        "id": "BDRnLOG4h5Zj"
      },
      "execution_count": 9,
      "outputs": []
    },
    {
      "cell_type": "code",
      "source": [
        "test_x = np.asanyarray(test[['no_of_cars']])\n",
        "test_y = np.asanyarray(test[[\"steel\",\"plastics\",\"iron\",\"rubber\",\"aluminium\",\"glass\",\"copper\"]])"
      ],
      "metadata": {
        "id": "7-yoYloakKId"
      },
      "execution_count": 10,
      "outputs": []
    },
    {
      "cell_type": "code",
      "source": [
        "model.fit(train_x, train_y)\n",
        "score = model.score(train_x, train_y)\n",
        "print(\"Training score:\", score)"
      ],
      "metadata": {
        "colab": {
          "base_uri": "https://localhost:8080/"
        },
        "id": "UiiQtW1Eh8r4",
        "outputId": "11d7763a-1c6a-49d7-f180-2ea59a99e7fd"
      },
      "execution_count": 11,
      "outputs": [
        {
          "output_type": "stream",
          "name": "stdout",
          "text": [
            "Training score: 0.9999991622821859\n"
          ]
        }
      ]
    },
    {
      "cell_type": "code",
      "source": [
        "ypred = model.predict(test_x)\n",
        "from sklearn.metrics import mean_squared_error\n",
        "print(\"y1 MSE:%.4f\" % mean_squared_error(test_x[:,0], ypred[:,0]))\n",
        "#print(\"y2 MSE:%.4f\" % mean_squared_error(test_y[:,1], ypred[:,1]))\n",
        "\n"
      ],
      "metadata": {
        "id": "ngemlYC6juyZ",
        "colab": {
          "base_uri": "https://localhost:8080/"
        },
        "outputId": "d1d88c7d-29cc-41b9-fc35-1651600b427c"
      },
      "execution_count": 12,
      "outputs": [
        {
          "output_type": "stream",
          "name": "stdout",
          "text": [
            "y1 MSE:304056607823.0040\n"
          ]
        }
      ]
    },
    {
      "cell_type": "code",
      "source": [
        "test_x = np.asanyarray(test[['no_of_cars']])\n",
        "test_y = np.asanyarray(test[[\"steel\",\"plastics\",\"iron\",\"rubber\",\"aluminium\",\"glass\",\"copper\"]])\n",
        "test_y_hat =model.predict(test_x)\n",
        "from sklearn.metrics import r2_score\n",
        "\n",
        "print(\"Mean absolute error: %.2f\" % np.mean(np.absolute(test_y_hat - test_y)))\n",
        "\n",
        "print(\"R2-score: %.2f\" % r2_score(test_y_hat , test_y) )\n",
        "rmse= mean_squared_error( test_y,test_y_hat, squared=False)\n",
        "nrmse = rmse/np.std(test_y)\n",
        "print(\"Rmse: %.2f\" % nrmse)"
      ],
      "metadata": {
        "colab": {
          "base_uri": "https://localhost:8080/"
        },
        "id": "Zp9TEeeKK3N8",
        "outputId": "ed5d47be-c99e-499c-ea92-f160f00d3b37"
      },
      "execution_count": 13,
      "outputs": [
        {
          "output_type": "stream",
          "name": "stdout",
          "text": [
            "Mean absolute error: 42139.81\n",
            "R2-score: 0.91\n",
            "Rmse: 0.07\n"
          ]
        }
      ]
    },
    {
      "cell_type": "code",
      "source": [
        "output= model.predict([['669719000']])\n",
        "output\n"
      ],
      "metadata": {
        "colab": {
          "base_uri": "https://localhost:8080/"
        },
        "id": "3lJpjqc5kWj5",
        "outputId": "eb1cddb1-598c-44fb-b798-512f3abe6dd3"
      },
      "execution_count": 14,
      "outputs": [
        {
          "output_type": "execute_result",
          "data": {
            "text/plain": [
              "array([[3303262.23597975,  786813.43508307,  318419.36442393,\n",
              "         300205.14638404,  342328.24984707,  186186.45464482,\n",
              "          71273.03411257]])"
            ]
          },
          "metadata": {},
          "execution_count": 14
        }
      ]
    },
    {
      "cell_type": "code",
      "source": [
        ""
      ],
      "metadata": {
        "id": "k_ejkAq7ka8a",
        "colab": {
          "base_uri": "https://localhost:8080/",
          "height": 88
        },
        "outputId": "376e8287-235d-4959-e769-33698be80853"
      },
      "execution_count": 15,
      "outputs": [
        {
          "output_type": "execute_result",
          "data": {
            "text/plain": [
              "'for  i in range(1,101):\\n  np.random.seed(i)\\n  msk = np.random.rand(len(df)) < 0.7\\n  train = df[msk]\\n  test = df[~msk]\\n  gbr = GradientBoostingRegressor()\\n  model = MultiOutputRegressor(estimator=gbr)\\n  train_x = np.asanyarray(train[[\\'no_of_cars\\']])\\n  train_y = np.asanyarray(train[[\"steel\",\"plastics\",\"iron\",\"rubber\",\"aluminium\",\"glass\",\"copper\"]])\\n  model.fit(train_x, train_y)\\n  test_x = np.asanyarray(test[[\\'no_of_cars\\']])\\n  test_y = np.asanyarray(test[[\"steel\",\"plastics\",\"iron\",\"rubber\",\"aluminium\",\"glass\",\"copper\"]])\\n  test_y_hat =model.predict(test_x)\\n  np.mean(np.absolute(test_y_hat - test_y))\\n  np.mean((test_y_hat - test_y) ** 2)\\n  print(i,\"R2-score: %.2f\" % r2_score(test_y_hat , test_y) )'"
            ],
            "application/vnd.google.colaboratory.intrinsic+json": {
              "type": "string"
            }
          },
          "metadata": {},
          "execution_count": 15
        }
      ]
    },
    {
      "cell_type": "code",
      "source": [
        "gbr = GradientBoostingRegressor()\n",
        "model = MultiOutputRegressor(estimator=gbr)\n",
        "print(model)\n"
      ],
      "metadata": {
        "id": "qISphysFlsuz",
        "colab": {
          "base_uri": "https://localhost:8080/"
        },
        "outputId": "16153349-e5af-4230-bb90-61e054c5453e"
      },
      "execution_count": 16,
      "outputs": [
        {
          "output_type": "stream",
          "name": "stdout",
          "text": [
            "MultiOutputRegressor(estimator=GradientBoostingRegressor())\n"
          ]
        }
      ]
    },
    {
      "cell_type": "code",
      "source": [
        "train_x = np.asanyarray(train[['no_of_cars']])\n",
        "train_y = np.asanyarray(train[['copper']])\n",
        "test_x = np.asanyarray(test[['no_of_cars']])\n",
        "test_y = np.asanyarray(test[['copper']])\n",
        "model.fit(train_x, train_y)\n",
        "score = model.score(train_x, train_y)\n",
        "test_x = np.asanyarray(test[['no_of_cars']])\n",
        "test_y = np.asanyarray(test[[\"copper\"]])\n",
        "test_y_hat =model.predict(test_x)\n",
        "from sklearn.metrics import r2_score\n",
        "\n",
        "print(\"Mean absolute error: %.2f\" % np.mean(np.absolute(test_y_hat - test_y)))\n",
        "\n",
        "print(\"R2-score: %.2f\" % r2_score(test_y_hat , test_y) )\n",
        "rmse= mean_squared_error( test_y,test_y_hat, squared=False)\n",
        "nrmse = rmse/np.std(test_y)\n",
        "print(\"Rmse: %.2f\" % nrmse)"
      ],
      "metadata": {
        "colab": {
          "base_uri": "https://localhost:8080/"
        },
        "id": "OrBXVUhrfU9d",
        "outputId": "997f6af9-41e8-4a5f-cd86-8067a52b34c0"
      },
      "execution_count": 17,
      "outputs": [
        {
          "output_type": "stream",
          "name": "stdout",
          "text": [
            "Mean absolute error: 3984.54\n",
            "R2-score: 0.94\n",
            "Rmse: 0.25\n"
          ]
        }
      ]
    }
  ]
}