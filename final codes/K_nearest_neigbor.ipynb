{
  "cells": [
    {
      "cell_type": "code",
      "execution_count": 84,
      "metadata": {
        "id": "oxWOtJFeaCQF"
      },
      "outputs": [],
      "source": [
        "import pandas as pd\n",
        "import numpy as np\n",
        "from sklearn.svm import SVR\n",
        "from sklearn import preprocessing\n",
        "import matplotlib.pyplot as plt  \n",
        "\n",
        "from sklearn import utils\n",
        "from sklearn.metrics import mean_squared_error\n",
        "\n",
        "%matplotlib inline"
      ]
    },
    {
      "cell_type": "code",
      "execution_count": 85,
      "metadata": {
        "colab": {
          "base_uri": "https://localhost:8080/"
        },
        "id": "MGAnCNEIaLdR",
        "outputId": "673ce7b5-e2d0-4b88-e2d8-bed6d806ca63"
      },
      "outputs": [
        {
          "output_type": "stream",
          "name": "stdout",
          "text": [
            "Cloning into 'raw-materials-forecasting'...\n",
            "remote: Enumerating objects: 47, done.\u001b[K\n",
            "remote: Counting objects: 100% (28/28), done.\u001b[K\n",
            "remote: Compressing objects: 100% (28/28), done.\u001b[K\n",
            "remote: Total 47 (delta 8), reused 0 (delta 0), pack-reused 19\u001b[K\n",
            "Unpacking objects: 100% (47/47), done.\n"
          ]
        }
      ],
      "source": [
        "!git clone https://github.com/Nitesh167/raw-materials-forecasting.git"
      ]
    },
    {
      "cell_type": "code",
      "execution_count": 86,
      "metadata": {
        "colab": {
          "base_uri": "https://localhost:8080/"
        },
        "id": "eRcFwsw-aNsQ",
        "outputId": "ec92c71c-3e6f-42b9-cf30-e48e7f7e3b5b"
      },
      "outputs": [
        {
          "output_type": "stream",
          "name": "stdout",
          "text": [
            "/content/raw-materials-forecasting/raw-materials-forecasting/raw-materials-forecasting/raw-materials-forecasting\n"
          ]
        }
      ],
      "source": [
        "cd raw-materials-forecasting/"
      ]
    },
    {
      "cell_type": "code",
      "execution_count": 87,
      "metadata": {
        "colab": {
          "base_uri": "https://localhost:8080/",
          "height": 363
        },
        "id": "QOOGvrR1aP6U",
        "outputId": "7884c8c2-b0a3-4075-d797-80ac888c5bbf"
      },
      "outputs": [
        {
          "output_type": "execute_result",
          "data": {
            "text/plain": [
              "        Year  no_of_cars      steel  plastics      iron    rubber  aluminium  \\\n",
              "0  2001-2002      669719   505463.7   86072.3   70039.2   38816.9    24471.5   \n",
              "1  2002-2003      723330   572265.4  100524.4   76557.2   44020.4    28708.9   \n",
              "2  2003-2004      989560   811239.3  139558.5  108891.2   61251.2    42195.3   \n",
              "3  2004-2005     1209876  1045361.9  187176.3  139499.3   82993.2    54740.2   \n",
              "4  2005-2006     1309300  1151778.1  206929.6  150316.8   93703.9    62469.3   \n",
              "5  2006-2007     1545234  1409559.4  259339.7  177695.7  117663.3    79242.6   \n",
              "6  2007-2008     1777583  1645920.9  311564.3  208558.4  146554.6    98642.5   \n",
              "7  2008-2009     1838593  1648801.5  359327.6  212921.7  153244.8   102163.2   \n",
              "8  2009-2010     2357411  2070944.3  398196.5  251241.0  204582.0   136388.0   \n",
              "9  2010-2011     2987296  2619488.2  522065.8  286828.2  261032.9   178601.4   \n",
              "\n",
              "      glass   copper  \n",
              "0   25315.3   8016.5  \n",
              "1   29665.9   9569.6  \n",
              "2   40834.2  13611.4  \n",
              "3   51208.6  19423.9  \n",
              "4   56612.8  19521.6  \n",
              "5   72038.8  24012.9  \n",
              "6   90187.4  28183.5  \n",
              "7   87973.9  31216.5  \n",
              "8  107674.7  39480.7  \n",
              "9  141965.2  50374.7  "
            ],
            "text/html": [
              "\n",
              "  <div id=\"df-856b99b1-b59d-4edf-9d8b-c56f14f94c77\">\n",
              "    <div class=\"colab-df-container\">\n",
              "      <div>\n",
              "<style scoped>\n",
              "    .dataframe tbody tr th:only-of-type {\n",
              "        vertical-align: middle;\n",
              "    }\n",
              "\n",
              "    .dataframe tbody tr th {\n",
              "        vertical-align: top;\n",
              "    }\n",
              "\n",
              "    .dataframe thead th {\n",
              "        text-align: right;\n",
              "    }\n",
              "</style>\n",
              "<table border=\"1\" class=\"dataframe\">\n",
              "  <thead>\n",
              "    <tr style=\"text-align: right;\">\n",
              "      <th></th>\n",
              "      <th>Year</th>\n",
              "      <th>no_of_cars</th>\n",
              "      <th>steel</th>\n",
              "      <th>plastics</th>\n",
              "      <th>iron</th>\n",
              "      <th>rubber</th>\n",
              "      <th>aluminium</th>\n",
              "      <th>glass</th>\n",
              "      <th>copper</th>\n",
              "    </tr>\n",
              "  </thead>\n",
              "  <tbody>\n",
              "    <tr>\n",
              "      <th>0</th>\n",
              "      <td>2001-2002</td>\n",
              "      <td>669719</td>\n",
              "      <td>505463.7</td>\n",
              "      <td>86072.3</td>\n",
              "      <td>70039.2</td>\n",
              "      <td>38816.9</td>\n",
              "      <td>24471.5</td>\n",
              "      <td>25315.3</td>\n",
              "      <td>8016.5</td>\n",
              "    </tr>\n",
              "    <tr>\n",
              "      <th>1</th>\n",
              "      <td>2002-2003</td>\n",
              "      <td>723330</td>\n",
              "      <td>572265.4</td>\n",
              "      <td>100524.4</td>\n",
              "      <td>76557.2</td>\n",
              "      <td>44020.4</td>\n",
              "      <td>28708.9</td>\n",
              "      <td>29665.9</td>\n",
              "      <td>9569.6</td>\n",
              "    </tr>\n",
              "    <tr>\n",
              "      <th>2</th>\n",
              "      <td>2003-2004</td>\n",
              "      <td>989560</td>\n",
              "      <td>811239.3</td>\n",
              "      <td>139558.5</td>\n",
              "      <td>108891.2</td>\n",
              "      <td>61251.2</td>\n",
              "      <td>42195.3</td>\n",
              "      <td>40834.2</td>\n",
              "      <td>13611.4</td>\n",
              "    </tr>\n",
              "    <tr>\n",
              "      <th>3</th>\n",
              "      <td>2004-2005</td>\n",
              "      <td>1209876</td>\n",
              "      <td>1045361.9</td>\n",
              "      <td>187176.3</td>\n",
              "      <td>139499.3</td>\n",
              "      <td>82993.2</td>\n",
              "      <td>54740.2</td>\n",
              "      <td>51208.6</td>\n",
              "      <td>19423.9</td>\n",
              "    </tr>\n",
              "    <tr>\n",
              "      <th>4</th>\n",
              "      <td>2005-2006</td>\n",
              "      <td>1309300</td>\n",
              "      <td>1151778.1</td>\n",
              "      <td>206929.6</td>\n",
              "      <td>150316.8</td>\n",
              "      <td>93703.9</td>\n",
              "      <td>62469.3</td>\n",
              "      <td>56612.8</td>\n",
              "      <td>19521.6</td>\n",
              "    </tr>\n",
              "    <tr>\n",
              "      <th>5</th>\n",
              "      <td>2006-2007</td>\n",
              "      <td>1545234</td>\n",
              "      <td>1409559.4</td>\n",
              "      <td>259339.7</td>\n",
              "      <td>177695.7</td>\n",
              "      <td>117663.3</td>\n",
              "      <td>79242.6</td>\n",
              "      <td>72038.8</td>\n",
              "      <td>24012.9</td>\n",
              "    </tr>\n",
              "    <tr>\n",
              "      <th>6</th>\n",
              "      <td>2007-2008</td>\n",
              "      <td>1777583</td>\n",
              "      <td>1645920.9</td>\n",
              "      <td>311564.3</td>\n",
              "      <td>208558.4</td>\n",
              "      <td>146554.6</td>\n",
              "      <td>98642.5</td>\n",
              "      <td>90187.4</td>\n",
              "      <td>28183.5</td>\n",
              "    </tr>\n",
              "    <tr>\n",
              "      <th>7</th>\n",
              "      <td>2008-2009</td>\n",
              "      <td>1838593</td>\n",
              "      <td>1648801.5</td>\n",
              "      <td>359327.6</td>\n",
              "      <td>212921.7</td>\n",
              "      <td>153244.8</td>\n",
              "      <td>102163.2</td>\n",
              "      <td>87973.9</td>\n",
              "      <td>31216.5</td>\n",
              "    </tr>\n",
              "    <tr>\n",
              "      <th>8</th>\n",
              "      <td>2009-2010</td>\n",
              "      <td>2357411</td>\n",
              "      <td>2070944.3</td>\n",
              "      <td>398196.5</td>\n",
              "      <td>251241.0</td>\n",
              "      <td>204582.0</td>\n",
              "      <td>136388.0</td>\n",
              "      <td>107674.7</td>\n",
              "      <td>39480.7</td>\n",
              "    </tr>\n",
              "    <tr>\n",
              "      <th>9</th>\n",
              "      <td>2010-2011</td>\n",
              "      <td>2987296</td>\n",
              "      <td>2619488.2</td>\n",
              "      <td>522065.8</td>\n",
              "      <td>286828.2</td>\n",
              "      <td>261032.9</td>\n",
              "      <td>178601.4</td>\n",
              "      <td>141965.2</td>\n",
              "      <td>50374.7</td>\n",
              "    </tr>\n",
              "  </tbody>\n",
              "</table>\n",
              "</div>\n",
              "      <button class=\"colab-df-convert\" onclick=\"convertToInteractive('df-856b99b1-b59d-4edf-9d8b-c56f14f94c77')\"\n",
              "              title=\"Convert this dataframe to an interactive table.\"\n",
              "              style=\"display:none;\">\n",
              "        \n",
              "  <svg xmlns=\"http://www.w3.org/2000/svg\" height=\"24px\"viewBox=\"0 0 24 24\"\n",
              "       width=\"24px\">\n",
              "    <path d=\"M0 0h24v24H0V0z\" fill=\"none\"/>\n",
              "    <path d=\"M18.56 5.44l.94 2.06.94-2.06 2.06-.94-2.06-.94-.94-2.06-.94 2.06-2.06.94zm-11 1L8.5 8.5l.94-2.06 2.06-.94-2.06-.94L8.5 2.5l-.94 2.06-2.06.94zm10 10l.94 2.06.94-2.06 2.06-.94-2.06-.94-.94-2.06-.94 2.06-2.06.94z\"/><path d=\"M17.41 7.96l-1.37-1.37c-.4-.4-.92-.59-1.43-.59-.52 0-1.04.2-1.43.59L10.3 9.45l-7.72 7.72c-.78.78-.78 2.05 0 2.83L4 21.41c.39.39.9.59 1.41.59.51 0 1.02-.2 1.41-.59l7.78-7.78 2.81-2.81c.8-.78.8-2.07 0-2.86zM5.41 20L4 18.59l7.72-7.72 1.47 1.35L5.41 20z\"/>\n",
              "  </svg>\n",
              "      </button>\n",
              "      \n",
              "  <style>\n",
              "    .colab-df-container {\n",
              "      display:flex;\n",
              "      flex-wrap:wrap;\n",
              "      gap: 12px;\n",
              "    }\n",
              "\n",
              "    .colab-df-convert {\n",
              "      background-color: #E8F0FE;\n",
              "      border: none;\n",
              "      border-radius: 50%;\n",
              "      cursor: pointer;\n",
              "      display: none;\n",
              "      fill: #1967D2;\n",
              "      height: 32px;\n",
              "      padding: 0 0 0 0;\n",
              "      width: 32px;\n",
              "    }\n",
              "\n",
              "    .colab-df-convert:hover {\n",
              "      background-color: #E2EBFA;\n",
              "      box-shadow: 0px 1px 2px rgba(60, 64, 67, 0.3), 0px 1px 3px 1px rgba(60, 64, 67, 0.15);\n",
              "      fill: #174EA6;\n",
              "    }\n",
              "\n",
              "    [theme=dark] .colab-df-convert {\n",
              "      background-color: #3B4455;\n",
              "      fill: #D2E3FC;\n",
              "    }\n",
              "\n",
              "    [theme=dark] .colab-df-convert:hover {\n",
              "      background-color: #434B5C;\n",
              "      box-shadow: 0px 1px 3px 1px rgba(0, 0, 0, 0.15);\n",
              "      filter: drop-shadow(0px 1px 2px rgba(0, 0, 0, 0.3));\n",
              "      fill: #FFFFFF;\n",
              "    }\n",
              "  </style>\n",
              "\n",
              "      <script>\n",
              "        const buttonEl =\n",
              "          document.querySelector('#df-856b99b1-b59d-4edf-9d8b-c56f14f94c77 button.colab-df-convert');\n",
              "        buttonEl.style.display =\n",
              "          google.colab.kernel.accessAllowed ? 'block' : 'none';\n",
              "\n",
              "        async function convertToInteractive(key) {\n",
              "          const element = document.querySelector('#df-856b99b1-b59d-4edf-9d8b-c56f14f94c77');\n",
              "          const dataTable =\n",
              "            await google.colab.kernel.invokeFunction('convertToInteractive',\n",
              "                                                     [key], {});\n",
              "          if (!dataTable) return;\n",
              "\n",
              "          const docLinkHtml = 'Like what you see? Visit the ' +\n",
              "            '<a target=\"_blank\" href=https://colab.research.google.com/notebooks/data_table.ipynb>data table notebook</a>'\n",
              "            + ' to learn more about interactive tables.';\n",
              "          element.innerHTML = '';\n",
              "          dataTable['output_type'] = 'display_data';\n",
              "          await google.colab.output.renderOutput(dataTable, element);\n",
              "          const docLink = document.createElement('div');\n",
              "          docLink.innerHTML = docLinkHtml;\n",
              "          element.appendChild(docLink);\n",
              "        }\n",
              "      </script>\n",
              "    </div>\n",
              "  </div>\n",
              "  "
            ]
          },
          "metadata": {},
          "execution_count": 87
        }
      ],
      "source": [
        "df=pd.read_csv('dataset_value2.csv')\n",
        "df.columns=['Year',\"no_of_cars\",\"steel\",\"plastics\",\"iron\",\"rubber\",\"aluminium\",\"glass\",\"copper\"]\n",
        "df.head(10)"
      ]
    },
    {
      "cell_type": "code",
      "execution_count": 88,
      "metadata": {
        "colab": {
          "base_uri": "https://localhost:8080/",
          "height": 206
        },
        "id": "LrVOYflxaSuZ",
        "outputId": "b9002095-8326-435b-f12e-661103a30515"
      },
      "outputs": [
        {
          "output_type": "execute_result",
          "data": {
            "text/plain": [
              "   no_of_cars      steel  plastics      iron   rubber  aluminium    glass  \\\n",
              "0      669719   505463.7   86072.3   70039.2  38816.9    24471.5  25315.3   \n",
              "1      723330   572265.4  100524.4   76557.2  44020.4    28708.9  29665.9   \n",
              "2      989560   811239.3  139558.5  108891.2  61251.2    42195.3  40834.2   \n",
              "3     1209876  1045361.9  187176.3  139499.3  82993.2    54740.2  51208.6   \n",
              "4     1309300  1151778.1  206929.6  150316.8  93703.9    62469.3  56612.8   \n",
              "\n",
              "    copper  \n",
              "0   8016.5  \n",
              "1   9569.6  \n",
              "2  13611.4  \n",
              "3  19423.9  \n",
              "4  19521.6  "
            ],
            "text/html": [
              "\n",
              "  <div id=\"df-cca3d565-53a9-4515-b892-2a12f68b177f\">\n",
              "    <div class=\"colab-df-container\">\n",
              "      <div>\n",
              "<style scoped>\n",
              "    .dataframe tbody tr th:only-of-type {\n",
              "        vertical-align: middle;\n",
              "    }\n",
              "\n",
              "    .dataframe tbody tr th {\n",
              "        vertical-align: top;\n",
              "    }\n",
              "\n",
              "    .dataframe thead th {\n",
              "        text-align: right;\n",
              "    }\n",
              "</style>\n",
              "<table border=\"1\" class=\"dataframe\">\n",
              "  <thead>\n",
              "    <tr style=\"text-align: right;\">\n",
              "      <th></th>\n",
              "      <th>no_of_cars</th>\n",
              "      <th>steel</th>\n",
              "      <th>plastics</th>\n",
              "      <th>iron</th>\n",
              "      <th>rubber</th>\n",
              "      <th>aluminium</th>\n",
              "      <th>glass</th>\n",
              "      <th>copper</th>\n",
              "    </tr>\n",
              "  </thead>\n",
              "  <tbody>\n",
              "    <tr>\n",
              "      <th>0</th>\n",
              "      <td>669719</td>\n",
              "      <td>505463.7</td>\n",
              "      <td>86072.3</td>\n",
              "      <td>70039.2</td>\n",
              "      <td>38816.9</td>\n",
              "      <td>24471.5</td>\n",
              "      <td>25315.3</td>\n",
              "      <td>8016.5</td>\n",
              "    </tr>\n",
              "    <tr>\n",
              "      <th>1</th>\n",
              "      <td>723330</td>\n",
              "      <td>572265.4</td>\n",
              "      <td>100524.4</td>\n",
              "      <td>76557.2</td>\n",
              "      <td>44020.4</td>\n",
              "      <td>28708.9</td>\n",
              "      <td>29665.9</td>\n",
              "      <td>9569.6</td>\n",
              "    </tr>\n",
              "    <tr>\n",
              "      <th>2</th>\n",
              "      <td>989560</td>\n",
              "      <td>811239.3</td>\n",
              "      <td>139558.5</td>\n",
              "      <td>108891.2</td>\n",
              "      <td>61251.2</td>\n",
              "      <td>42195.3</td>\n",
              "      <td>40834.2</td>\n",
              "      <td>13611.4</td>\n",
              "    </tr>\n",
              "    <tr>\n",
              "      <th>3</th>\n",
              "      <td>1209876</td>\n",
              "      <td>1045361.9</td>\n",
              "      <td>187176.3</td>\n",
              "      <td>139499.3</td>\n",
              "      <td>82993.2</td>\n",
              "      <td>54740.2</td>\n",
              "      <td>51208.6</td>\n",
              "      <td>19423.9</td>\n",
              "    </tr>\n",
              "    <tr>\n",
              "      <th>4</th>\n",
              "      <td>1309300</td>\n",
              "      <td>1151778.1</td>\n",
              "      <td>206929.6</td>\n",
              "      <td>150316.8</td>\n",
              "      <td>93703.9</td>\n",
              "      <td>62469.3</td>\n",
              "      <td>56612.8</td>\n",
              "      <td>19521.6</td>\n",
              "    </tr>\n",
              "  </tbody>\n",
              "</table>\n",
              "</div>\n",
              "      <button class=\"colab-df-convert\" onclick=\"convertToInteractive('df-cca3d565-53a9-4515-b892-2a12f68b177f')\"\n",
              "              title=\"Convert this dataframe to an interactive table.\"\n",
              "              style=\"display:none;\">\n",
              "        \n",
              "  <svg xmlns=\"http://www.w3.org/2000/svg\" height=\"24px\"viewBox=\"0 0 24 24\"\n",
              "       width=\"24px\">\n",
              "    <path d=\"M0 0h24v24H0V0z\" fill=\"none\"/>\n",
              "    <path d=\"M18.56 5.44l.94 2.06.94-2.06 2.06-.94-2.06-.94-.94-2.06-.94 2.06-2.06.94zm-11 1L8.5 8.5l.94-2.06 2.06-.94-2.06-.94L8.5 2.5l-.94 2.06-2.06.94zm10 10l.94 2.06.94-2.06 2.06-.94-2.06-.94-.94-2.06-.94 2.06-2.06.94z\"/><path d=\"M17.41 7.96l-1.37-1.37c-.4-.4-.92-.59-1.43-.59-.52 0-1.04.2-1.43.59L10.3 9.45l-7.72 7.72c-.78.78-.78 2.05 0 2.83L4 21.41c.39.39.9.59 1.41.59.51 0 1.02-.2 1.41-.59l7.78-7.78 2.81-2.81c.8-.78.8-2.07 0-2.86zM5.41 20L4 18.59l7.72-7.72 1.47 1.35L5.41 20z\"/>\n",
              "  </svg>\n",
              "      </button>\n",
              "      \n",
              "  <style>\n",
              "    .colab-df-container {\n",
              "      display:flex;\n",
              "      flex-wrap:wrap;\n",
              "      gap: 12px;\n",
              "    }\n",
              "\n",
              "    .colab-df-convert {\n",
              "      background-color: #E8F0FE;\n",
              "      border: none;\n",
              "      border-radius: 50%;\n",
              "      cursor: pointer;\n",
              "      display: none;\n",
              "      fill: #1967D2;\n",
              "      height: 32px;\n",
              "      padding: 0 0 0 0;\n",
              "      width: 32px;\n",
              "    }\n",
              "\n",
              "    .colab-df-convert:hover {\n",
              "      background-color: #E2EBFA;\n",
              "      box-shadow: 0px 1px 2px rgba(60, 64, 67, 0.3), 0px 1px 3px 1px rgba(60, 64, 67, 0.15);\n",
              "      fill: #174EA6;\n",
              "    }\n",
              "\n",
              "    [theme=dark] .colab-df-convert {\n",
              "      background-color: #3B4455;\n",
              "      fill: #D2E3FC;\n",
              "    }\n",
              "\n",
              "    [theme=dark] .colab-df-convert:hover {\n",
              "      background-color: #434B5C;\n",
              "      box-shadow: 0px 1px 3px 1px rgba(0, 0, 0, 0.15);\n",
              "      filter: drop-shadow(0px 1px 2px rgba(0, 0, 0, 0.3));\n",
              "      fill: #FFFFFF;\n",
              "    }\n",
              "  </style>\n",
              "\n",
              "      <script>\n",
              "        const buttonEl =\n",
              "          document.querySelector('#df-cca3d565-53a9-4515-b892-2a12f68b177f button.colab-df-convert');\n",
              "        buttonEl.style.display =\n",
              "          google.colab.kernel.accessAllowed ? 'block' : 'none';\n",
              "\n",
              "        async function convertToInteractive(key) {\n",
              "          const element = document.querySelector('#df-cca3d565-53a9-4515-b892-2a12f68b177f');\n",
              "          const dataTable =\n",
              "            await google.colab.kernel.invokeFunction('convertToInteractive',\n",
              "                                                     [key], {});\n",
              "          if (!dataTable) return;\n",
              "\n",
              "          const docLinkHtml = 'Like what you see? Visit the ' +\n",
              "            '<a target=\"_blank\" href=https://colab.research.google.com/notebooks/data_table.ipynb>data table notebook</a>'\n",
              "            + ' to learn more about interactive tables.';\n",
              "          element.innerHTML = '';\n",
              "          dataTable['output_type'] = 'display_data';\n",
              "          await google.colab.output.renderOutput(dataTable, element);\n",
              "          const docLink = document.createElement('div');\n",
              "          docLink.innerHTML = docLinkHtml;\n",
              "          element.appendChild(docLink);\n",
              "        }\n",
              "      </script>\n",
              "    </div>\n",
              "  </div>\n",
              "  "
            ]
          },
          "metadata": {},
          "execution_count": 88
        }
      ],
      "source": [
        "#delete column \n",
        "del df[\"Year\"]\n",
        "\n",
        "df.head()"
      ]
    },
    {
      "cell_type": "code",
      "execution_count": 89,
      "metadata": {
        "colab": {
          "base_uri": "https://localhost:8080/",
          "height": 53
        },
        "id": "e_tARVVmhUy7",
        "outputId": "4b3b9fdf-e6bd-4c9a-e710-a4ec7276e633"
      },
      "outputs": [
        {
          "output_type": "execute_result",
          "data": {
            "text/plain": [
              "\"from sklearn.preprocessing import StandardScaler\\ncols_to_norm = ['no_of_cars','steel','plastics','iron','rubber','aluminium','glass','copper']\\ndf[cols_to_norm] = StandardScaler().fit_transform(df[cols_to_norm])\\ndf.head(10)\""
            ],
            "application/vnd.google.colaboratory.intrinsic+json": {
              "type": "string"
            }
          },
          "metadata": {},
          "execution_count": 89
        }
      ],
      "source": [
        "'''from sklearn.preprocessing import StandardScaler\n",
        "cols_to_norm = ['no_of_cars','steel','plastics','iron','rubber','aluminium','glass','copper']\n",
        "df[cols_to_norm] = StandardScaler().fit_transform(df[cols_to_norm])\n",
        "df.head(10)'''"
      ]
    },
    {
      "cell_type": "code",
      "execution_count": 90,
      "metadata": {
        "id": "mqqpdMVKaV4h"
      },
      "outputs": [],
      "source": [
        "np.random.seed(99)\n",
        "msk = np.random.rand(len(df)) < 0.8\n",
        "train = df[msk]\n",
        "test = df[~msk]"
      ]
    },
    {
      "cell_type": "markdown",
      "metadata": {
        "id": "WhwMl98fp-k6"
      },
      "source": [
        "# **Steel**"
      ]
    },
    {
      "cell_type": "code",
      "execution_count": 91,
      "metadata": {
        "colab": {
          "base_uri": "https://localhost:8080/"
        },
        "id": "xgpH7SJJaao_",
        "outputId": "bc1c8ef9-6f9d-4375-b1b7-09888d138c81"
      },
      "outputs": [
        {
          "output_type": "execute_result",
          "data": {
            "text/plain": [
              "KNeighborsRegressor()"
            ]
          },
          "metadata": {},
          "execution_count": 91
        }
      ],
      "source": [
        "from sklearn import neighbors\n",
        "from sklearn import linear_model\n",
        "model = neighbors.KNeighborsRegressor()\n",
        "\n",
        "train_x = np.asanyarray(train[['no_of_cars']])\n",
        "train_y = np.asanyarray(train[['steel']])\n",
        "model.fit (train_x, train_y)\n"
      ]
    },
    {
      "cell_type": "code",
      "execution_count": 92,
      "metadata": {
        "colab": {
          "base_uri": "https://localhost:8080/"
        },
        "id": "WM1spaG1Pi8w",
        "outputId": "5cf5caf5-e2c7-4fd1-8bd3-7cc9da041a74"
      },
      "outputs": [
        {
          "output_type": "stream",
          "name": "stderr",
          "text": [
            "/usr/local/lib/python3.7/dist-packages/sklearn/base.py:444: UserWarning: X has feature names, but KNeighborsRegressor was fitted without feature names\n",
            "  f\"X has feature names, but {self.__class__.__name__} was fitted without\"\n"
          ]
        },
        {
          "output_type": "execute_result",
          "data": {
            "text/plain": [
              "array([[1035714.26],\n",
              "       [1035714.26],\n",
              "       [1673826.38],\n",
              "       [2700330.46],\n",
              "       [2725150.7 ],\n",
              "       [2257581.64]])"
            ]
          },
          "metadata": {},
          "execution_count": 92
        }
      ],
      "source": [
        "y_pred = model.predict(test[['steel']])\n",
        "y_pred"
      ]
    },
    {
      "cell_type": "code",
      "execution_count": 93,
      "metadata": {
        "colab": {
          "base_uri": "https://localhost:8080/"
        },
        "id": "ycCutlkKSxX1",
        "outputId": "fbf3ace6-f5ff-471a-cecb-8633fe61007c"
      },
      "outputs": [
        {
          "output_type": "stream",
          "name": "stdout",
          "text": [
            "Mean absolute error: 202825.38\n",
            "R2-score: 0.90\n",
            "Rmse: 0.27\n",
            "[[1035714.26]]\n"
          ]
        },
        {
          "output_type": "stream",
          "name": "stderr",
          "text": [
            "/usr/local/lib/python3.7/dist-packages/sklearn/base.py:566: FutureWarning: Arrays of bytes/strings is being converted to decimal numbers if dtype='numeric'. This behavior is deprecated in 0.24 and will be removed in 1.1 (renaming of 0.26). Please convert your data to numeric values explicitly instead.\n",
            "  X = check_array(X, **check_params)\n"
          ]
        }
      ],
      "source": [
        "from sklearn.metrics import r2_score\n",
        "\n",
        "test_x = np.asanyarray(test[['no_of_cars']])\n",
        "test_y = np.asanyarray(test[['steel']])\n",
        "test_y_hat =model.predict(test_x)\n",
        "\n",
        "print(\"Mean absolute error: %.2f\" % np.mean(np.absolute(test_y_hat - test_y)))\n",
        "\n",
        "print(\"R2-score: %.2f\" % r2_score(test_y_hat , test_y) )\n",
        "rmse= mean_squared_error( test_y,test_y_hat,squared=False)\n",
        "nrmse = rmse/np.std(test_y)\n",
        "print(\"Rmse: %.2f\" % nrmse)\n",
        "output = model.predict([['669719']])\n",
        "print(output)"
      ]
    },
    {
      "cell_type": "markdown",
      "metadata": {
        "id": "jlm523CysA_O"
      },
      "source": [
        "# **Plastics**"
      ]
    },
    {
      "cell_type": "code",
      "execution_count": 94,
      "metadata": {
        "colab": {
          "base_uri": "https://localhost:8080/"
        },
        "id": "4ku4SP01Vy2r",
        "outputId": "e8e77815-d687-4de8-d072-acb502734260"
      },
      "outputs": [
        {
          "output_type": "execute_result",
          "data": {
            "text/plain": [
              "KNeighborsRegressor()"
            ]
          },
          "metadata": {},
          "execution_count": 94
        }
      ],
      "source": [
        "\n",
        "from sklearn import linear_model\n",
        "model_plastics =neighbors.KNeighborsRegressor()\n",
        "train_x = np.asanyarray(train[['no_of_cars']])\n",
        "train_y_plastics = np.asanyarray(train[['plastics']])\n",
        "model_plastics.fit (train_x, train_y_plastics)\n"
      ]
    },
    {
      "cell_type": "code",
      "execution_count": 95,
      "metadata": {
        "colab": {
          "base_uri": "https://localhost:8080/"
        },
        "id": "EELzJ9ibphzm",
        "outputId": "caa9ff97-19de-4cdb-d6e3-55898ea83172"
      },
      "outputs": [
        {
          "output_type": "stream",
          "name": "stderr",
          "text": [
            "/usr/local/lib/python3.7/dist-packages/sklearn/base.py:444: UserWarning: X has feature names, but KNeighborsRegressor was fitted without feature names\n",
            "  f\"X has feature names, but {self.__class__.__name__} was fitted without\"\n"
          ]
        },
        {
          "output_type": "execute_result",
          "data": {
            "text/plain": [
              "array([[188935.4],\n",
              "       [188935.4],\n",
              "       [188935.4],\n",
              "       [188935.4],\n",
              "       [188935.4],\n",
              "       [188935.4]])"
            ]
          },
          "metadata": {},
          "execution_count": 95
        }
      ],
      "source": [
        "y_plastics_pred = model_plastics.predict(test[['plastics']])\n",
        "y_plastics_pred "
      ]
    },
    {
      "cell_type": "code",
      "execution_count": 96,
      "metadata": {
        "colab": {
          "base_uri": "https://localhost:8080/"
        },
        "id": "KNgZkhdcqgsJ",
        "outputId": "a91e31a0-5f41-4c25-caac-e004d3f569ee"
      },
      "outputs": [
        {
          "output_type": "stream",
          "name": "stdout",
          "text": [
            "Mean absolute error: 49260.20\n",
            "R2-score: 0.91\n",
            "Rmse: 0.25\n"
          ]
        }
      ],
      "source": [
        "from sklearn.metrics import r2_score\n",
        "\n",
        "test_x = np.asanyarray(test[['no_of_cars']])\n",
        "test_y_plastics = np.asanyarray(test[['plastics']])\n",
        "test_y_hat_plastics =model_plastics.predict(test_x)\n",
        "\n",
        "print(\"Mean absolute error: %.2f\" % np.mean(np.absolute(test_y_hat_plastics - test_y_plastics)))\n",
        "\n",
        "print(\"R2-score: %.2f\" % r2_score(test_y_hat_plastics , test_y_plastics) )\n",
        "rmse= mean_squared_error( test_y_plastics,test_y_hat_plastics,squared=False)\n",
        "nrmse = rmse/np.std(test_y_plastics)\n",
        "print(\"Rmse: %.2f\" % nrmse)"
      ]
    },
    {
      "cell_type": "markdown",
      "metadata": {
        "id": "uL62BnU2sPVi"
      },
      "source": [
        "# **Iron**"
      ]
    },
    {
      "cell_type": "code",
      "execution_count": 97,
      "metadata": {
        "colab": {
          "base_uri": "https://localhost:8080/"
        },
        "id": "nR2T9JzaqkK7",
        "outputId": "dd486cdb-402d-48b2-e4f1-a19c5a26d729"
      },
      "outputs": [
        {
          "output_type": "execute_result",
          "data": {
            "text/plain": [
              "KNeighborsRegressor()"
            ]
          },
          "metadata": {},
          "execution_count": 97
        }
      ],
      "source": [
        "from sklearn import linear_model\n",
        "model_iron = neighbors.KNeighborsRegressor()\n",
        "train_x = np.asanyarray(train[['no_of_cars']])\n",
        "train_y_iron = np.asanyarray(train[['iron']])\n",
        "model_iron.fit (train_x, train_y_iron)"
      ]
    },
    {
      "cell_type": "code",
      "execution_count": 98,
      "metadata": {
        "colab": {
          "base_uri": "https://localhost:8080/"
        },
        "id": "9OrSLpePqnCC",
        "outputId": "1cb479d9-9fc5-420f-fdc6-5d6b71089947"
      },
      "outputs": [
        {
          "output_type": "stream",
          "name": "stderr",
          "text": [
            "/usr/local/lib/python3.7/dist-packages/sklearn/base.py:444: UserWarning: X has feature names, but KNeighborsRegressor was fitted without feature names\n",
            "  f\"X has feature names, but {self.__class__.__name__} was fitted without\"\n"
          ]
        }
      ],
      "source": [
        "y_iron_pred = model_iron.predict(test[['iron']])"
      ]
    },
    {
      "cell_type": "code",
      "execution_count": 99,
      "metadata": {
        "colab": {
          "base_uri": "https://localhost:8080/"
        },
        "id": "NoTW6kJ0qnVs",
        "outputId": "e6ee62d8-7cf9-42ff-d4a2-53844bcc7018"
      },
      "outputs": [
        {
          "output_type": "stream",
          "name": "stdout",
          "text": [
            "Mean absolute error: 26206.62\n",
            "R2-score: 0.74\n",
            "Rmse: 0.44\n"
          ]
        }
      ],
      "source": [
        "from sklearn.metrics import r2_score\n",
        "\n",
        "test_x = np.asanyarray(test[['no_of_cars']])\n",
        "test_y_iron = np.asanyarray(test[['iron']])\n",
        "test_y_hat_iron =model_iron.predict(test_x)\n",
        "\n",
        "print(\"Mean absolute error: %.2f\" % np.mean(np.absolute(test_y_hat_iron - test_y_iron)))\n",
        "\n",
        "print(\"R2-score: %.2f\" % r2_score(test_y_hat_iron , test_y_iron) )\n",
        "rmse= mean_squared_error( test_y_iron,test_y_hat_iron,squared=False)\n",
        "nrmse = rmse/np.std(test_y_iron)\n",
        "print(\"Rmse: %.2f\" % nrmse)"
      ]
    },
    {
      "cell_type": "markdown",
      "metadata": {
        "id": "sODseIVjsW3o"
      },
      "source": [
        "# **Rubber**"
      ]
    },
    {
      "cell_type": "code",
      "execution_count": 100,
      "metadata": {
        "colab": {
          "base_uri": "https://localhost:8080/"
        },
        "id": "r33--fIpqp95",
        "outputId": "ac31f253-b722-435a-ae48-101cbc510586"
      },
      "outputs": [
        {
          "output_type": "execute_result",
          "data": {
            "text/plain": [
              "KNeighborsRegressor()"
            ]
          },
          "metadata": {},
          "execution_count": 100
        }
      ],
      "source": [
        "from sklearn import linear_model\n",
        "model_rubber =neighbors.KNeighborsRegressor()\n",
        "train_x = np.asanyarray(train[['no_of_cars']])\n",
        "train_y_rubber = np.asanyarray(train[['rubber']])\n",
        "model_rubber.fit (train_x, train_y_rubber)"
      ]
    },
    {
      "cell_type": "code",
      "execution_count": 101,
      "metadata": {
        "colab": {
          "base_uri": "https://localhost:8080/"
        },
        "id": "5OPNQL41qtJA",
        "outputId": "8c77d33e-da59-42af-bd7f-ce6b8f6f8cd1"
      },
      "outputs": [
        {
          "output_type": "stream",
          "name": "stderr",
          "text": [
            "/usr/local/lib/python3.7/dist-packages/sklearn/base.py:444: UserWarning: X has feature names, but KNeighborsRegressor was fitted without feature names\n",
            "  f\"X has feature names, but {self.__class__.__name__} was fitted without\"\n"
          ]
        }
      ],
      "source": [
        "y_rubber_pred = model_rubber.predict(test[['rubber']])"
      ]
    },
    {
      "cell_type": "code",
      "execution_count": 102,
      "metadata": {
        "colab": {
          "base_uri": "https://localhost:8080/"
        },
        "id": "IMPzZB8Jqv7I",
        "outputId": "1c24d624-de30-4d93-b3f0-24fefad1e6cf"
      },
      "outputs": [
        {
          "output_type": "stream",
          "name": "stdout",
          "text": [
            "Mean absolute error: 21544.42\n",
            "R2-score: 0.90\n",
            "Rmse: 0.29\n"
          ]
        }
      ],
      "source": [
        "from sklearn.metrics import r2_score\n",
        "\n",
        "test_x = np.asanyarray(test[['no_of_cars']])\n",
        "test_y_rubber = np.asanyarray(test[['rubber']])\n",
        "test_y_hat_rubber =model_rubber.predict(test_x)\n",
        "\n",
        "print(\"Mean absolute error: %.2f\" % np.mean(np.absolute(test_y_hat_rubber - test_y_rubber)))\n",
        "\n",
        "print(\"R2-score: %.2f\" % r2_score(test_y_hat_rubber , test_y_rubber) )\n",
        "rmse= mean_squared_error( test_y_rubber,test_y_hat_rubber,squared=False)\n",
        "nrmse = rmse/np.std(test_y_rubber)\n",
        "print(\"Rmse: %.2f\" % nrmse)"
      ]
    },
    {
      "cell_type": "markdown",
      "metadata": {
        "id": "OkF8LrhQsc9C"
      },
      "source": [
        "# **Aluminium**"
      ]
    },
    {
      "cell_type": "code",
      "execution_count": 103,
      "metadata": {
        "colab": {
          "base_uri": "https://localhost:8080/"
        },
        "id": "-aBxClrqq2Dk",
        "outputId": "85c3e17b-906a-4245-9af3-1d83129cccc2"
      },
      "outputs": [
        {
          "output_type": "execute_result",
          "data": {
            "text/plain": [
              "KNeighborsRegressor()"
            ]
          },
          "metadata": {},
          "execution_count": 103
        }
      ],
      "source": [
        "from sklearn import linear_model\n",
        "model_aluminium = neighbors.KNeighborsRegressor()\n",
        "train_x = np.asanyarray(train[['no_of_cars']])\n",
        "train_y_aluminium = np.asanyarray(train[['aluminium']])\n",
        "model_aluminium.fit (train_x, train_y_aluminium)"
      ]
    },
    {
      "cell_type": "code",
      "execution_count": 104,
      "metadata": {
        "colab": {
          "base_uri": "https://localhost:8080/"
        },
        "id": "AIFFIoUbq-Mq",
        "outputId": "d8d3b010-033d-4ab7-eb57-dfe018097ad8"
      },
      "outputs": [
        {
          "output_type": "stream",
          "name": "stderr",
          "text": [
            "/usr/local/lib/python3.7/dist-packages/sklearn/base.py:444: UserWarning: X has feature names, but KNeighborsRegressor was fitted without feature names\n",
            "  f\"X has feature names, but {self.__class__.__name__} was fitted without\"\n"
          ]
        }
      ],
      "source": [
        "y_aluminium_pred = model_aluminium.predict(test[['aluminium']])\n"
      ]
    },
    {
      "cell_type": "code",
      "execution_count": 105,
      "metadata": {
        "colab": {
          "base_uri": "https://localhost:8080/"
        },
        "id": "BAYjUxA_rBrL",
        "outputId": "93fb9b41-f35c-42a7-81ce-a9eb712e7249"
      },
      "outputs": [
        {
          "output_type": "stream",
          "name": "stdout",
          "text": [
            "Mean absolute error: 29663.02\n",
            "R2-score: 0.82\n",
            "Rmse: 0.32\n"
          ]
        }
      ],
      "source": [
        "from sklearn.metrics import r2_score\n",
        "\n",
        "test_x = np.asanyarray(test[['no_of_cars']])\n",
        "test_y_aluminium = np.asanyarray(test[['aluminium']])\n",
        "test_y_hat_aluminium =model_aluminium.predict(test_x)\n",
        "\n",
        "print(\"Mean absolute error: %.2f\" % np.mean(np.absolute(test_y_hat_aluminium - test_y_aluminium)))\n",
        "\n",
        "print(\"R2-score: %.2f\" % r2_score(test_y_hat_aluminium , test_y_aluminium) )\n",
        "rmse= mean_squared_error( test_y_aluminium,test_y_hat_aluminium, squared=False)\n",
        "nrmse = rmse/np.std(test_y_aluminium)\n",
        "print(\"Rmse: %.2f\" % nrmse)"
      ]
    },
    {
      "cell_type": "markdown",
      "metadata": {
        "id": "0zud1SxXshsa"
      },
      "source": [
        "# **Glass**"
      ]
    },
    {
      "cell_type": "code",
      "execution_count": 106,
      "metadata": {
        "colab": {
          "base_uri": "https://localhost:8080/"
        },
        "id": "4hbroJIGrFTc",
        "outputId": "763fa2c1-2da1-40ac-adf6-f8854a900f00"
      },
      "outputs": [
        {
          "output_type": "execute_result",
          "data": {
            "text/plain": [
              "KNeighborsRegressor()"
            ]
          },
          "metadata": {},
          "execution_count": 106
        }
      ],
      "source": [
        "from sklearn import linear_model\n",
        "model_glass = neighbors.KNeighborsRegressor()\n",
        "train_x = np.asanyarray(train[['no_of_cars']])\n",
        "train_y_glass = np.asanyarray(train[['glass']])\n",
        "model_glass.fit (train_x, train_y_glass)\n"
      ]
    },
    {
      "cell_type": "code",
      "execution_count": 107,
      "metadata": {
        "colab": {
          "base_uri": "https://localhost:8080/"
        },
        "id": "s_Q9OKnkrNPB",
        "outputId": "ce4d8ab4-c04e-4a07-f69a-ef75ac52b166"
      },
      "outputs": [
        {
          "output_type": "stream",
          "name": "stderr",
          "text": [
            "/usr/local/lib/python3.7/dist-packages/sklearn/base.py:444: UserWarning: X has feature names, but KNeighborsRegressor was fitted without feature names\n",
            "  f\"X has feature names, but {self.__class__.__name__} was fitted without\"\n"
          ]
        }
      ],
      "source": [
        "y_glass_pred = model_glass.predict(test[['rubber']])"
      ]
    },
    {
      "cell_type": "code",
      "execution_count": 108,
      "metadata": {
        "colab": {
          "base_uri": "https://localhost:8080/"
        },
        "id": "iy85fX6zrPqM",
        "outputId": "51097fc9-15f4-45d2-851e-7e1902ca7d12"
      },
      "outputs": [
        {
          "output_type": "stream",
          "name": "stdout",
          "text": [
            "Mean absolute error: 13103.70\n",
            "R2-score: 0.90\n",
            "Rmse: 0.27\n"
          ]
        }
      ],
      "source": [
        "from sklearn.metrics import r2_score\n",
        "\n",
        "test_x = np.asanyarray(test[['no_of_cars']])\n",
        "test_y_glass = np.asanyarray(test[['glass']])\n",
        "test_y_hat_glass =model_glass.predict(test_x)\n",
        "\n",
        "print(\"Mean absolute error: %.2f\" % np.mean(np.absolute(test_y_hat_glass - test_y_glass)))\n",
        "\n",
        "print(\"R2-score: %.2f\" % r2_score(test_y_hat_glass , test_y_glass) )\n",
        "rmse= mean_squared_error( test_y_glass,test_y_hat_glass,squared=False)\n",
        "nrmse = rmse/np.std(test_y_glass)\n",
        "print(\"Rmse: %.2f\" % nrmse)"
      ]
    },
    {
      "cell_type": "markdown",
      "metadata": {
        "id": "n3rM-491sq2G"
      },
      "source": [
        "## **Copper**"
      ]
    },
    {
      "cell_type": "code",
      "execution_count": 109,
      "metadata": {
        "colab": {
          "base_uri": "https://localhost:8080/"
        },
        "id": "3EUuk_mqrSGD",
        "outputId": "37830cd4-7759-4a61-ed63-aaa8c30676a1"
      },
      "outputs": [
        {
          "output_type": "execute_result",
          "data": {
            "text/plain": [
              "KNeighborsRegressor()"
            ]
          },
          "metadata": {},
          "execution_count": 109
        }
      ],
      "source": [
        "from sklearn import linear_model\n",
        "model_copper =neighbors.KNeighborsRegressor()\n",
        "train_x = np.asanyarray(train[['no_of_cars']])\n",
        "\n",
        "train_y_copper = np.asanyarray(train[['copper']])\n",
        "model_copper.fit (train_x, train_y_copper)"
      ]
    },
    {
      "cell_type": "code",
      "execution_count": 110,
      "metadata": {
        "colab": {
          "base_uri": "https://localhost:8080/"
        },
        "id": "FdPlTkwNrU9C",
        "outputId": "6a038a94-3032-40ba-c118-867a99ffde13"
      },
      "outputs": [
        {
          "output_type": "stream",
          "name": "stdout",
          "text": [
            "Mean absolute error: 3446.86\n",
            "R2-score: 0.95\n",
            "Rmse: 0.19\n"
          ]
        }
      ],
      "source": [
        "from sklearn.metrics import r2_score\n",
        "\n",
        "test_x = np.asanyarray(test[['no_of_cars']])\n",
        "test_y_copper = np.asanyarray(test[['copper']])\n",
        "test_y_hat_copper =model_copper.predict(test_x)\n",
        "\n",
        "print(\"Mean absolute error: %.2f\" % np.mean(np.absolute(test_y_hat_copper - test_y_copper)))\n",
        "\n",
        "print(\"R2-score: %.2f\" % r2_score(test_y_hat_copper , test_y_copper) )\n",
        "rmse= mean_squared_error( test_y_copper,test_y_hat_copper,squared=False)\n",
        "nrmse = rmse/np.std(test_y_copper)\n",
        "print(\"Rmse: %.2f\" % nrmse)"
      ]
    },
    {
      "cell_type": "code",
      "execution_count": 110,
      "metadata": {
        "id": "Tk7Goo4_rX3N"
      },
      "outputs": [],
      "source": [
        ""
      ]
    },
    {
      "cell_type": "code",
      "execution_count": 110,
      "metadata": {
        "id": "buq9_ANQFC0X"
      },
      "outputs": [],
      "source": [
        "\n"
      ]
    }
  ],
  "metadata": {
    "colab": {
      "name": "K nearest neigbor",
      "provenance": []
    },
    "kernelspec": {
      "display_name": "Python 3",
      "name": "python3"
    },
    "language_info": {
      "name": "python"
    }
  },
  "nbformat": 4,
  "nbformat_minor": 0
}