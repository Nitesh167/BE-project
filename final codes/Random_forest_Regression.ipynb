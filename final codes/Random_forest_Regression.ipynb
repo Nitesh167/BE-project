{
  "nbformat": 4,
  "nbformat_minor": 0,
  "metadata": {
    "colab": {
      "name": "Random forest Regression.ipynb",
      "provenance": []
    },
    "kernelspec": {
      "name": "python3",
      "display_name": "Python 3"
    },
    "language_info": {
      "name": "python"
    }
  },
  "cells": [
    {
      "cell_type": "code",
      "execution_count": 1,
      "metadata": {
        "id": "p_s10r0Fv4Dx"
      },
      "outputs": [],
      "source": [
        "import pandas as pd\n",
        "import numpy as np\n",
        "from sklearn.svm import SVR\n",
        "from sklearn import preprocessing\n",
        "from sklearn.metrics import mean_squared_error\n",
        "import matplotlib.pyplot as plt  \n",
        "from sklearn.ensemble import RandomForestRegressor\n",
        "%matplotlib inline\n",
        "\n",
        "\n"
      ]
    },
    {
      "cell_type": "code",
      "source": [
        "!git clone https://github.com/Nitesh167/raw-materials-forecasting.git"
      ],
      "metadata": {
        "colab": {
          "base_uri": "https://localhost:8080/"
        },
        "id": "vSFIiNul0tF9",
        "outputId": "5b13473a-f617-453f-9d27-042e4af61d06"
      },
      "execution_count": 2,
      "outputs": [
        {
          "output_type": "stream",
          "name": "stdout",
          "text": [
            "Cloning into 'raw-materials-forecasting'...\n",
            "remote: Enumerating objects: 47, done.\u001b[K\n",
            "remote: Counting objects: 100% (28/28), done.\u001b[K\n",
            "remote: Compressing objects: 100% (28/28), done.\u001b[K\n",
            "remote: Total 47 (delta 8), reused 0 (delta 0), pack-reused 19\u001b[K\n",
            "Unpacking objects: 100% (47/47), done.\n"
          ]
        }
      ]
    },
    {
      "cell_type": "code",
      "source": [
        "cd raw-materials-forecasting/"
      ],
      "metadata": {
        "colab": {
          "base_uri": "https://localhost:8080/"
        },
        "id": "Uvr2hTFq0wXf",
        "outputId": "d23e8cc1-59e9-4d4c-ec9a-3176fd0f34b1"
      },
      "execution_count": 3,
      "outputs": [
        {
          "output_type": "stream",
          "name": "stdout",
          "text": [
            "/content/raw-materials-forecasting\n"
          ]
        }
      ]
    },
    {
      "cell_type": "code",
      "source": [
        "df=pd.read_csv('dataset_value2.csv')\n",
        "df.columns=['Year',\"no_of_cars\",\"steel\",\"plastics\",\"iron\",\"rubber\",\"aluminium\",\"glass\",\"copper\"]\n",
        "df.head(10)"
      ],
      "metadata": {
        "colab": {
          "base_uri": "https://localhost:8080/",
          "height": 363
        },
        "id": "XjRAXdk60ya3",
        "outputId": "987fb1e6-0ecd-41da-cfca-0d584f8f5d2f"
      },
      "execution_count": 4,
      "outputs": [
        {
          "output_type": "execute_result",
          "data": {
            "text/plain": [
              "        Year  no_of_cars      steel  plastics      iron    rubber  aluminium  \\\n",
              "0  2001-2002      669719   505463.7   86072.3   70039.2   38816.9    24471.5   \n",
              "1  2002-2003      723330   572265.4  100524.4   76557.2   44020.4    28708.9   \n",
              "2  2003-2004      989560   811239.3  139558.5  108891.2   61251.2    42195.3   \n",
              "3  2004-2005     1209876  1045361.9  187176.3  139499.3   82993.2    54740.2   \n",
              "4  2005-2006     1309300  1151778.1  206929.6  150316.8   93703.9    62469.3   \n",
              "5  2006-2007     1545234  1409559.4  259339.7  177695.7  117663.3    79242.6   \n",
              "6  2007-2008     1777583  1645920.9  311564.3  208558.4  146554.6    98642.5   \n",
              "7  2008-2009     1838593  1648801.5  359327.6  212921.7  153244.8   102163.2   \n",
              "8  2009-2010     2357411  2070944.3  398196.5  251241.0  204582.0   136388.0   \n",
              "9  2010-2011     2987296  2619488.2  522065.8  286828.2  261032.9   178601.4   \n",
              "\n",
              "      glass   copper  \n",
              "0   25315.3   8016.5  \n",
              "1   29665.9   9569.6  \n",
              "2   40834.2  13611.4  \n",
              "3   51208.6  19423.9  \n",
              "4   56612.8  19521.6  \n",
              "5   72038.8  24012.9  \n",
              "6   90187.4  28183.5  \n",
              "7   87973.9  31216.5  \n",
              "8  107674.7  39480.7  \n",
              "9  141965.2  50374.7  "
            ],
            "text/html": [
              "\n",
              "  <div id=\"df-85e0b371-a125-49de-a86e-7704c9644d9e\">\n",
              "    <div class=\"colab-df-container\">\n",
              "      <div>\n",
              "<style scoped>\n",
              "    .dataframe tbody tr th:only-of-type {\n",
              "        vertical-align: middle;\n",
              "    }\n",
              "\n",
              "    .dataframe tbody tr th {\n",
              "        vertical-align: top;\n",
              "    }\n",
              "\n",
              "    .dataframe thead th {\n",
              "        text-align: right;\n",
              "    }\n",
              "</style>\n",
              "<table border=\"1\" class=\"dataframe\">\n",
              "  <thead>\n",
              "    <tr style=\"text-align: right;\">\n",
              "      <th></th>\n",
              "      <th>Year</th>\n",
              "      <th>no_of_cars</th>\n",
              "      <th>steel</th>\n",
              "      <th>plastics</th>\n",
              "      <th>iron</th>\n",
              "      <th>rubber</th>\n",
              "      <th>aluminium</th>\n",
              "      <th>glass</th>\n",
              "      <th>copper</th>\n",
              "    </tr>\n",
              "  </thead>\n",
              "  <tbody>\n",
              "    <tr>\n",
              "      <th>0</th>\n",
              "      <td>2001-2002</td>\n",
              "      <td>669719</td>\n",
              "      <td>505463.7</td>\n",
              "      <td>86072.3</td>\n",
              "      <td>70039.2</td>\n",
              "      <td>38816.9</td>\n",
              "      <td>24471.5</td>\n",
              "      <td>25315.3</td>\n",
              "      <td>8016.5</td>\n",
              "    </tr>\n",
              "    <tr>\n",
              "      <th>1</th>\n",
              "      <td>2002-2003</td>\n",
              "      <td>723330</td>\n",
              "      <td>572265.4</td>\n",
              "      <td>100524.4</td>\n",
              "      <td>76557.2</td>\n",
              "      <td>44020.4</td>\n",
              "      <td>28708.9</td>\n",
              "      <td>29665.9</td>\n",
              "      <td>9569.6</td>\n",
              "    </tr>\n",
              "    <tr>\n",
              "      <th>2</th>\n",
              "      <td>2003-2004</td>\n",
              "      <td>989560</td>\n",
              "      <td>811239.3</td>\n",
              "      <td>139558.5</td>\n",
              "      <td>108891.2</td>\n",
              "      <td>61251.2</td>\n",
              "      <td>42195.3</td>\n",
              "      <td>40834.2</td>\n",
              "      <td>13611.4</td>\n",
              "    </tr>\n",
              "    <tr>\n",
              "      <th>3</th>\n",
              "      <td>2004-2005</td>\n",
              "      <td>1209876</td>\n",
              "      <td>1045361.9</td>\n",
              "      <td>187176.3</td>\n",
              "      <td>139499.3</td>\n",
              "      <td>82993.2</td>\n",
              "      <td>54740.2</td>\n",
              "      <td>51208.6</td>\n",
              "      <td>19423.9</td>\n",
              "    </tr>\n",
              "    <tr>\n",
              "      <th>4</th>\n",
              "      <td>2005-2006</td>\n",
              "      <td>1309300</td>\n",
              "      <td>1151778.1</td>\n",
              "      <td>206929.6</td>\n",
              "      <td>150316.8</td>\n",
              "      <td>93703.9</td>\n",
              "      <td>62469.3</td>\n",
              "      <td>56612.8</td>\n",
              "      <td>19521.6</td>\n",
              "    </tr>\n",
              "    <tr>\n",
              "      <th>5</th>\n",
              "      <td>2006-2007</td>\n",
              "      <td>1545234</td>\n",
              "      <td>1409559.4</td>\n",
              "      <td>259339.7</td>\n",
              "      <td>177695.7</td>\n",
              "      <td>117663.3</td>\n",
              "      <td>79242.6</td>\n",
              "      <td>72038.8</td>\n",
              "      <td>24012.9</td>\n",
              "    </tr>\n",
              "    <tr>\n",
              "      <th>6</th>\n",
              "      <td>2007-2008</td>\n",
              "      <td>1777583</td>\n",
              "      <td>1645920.9</td>\n",
              "      <td>311564.3</td>\n",
              "      <td>208558.4</td>\n",
              "      <td>146554.6</td>\n",
              "      <td>98642.5</td>\n",
              "      <td>90187.4</td>\n",
              "      <td>28183.5</td>\n",
              "    </tr>\n",
              "    <tr>\n",
              "      <th>7</th>\n",
              "      <td>2008-2009</td>\n",
              "      <td>1838593</td>\n",
              "      <td>1648801.5</td>\n",
              "      <td>359327.6</td>\n",
              "      <td>212921.7</td>\n",
              "      <td>153244.8</td>\n",
              "      <td>102163.2</td>\n",
              "      <td>87973.9</td>\n",
              "      <td>31216.5</td>\n",
              "    </tr>\n",
              "    <tr>\n",
              "      <th>8</th>\n",
              "      <td>2009-2010</td>\n",
              "      <td>2357411</td>\n",
              "      <td>2070944.3</td>\n",
              "      <td>398196.5</td>\n",
              "      <td>251241.0</td>\n",
              "      <td>204582.0</td>\n",
              "      <td>136388.0</td>\n",
              "      <td>107674.7</td>\n",
              "      <td>39480.7</td>\n",
              "    </tr>\n",
              "    <tr>\n",
              "      <th>9</th>\n",
              "      <td>2010-2011</td>\n",
              "      <td>2987296</td>\n",
              "      <td>2619488.2</td>\n",
              "      <td>522065.8</td>\n",
              "      <td>286828.2</td>\n",
              "      <td>261032.9</td>\n",
              "      <td>178601.4</td>\n",
              "      <td>141965.2</td>\n",
              "      <td>50374.7</td>\n",
              "    </tr>\n",
              "  </tbody>\n",
              "</table>\n",
              "</div>\n",
              "      <button class=\"colab-df-convert\" onclick=\"convertToInteractive('df-85e0b371-a125-49de-a86e-7704c9644d9e')\"\n",
              "              title=\"Convert this dataframe to an interactive table.\"\n",
              "              style=\"display:none;\">\n",
              "        \n",
              "  <svg xmlns=\"http://www.w3.org/2000/svg\" height=\"24px\"viewBox=\"0 0 24 24\"\n",
              "       width=\"24px\">\n",
              "    <path d=\"M0 0h24v24H0V0z\" fill=\"none\"/>\n",
              "    <path d=\"M18.56 5.44l.94 2.06.94-2.06 2.06-.94-2.06-.94-.94-2.06-.94 2.06-2.06.94zm-11 1L8.5 8.5l.94-2.06 2.06-.94-2.06-.94L8.5 2.5l-.94 2.06-2.06.94zm10 10l.94 2.06.94-2.06 2.06-.94-2.06-.94-.94-2.06-.94 2.06-2.06.94z\"/><path d=\"M17.41 7.96l-1.37-1.37c-.4-.4-.92-.59-1.43-.59-.52 0-1.04.2-1.43.59L10.3 9.45l-7.72 7.72c-.78.78-.78 2.05 0 2.83L4 21.41c.39.39.9.59 1.41.59.51 0 1.02-.2 1.41-.59l7.78-7.78 2.81-2.81c.8-.78.8-2.07 0-2.86zM5.41 20L4 18.59l7.72-7.72 1.47 1.35L5.41 20z\"/>\n",
              "  </svg>\n",
              "      </button>\n",
              "      \n",
              "  <style>\n",
              "    .colab-df-container {\n",
              "      display:flex;\n",
              "      flex-wrap:wrap;\n",
              "      gap: 12px;\n",
              "    }\n",
              "\n",
              "    .colab-df-convert {\n",
              "      background-color: #E8F0FE;\n",
              "      border: none;\n",
              "      border-radius: 50%;\n",
              "      cursor: pointer;\n",
              "      display: none;\n",
              "      fill: #1967D2;\n",
              "      height: 32px;\n",
              "      padding: 0 0 0 0;\n",
              "      width: 32px;\n",
              "    }\n",
              "\n",
              "    .colab-df-convert:hover {\n",
              "      background-color: #E2EBFA;\n",
              "      box-shadow: 0px 1px 2px rgba(60, 64, 67, 0.3), 0px 1px 3px 1px rgba(60, 64, 67, 0.15);\n",
              "      fill: #174EA6;\n",
              "    }\n",
              "\n",
              "    [theme=dark] .colab-df-convert {\n",
              "      background-color: #3B4455;\n",
              "      fill: #D2E3FC;\n",
              "    }\n",
              "\n",
              "    [theme=dark] .colab-df-convert:hover {\n",
              "      background-color: #434B5C;\n",
              "      box-shadow: 0px 1px 3px 1px rgba(0, 0, 0, 0.15);\n",
              "      filter: drop-shadow(0px 1px 2px rgba(0, 0, 0, 0.3));\n",
              "      fill: #FFFFFF;\n",
              "    }\n",
              "  </style>\n",
              "\n",
              "      <script>\n",
              "        const buttonEl =\n",
              "          document.querySelector('#df-85e0b371-a125-49de-a86e-7704c9644d9e button.colab-df-convert');\n",
              "        buttonEl.style.display =\n",
              "          google.colab.kernel.accessAllowed ? 'block' : 'none';\n",
              "\n",
              "        async function convertToInteractive(key) {\n",
              "          const element = document.querySelector('#df-85e0b371-a125-49de-a86e-7704c9644d9e');\n",
              "          const dataTable =\n",
              "            await google.colab.kernel.invokeFunction('convertToInteractive',\n",
              "                                                     [key], {});\n",
              "          if (!dataTable) return;\n",
              "\n",
              "          const docLinkHtml = 'Like what you see? Visit the ' +\n",
              "            '<a target=\"_blank\" href=https://colab.research.google.com/notebooks/data_table.ipynb>data table notebook</a>'\n",
              "            + ' to learn more about interactive tables.';\n",
              "          element.innerHTML = '';\n",
              "          dataTable['output_type'] = 'display_data';\n",
              "          await google.colab.output.renderOutput(dataTable, element);\n",
              "          const docLink = document.createElement('div');\n",
              "          docLink.innerHTML = docLinkHtml;\n",
              "          element.appendChild(docLink);\n",
              "        }\n",
              "      </script>\n",
              "    </div>\n",
              "  </div>\n",
              "  "
            ]
          },
          "metadata": {},
          "execution_count": 4
        }
      ]
    },
    {
      "cell_type": "code",
      "source": [
        "#delete column \n",
        "del df[\"Year\"]\n",
        "\n",
        "df.head()"
      ],
      "metadata": {
        "colab": {
          "base_uri": "https://localhost:8080/",
          "height": 206
        },
        "id": "9lVmUjaq00ji",
        "outputId": "ac571d65-df1c-4765-9933-a3ae25c417bf"
      },
      "execution_count": 5,
      "outputs": [
        {
          "output_type": "execute_result",
          "data": {
            "text/plain": [
              "   no_of_cars      steel  plastics      iron   rubber  aluminium    glass  \\\n",
              "0      669719   505463.7   86072.3   70039.2  38816.9    24471.5  25315.3   \n",
              "1      723330   572265.4  100524.4   76557.2  44020.4    28708.9  29665.9   \n",
              "2      989560   811239.3  139558.5  108891.2  61251.2    42195.3  40834.2   \n",
              "3     1209876  1045361.9  187176.3  139499.3  82993.2    54740.2  51208.6   \n",
              "4     1309300  1151778.1  206929.6  150316.8  93703.9    62469.3  56612.8   \n",
              "\n",
              "    copper  \n",
              "0   8016.5  \n",
              "1   9569.6  \n",
              "2  13611.4  \n",
              "3  19423.9  \n",
              "4  19521.6  "
            ],
            "text/html": [
              "\n",
              "  <div id=\"df-39424737-8a9f-4959-a6b4-da29311aeec7\">\n",
              "    <div class=\"colab-df-container\">\n",
              "      <div>\n",
              "<style scoped>\n",
              "    .dataframe tbody tr th:only-of-type {\n",
              "        vertical-align: middle;\n",
              "    }\n",
              "\n",
              "    .dataframe tbody tr th {\n",
              "        vertical-align: top;\n",
              "    }\n",
              "\n",
              "    .dataframe thead th {\n",
              "        text-align: right;\n",
              "    }\n",
              "</style>\n",
              "<table border=\"1\" class=\"dataframe\">\n",
              "  <thead>\n",
              "    <tr style=\"text-align: right;\">\n",
              "      <th></th>\n",
              "      <th>no_of_cars</th>\n",
              "      <th>steel</th>\n",
              "      <th>plastics</th>\n",
              "      <th>iron</th>\n",
              "      <th>rubber</th>\n",
              "      <th>aluminium</th>\n",
              "      <th>glass</th>\n",
              "      <th>copper</th>\n",
              "    </tr>\n",
              "  </thead>\n",
              "  <tbody>\n",
              "    <tr>\n",
              "      <th>0</th>\n",
              "      <td>669719</td>\n",
              "      <td>505463.7</td>\n",
              "      <td>86072.3</td>\n",
              "      <td>70039.2</td>\n",
              "      <td>38816.9</td>\n",
              "      <td>24471.5</td>\n",
              "      <td>25315.3</td>\n",
              "      <td>8016.5</td>\n",
              "    </tr>\n",
              "    <tr>\n",
              "      <th>1</th>\n",
              "      <td>723330</td>\n",
              "      <td>572265.4</td>\n",
              "      <td>100524.4</td>\n",
              "      <td>76557.2</td>\n",
              "      <td>44020.4</td>\n",
              "      <td>28708.9</td>\n",
              "      <td>29665.9</td>\n",
              "      <td>9569.6</td>\n",
              "    </tr>\n",
              "    <tr>\n",
              "      <th>2</th>\n",
              "      <td>989560</td>\n",
              "      <td>811239.3</td>\n",
              "      <td>139558.5</td>\n",
              "      <td>108891.2</td>\n",
              "      <td>61251.2</td>\n",
              "      <td>42195.3</td>\n",
              "      <td>40834.2</td>\n",
              "      <td>13611.4</td>\n",
              "    </tr>\n",
              "    <tr>\n",
              "      <th>3</th>\n",
              "      <td>1209876</td>\n",
              "      <td>1045361.9</td>\n",
              "      <td>187176.3</td>\n",
              "      <td>139499.3</td>\n",
              "      <td>82993.2</td>\n",
              "      <td>54740.2</td>\n",
              "      <td>51208.6</td>\n",
              "      <td>19423.9</td>\n",
              "    </tr>\n",
              "    <tr>\n",
              "      <th>4</th>\n",
              "      <td>1309300</td>\n",
              "      <td>1151778.1</td>\n",
              "      <td>206929.6</td>\n",
              "      <td>150316.8</td>\n",
              "      <td>93703.9</td>\n",
              "      <td>62469.3</td>\n",
              "      <td>56612.8</td>\n",
              "      <td>19521.6</td>\n",
              "    </tr>\n",
              "  </tbody>\n",
              "</table>\n",
              "</div>\n",
              "      <button class=\"colab-df-convert\" onclick=\"convertToInteractive('df-39424737-8a9f-4959-a6b4-da29311aeec7')\"\n",
              "              title=\"Convert this dataframe to an interactive table.\"\n",
              "              style=\"display:none;\">\n",
              "        \n",
              "  <svg xmlns=\"http://www.w3.org/2000/svg\" height=\"24px\"viewBox=\"0 0 24 24\"\n",
              "       width=\"24px\">\n",
              "    <path d=\"M0 0h24v24H0V0z\" fill=\"none\"/>\n",
              "    <path d=\"M18.56 5.44l.94 2.06.94-2.06 2.06-.94-2.06-.94-.94-2.06-.94 2.06-2.06.94zm-11 1L8.5 8.5l.94-2.06 2.06-.94-2.06-.94L8.5 2.5l-.94 2.06-2.06.94zm10 10l.94 2.06.94-2.06 2.06-.94-2.06-.94-.94-2.06-.94 2.06-2.06.94z\"/><path d=\"M17.41 7.96l-1.37-1.37c-.4-.4-.92-.59-1.43-.59-.52 0-1.04.2-1.43.59L10.3 9.45l-7.72 7.72c-.78.78-.78 2.05 0 2.83L4 21.41c.39.39.9.59 1.41.59.51 0 1.02-.2 1.41-.59l7.78-7.78 2.81-2.81c.8-.78.8-2.07 0-2.86zM5.41 20L4 18.59l7.72-7.72 1.47 1.35L5.41 20z\"/>\n",
              "  </svg>\n",
              "      </button>\n",
              "      \n",
              "  <style>\n",
              "    .colab-df-container {\n",
              "      display:flex;\n",
              "      flex-wrap:wrap;\n",
              "      gap: 12px;\n",
              "    }\n",
              "\n",
              "    .colab-df-convert {\n",
              "      background-color: #E8F0FE;\n",
              "      border: none;\n",
              "      border-radius: 50%;\n",
              "      cursor: pointer;\n",
              "      display: none;\n",
              "      fill: #1967D2;\n",
              "      height: 32px;\n",
              "      padding: 0 0 0 0;\n",
              "      width: 32px;\n",
              "    }\n",
              "\n",
              "    .colab-df-convert:hover {\n",
              "      background-color: #E2EBFA;\n",
              "      box-shadow: 0px 1px 2px rgba(60, 64, 67, 0.3), 0px 1px 3px 1px rgba(60, 64, 67, 0.15);\n",
              "      fill: #174EA6;\n",
              "    }\n",
              "\n",
              "    [theme=dark] .colab-df-convert {\n",
              "      background-color: #3B4455;\n",
              "      fill: #D2E3FC;\n",
              "    }\n",
              "\n",
              "    [theme=dark] .colab-df-convert:hover {\n",
              "      background-color: #434B5C;\n",
              "      box-shadow: 0px 1px 3px 1px rgba(0, 0, 0, 0.15);\n",
              "      filter: drop-shadow(0px 1px 2px rgba(0, 0, 0, 0.3));\n",
              "      fill: #FFFFFF;\n",
              "    }\n",
              "  </style>\n",
              "\n",
              "      <script>\n",
              "        const buttonEl =\n",
              "          document.querySelector('#df-39424737-8a9f-4959-a6b4-da29311aeec7 button.colab-df-convert');\n",
              "        buttonEl.style.display =\n",
              "          google.colab.kernel.accessAllowed ? 'block' : 'none';\n",
              "\n",
              "        async function convertToInteractive(key) {\n",
              "          const element = document.querySelector('#df-39424737-8a9f-4959-a6b4-da29311aeec7');\n",
              "          const dataTable =\n",
              "            await google.colab.kernel.invokeFunction('convertToInteractive',\n",
              "                                                     [key], {});\n",
              "          if (!dataTable) return;\n",
              "\n",
              "          const docLinkHtml = 'Like what you see? Visit the ' +\n",
              "            '<a target=\"_blank\" href=https://colab.research.google.com/notebooks/data_table.ipynb>data table notebook</a>'\n",
              "            + ' to learn more about interactive tables.';\n",
              "          element.innerHTML = '';\n",
              "          dataTable['output_type'] = 'display_data';\n",
              "          await google.colab.output.renderOutput(dataTable, element);\n",
              "          const docLink = document.createElement('div');\n",
              "          docLink.innerHTML = docLinkHtml;\n",
              "          element.appendChild(docLink);\n",
              "        }\n",
              "      </script>\n",
              "    </div>\n",
              "  </div>\n",
              "  "
            ]
          },
          "metadata": {},
          "execution_count": 5
        }
      ]
    },
    {
      "cell_type": "code",
      "source": [
        "'''from sklearn.preprocessing import StandardScaler\n",
        "cols_to_norm = ['no_of_cars','steel','plastics','iron','rubber','aluminium','glass','copper']\n",
        "df[cols_to_norm] = StandardScaler().fit_transform(df[cols_to_norm])\n",
        "df.head(10)'''"
      ],
      "metadata": {
        "colab": {
          "base_uri": "https://localhost:8080/",
          "height": 53
        },
        "id": "rqFSqoV5gi4R",
        "outputId": "5e1da08e-ac71-45be-9d07-2c6e76fa7469"
      },
      "execution_count": 6,
      "outputs": [
        {
          "output_type": "execute_result",
          "data": {
            "text/plain": [
              "\"from sklearn.preprocessing import StandardScaler\\ncols_to_norm = ['no_of_cars','steel','plastics','iron','rubber','aluminium','glass','copper']\\ndf[cols_to_norm] = StandardScaler().fit_transform(df[cols_to_norm])\\ndf.head(10)\""
            ],
            "application/vnd.google.colaboratory.intrinsic+json": {
              "type": "string"
            }
          },
          "metadata": {},
          "execution_count": 6
        }
      ]
    },
    {
      "cell_type": "markdown",
      "source": [
        ""
      ],
      "metadata": {
        "id": "VBO-4JlHLdso"
      }
    },
    {
      "cell_type": "code",
      "source": [
        "np.random.seed(33)\n",
        "msk = np.random.rand(len(df)) < 0.8\n",
        "train = df[msk]\n",
        "test = df[~msk]"
      ],
      "metadata": {
        "id": "5_Mdzg_703hE"
      },
      "execution_count": 7,
      "outputs": []
    },
    {
      "cell_type": "markdown",
      "source": [
        "# **STEEL**"
      ],
      "metadata": {
        "id": "7GvczdadLfZ3"
      }
    },
    {
      "cell_type": "code",
      "source": [
        "train_x = np.asanyarray(train[['no_of_cars']])\n",
        "train_y = np.asanyarray(train[['steel']])\n",
        "from sklearn.ensemble import RandomForestRegressor\n",
        "model_steel = RandomForestRegressor()\n",
        "model_steel.fit (train_x, train_y)\n",
        "# The coefficients"
      ],
      "metadata": {
        "colab": {
          "base_uri": "https://localhost:8080/"
        },
        "id": "QQPG-I804zdC",
        "outputId": "cb7ef776-a7fd-4785-b85e-1483c9150775"
      },
      "execution_count": 8,
      "outputs": [
        {
          "output_type": "stream",
          "name": "stderr",
          "text": [
            "/usr/local/lib/python3.7/dist-packages/ipykernel_launcher.py:5: DataConversionWarning: A column-vector y was passed when a 1d array was expected. Please change the shape of y to (n_samples,), for example using ravel().\n",
            "  \"\"\"\n"
          ]
        },
        {
          "output_type": "execute_result",
          "data": {
            "text/plain": [
              "RandomForestRegressor()"
            ]
          },
          "metadata": {},
          "execution_count": 8
        }
      ]
    },
    {
      "cell_type": "code",
      "source": [
        "\n",
        "y_steel_pred = model_steel.predict(test[['steel']])\n",
        "#print(y_pred)\n"
      ],
      "metadata": {
        "colab": {
          "base_uri": "https://localhost:8080/"
        },
        "id": "t-IdddD0LwCf",
        "outputId": "2a888023-fa3f-48fe-a376-fea1536c6975"
      },
      "execution_count": 9,
      "outputs": [
        {
          "output_type": "stream",
          "name": "stderr",
          "text": [
            "/usr/local/lib/python3.7/dist-packages/sklearn/base.py:444: UserWarning: X has feature names, but RandomForestRegressor was fitted without feature names\n",
            "  f\"X has feature names, but {self.__class__.__name__} was fitted without\"\n"
          ]
        }
      ]
    },
    {
      "cell_type": "code",
      "source": [
        "from sklearn.metrics import r2_score\n",
        "\n",
        "\n",
        "test_x = np.asanyarray(test[['no_of_cars']])\n",
        "test_y_steel = np.asanyarray(test[['steel']])\n",
        "test_y_hat_steel =model_steel.predict(test_x)\n",
        "\n",
        "print(\"Mean absolute error: %.2f\" % np.mean(np.absolute(test_y_hat_steel - test_y_steel)))\n",
        "print(\"Residual sum of squares (MSE): %.2f\" % mean_squared_error( test_y_steel,test_y_hat_steel,squared=False))\n",
        "print(\"R2-score: %.2f\" % r2_score(test_y_hat_steel , test_y_steel) )\n",
        "rmse= mean_squared_error( test_y_steel,test_y_hat_steel,squared=False)\n",
        "nrmse = rmse/np.std(test_y_steel)\n",
        "print(format(nrmse,\".2f\"))\n",
        "\n",
        "output = model_steel.predict([['3465045']])\n",
        "print(output)"
      ],
      "metadata": {
        "colab": {
          "base_uri": "https://localhost:8080/"
        },
        "id": "4zxlfhsM7RFB",
        "outputId": "096d6352-bd98-4060-e099-997a28bfafb4"
      },
      "execution_count": 10,
      "outputs": [
        {
          "output_type": "stream",
          "name": "stdout",
          "text": [
            "Mean absolute error: 918992.06\n",
            "Residual sum of squares (MSE): 132729.66\n",
            "R2-score: 0.97\n",
            "0.16\n",
            "[2809755.824]\n"
          ]
        }
      ]
    },
    {
      "cell_type": "markdown",
      "source": [
        "# **PLASTICS**"
      ],
      "metadata": {
        "id": "NPTXSpgpTdVg"
      }
    },
    {
      "cell_type": "markdown",
      "source": [
        ""
      ],
      "metadata": {
        "id": "CXJIcIh7TciX"
      }
    },
    {
      "cell_type": "code",
      "source": [
        "from sklearn import linear_model\n",
        "model_plastics =RandomForestRegressor()\n",
        "train_x = np.asanyarray(train[['no_of_cars']])\n",
        "train_y_plastics = np.asanyarray(train[['plastics']])\n",
        "model_plastics.fit (train_x, train_y_plastics)"
      ],
      "metadata": {
        "colab": {
          "base_uri": "https://localhost:8080/"
        },
        "id": "8yPreW2M7Vpz",
        "outputId": "9855aaec-b10d-4171-cdbd-8e3da5d3c2c6"
      },
      "execution_count": 11,
      "outputs": [
        {
          "output_type": "stream",
          "name": "stderr",
          "text": [
            "/usr/local/lib/python3.7/dist-packages/ipykernel_launcher.py:5: DataConversionWarning: A column-vector y was passed when a 1d array was expected. Please change the shape of y to (n_samples,), for example using ravel().\n",
            "  \"\"\"\n"
          ]
        },
        {
          "output_type": "execute_result",
          "data": {
            "text/plain": [
              "RandomForestRegressor()"
            ]
          },
          "metadata": {},
          "execution_count": 11
        }
      ]
    },
    {
      "cell_type": "code",
      "source": [
        "y_plastics_pred = model_plastics.predict(test[['plastics']])"
      ],
      "metadata": {
        "colab": {
          "base_uri": "https://localhost:8080/"
        },
        "id": "Rm7_5Zvk7r6C",
        "outputId": "f4381f40-975b-4ac5-803f-6c4a9a1f8e8a"
      },
      "execution_count": 12,
      "outputs": [
        {
          "output_type": "stream",
          "name": "stderr",
          "text": [
            "/usr/local/lib/python3.7/dist-packages/sklearn/base.py:444: UserWarning: X has feature names, but RandomForestRegressor was fitted without feature names\n",
            "  f\"X has feature names, but {self.__class__.__name__} was fitted without\"\n"
          ]
        }
      ]
    },
    {
      "cell_type": "code",
      "source": [
        "from sklearn.metrics import r2_score\n",
        "\n",
        "test_x = np.asanyarray(test[['no_of_cars']])\n",
        "test_y_plastics = np.asanyarray(test[['plastics']])\n",
        "test_y_hat_plastics =model_plastics.predict(test_x)\n",
        "\n",
        "print(\"Mean absolute error: %.2f\" % np.mean(np.absolute(test_y_hat_plastics - test_y_plastics)))\n",
        "\n",
        "print(\"R2-score: %.2f\" % r2_score(test_y_hat_plastics , test_y_plastics) )\n",
        "rmse= mean_squared_error( test_y_plastics,test_y_hat_plastics, squared=False)\n",
        "nrmse = rmse/np.std(test_y_plastics)\n",
        "print(\"Rmse: %.2f\" % nrmse)"
      ],
      "metadata": {
        "colab": {
          "base_uri": "https://localhost:8080/"
        },
        "id": "192-ZTgG-4wf",
        "outputId": "72037de0-50cd-4ce4-b424-1f60ef9d4509"
      },
      "execution_count": 13,
      "outputs": [
        {
          "output_type": "stream",
          "name": "stdout",
          "text": [
            "Mean absolute error: 246129.06\n",
            "R2-score: 0.97\n",
            "Rmse: 0.16\n"
          ]
        }
      ]
    },
    {
      "cell_type": "code",
      "source": [
        ""
      ],
      "metadata": {
        "id": "Jt6vWZcPTtoa"
      },
      "execution_count": 13,
      "outputs": []
    },
    {
      "cell_type": "markdown",
      "source": [
        "# **IRON**"
      ],
      "metadata": {
        "id": "uoSfmsCLTwcA"
      }
    },
    {
      "cell_type": "code",
      "source": [
        "\n",
        "\n",
        "from sklearn import linear_model\n",
        "model_iron = RandomForestRegressor()\n",
        "train_x = np.asanyarray(train[['no_of_cars']])\n",
        "train_y_iron = np.asanyarray(train[['iron']])\n",
        "model_iron.fit (train_x, train_y_iron)"
      ],
      "metadata": {
        "colab": {
          "base_uri": "https://localhost:8080/"
        },
        "id": "pZzzgAx7T1jc",
        "outputId": "bfc7d9a3-438e-4c01-d303-7925ff726550"
      },
      "execution_count": 14,
      "outputs": [
        {
          "output_type": "stream",
          "name": "stderr",
          "text": [
            "/usr/local/lib/python3.7/dist-packages/ipykernel_launcher.py:7: DataConversionWarning: A column-vector y was passed when a 1d array was expected. Please change the shape of y to (n_samples,), for example using ravel().\n",
            "  import sys\n"
          ]
        },
        {
          "output_type": "execute_result",
          "data": {
            "text/plain": [
              "RandomForestRegressor()"
            ]
          },
          "metadata": {},
          "execution_count": 14
        }
      ]
    },
    {
      "cell_type": "code",
      "source": [
        "y_iron_pred = model_iron.predict(test[['iron']])"
      ],
      "metadata": {
        "colab": {
          "base_uri": "https://localhost:8080/"
        },
        "id": "IXSBEXwzT5Dy",
        "outputId": "d8b07e8d-9c6f-4fa0-fb1b-d7ee9194cb74"
      },
      "execution_count": 15,
      "outputs": [
        {
          "output_type": "stream",
          "name": "stderr",
          "text": [
            "/usr/local/lib/python3.7/dist-packages/sklearn/base.py:444: UserWarning: X has feature names, but RandomForestRegressor was fitted without feature names\n",
            "  f\"X has feature names, but {self.__class__.__name__} was fitted without\"\n"
          ]
        }
      ]
    },
    {
      "cell_type": "code",
      "source": [
        "from sklearn.metrics import r2_score\n",
        "\n",
        "test_x = np.asanyarray(test[['no_of_cars']])\n",
        "test_y_iron = np.asanyarray(test[['iron']])\n",
        "test_y_hat_iron =model_iron.predict(test_x)\n",
        "\n",
        "print(\"Mean absolute error: %.2f\" % np.mean(np.absolute(test_y_hat_iron - test_y_iron)))\n",
        "\n",
        "print(\"R2-score: %.2f\" % r2_score(test_y_hat_iron , test_y_iron) )\n",
        "rmse= mean_squared_error( test_y_iron,test_y_hat_iron,squared=False)\n",
        "nrmse = rmse/np.std(test_y_iron)\n",
        "print(\"Rmse: %.2f\" % nrmse)"
      ],
      "metadata": {
        "colab": {
          "base_uri": "https://localhost:8080/"
        },
        "id": "nsydnJfFT8K_",
        "outputId": "4a458045-caf0-4eef-d5db-31b8f5f0a366"
      },
      "execution_count": 16,
      "outputs": [
        {
          "output_type": "stream",
          "name": "stdout",
          "text": [
            "Mean absolute error: 75123.37\n",
            "R2-score: 0.94\n",
            "Rmse: 0.22\n"
          ]
        }
      ]
    },
    {
      "cell_type": "markdown",
      "source": [
        "\n",
        "\n",
        "# **RUBBER**"
      ],
      "metadata": {
        "id": "k29iAzIeUohK"
      }
    },
    {
      "cell_type": "code",
      "source": [
        "from sklearn import linear_model\n",
        "model_rubber = RandomForestRegressor()\n",
        "train_x = np.asanyarray(train[['no_of_cars']])\n",
        "train_y_rubber = np.asanyarray(train[['rubber']])\n",
        "model_rubber.fit (train_x, train_y_rubber)"
      ],
      "metadata": {
        "colab": {
          "base_uri": "https://localhost:8080/"
        },
        "id": "pq5cKVmWUAG5",
        "outputId": "e4e700af-6f4d-495d-c221-c31c0f3a8fc4"
      },
      "execution_count": 17,
      "outputs": [
        {
          "output_type": "stream",
          "name": "stderr",
          "text": [
            "/usr/local/lib/python3.7/dist-packages/ipykernel_launcher.py:5: DataConversionWarning: A column-vector y was passed when a 1d array was expected. Please change the shape of y to (n_samples,), for example using ravel().\n",
            "  \"\"\"\n"
          ]
        },
        {
          "output_type": "execute_result",
          "data": {
            "text/plain": [
              "RandomForestRegressor()"
            ]
          },
          "metadata": {},
          "execution_count": 17
        }
      ]
    },
    {
      "cell_type": "code",
      "source": [
        "\n",
        "\n",
        "\n",
        "y_rubber_pred = model_rubber.predict(test[['rubber']])"
      ],
      "metadata": {
        "colab": {
          "base_uri": "https://localhost:8080/"
        },
        "id": "I4HyoMk8VQ3v",
        "outputId": "f6e0e0e2-bfd6-4b5a-cd51-3ee99410050d"
      },
      "execution_count": 18,
      "outputs": [
        {
          "output_type": "stream",
          "name": "stderr",
          "text": [
            "/usr/local/lib/python3.7/dist-packages/sklearn/base.py:444: UserWarning: X has feature names, but RandomForestRegressor was fitted without feature names\n",
            "  f\"X has feature names, but {self.__class__.__name__} was fitted without\"\n"
          ]
        }
      ]
    },
    {
      "cell_type": "code",
      "source": [
        "from sklearn.metrics import r2_score\n",
        "\n",
        "test_x = np.asanyarray(test[['no_of_cars']])\n",
        "test_y_rubber = np.asanyarray(test[['rubber']])\n",
        "test_y_hat_rubber =model_rubber.predict(test_x)\n",
        "\n",
        "print(\"Mean absolute error: %.2f\" % np.mean(np.absolute(test_y_hat_rubber - test_y_rubber)))\n",
        "print(\"R2-score: %.2f\" % r2_score(test_y_hat_rubber , test_y_rubber) )\n",
        "rmse= mean_squared_error( test_y_rubber,test_y_hat_rubber,squared=False)\n",
        "nrmse = rmse/np.std(test_y_rubber)\n",
        "print(\"Rmse: %.2f\" % nrmse)"
      ],
      "metadata": {
        "colab": {
          "base_uri": "https://localhost:8080/"
        },
        "id": "Qqjw-nmvVTdy",
        "outputId": "e3d7c1af-8be7-469c-a623-895b09de6bbf"
      },
      "execution_count": 19,
      "outputs": [
        {
          "output_type": "stream",
          "name": "stdout",
          "text": [
            "Mean absolute error: 85504.10\n",
            "R2-score: 0.96\n",
            "Rmse: 0.18\n"
          ]
        }
      ]
    },
    {
      "cell_type": "markdown",
      "source": [
        "# **ALUMINIUM**"
      ],
      "metadata": {
        "id": "KMUwR5jJVeLj"
      }
    },
    {
      "cell_type": "code",
      "source": [
        "from sklearn import linear_model\n",
        "model_aluminium = RandomForestRegressor()\n",
        "train_x = np.asanyarray(train[['no_of_cars']])\n",
        "train_y_aluminium = np.asanyarray(train[['aluminium']])\n",
        "model_aluminium.fit (train_x, train_y_aluminium)"
      ],
      "metadata": {
        "colab": {
          "base_uri": "https://localhost:8080/"
        },
        "id": "xRvudCYmVYiq",
        "outputId": "29301675-8343-4fe4-f25e-5a88bdb6c2d0"
      },
      "execution_count": 20,
      "outputs": [
        {
          "output_type": "stream",
          "name": "stderr",
          "text": [
            "/usr/local/lib/python3.7/dist-packages/ipykernel_launcher.py:5: DataConversionWarning: A column-vector y was passed when a 1d array was expected. Please change the shape of y to (n_samples,), for example using ravel().\n",
            "  \"\"\"\n"
          ]
        },
        {
          "output_type": "execute_result",
          "data": {
            "text/plain": [
              "RandomForestRegressor()"
            ]
          },
          "metadata": {},
          "execution_count": 20
        }
      ]
    },
    {
      "cell_type": "code",
      "source": [
        "y_aluminium_pred = model_aluminium.predict(test[['aluminium']])"
      ],
      "metadata": {
        "colab": {
          "base_uri": "https://localhost:8080/"
        },
        "id": "hXv8GPlMWIQ8",
        "outputId": "d7260e3d-1b36-492b-a3b2-6139c2ee16e5"
      },
      "execution_count": 21,
      "outputs": [
        {
          "output_type": "stream",
          "name": "stderr",
          "text": [
            "/usr/local/lib/python3.7/dist-packages/sklearn/base.py:444: UserWarning: X has feature names, but RandomForestRegressor was fitted without feature names\n",
            "  f\"X has feature names, but {self.__class__.__name__} was fitted without\"\n"
          ]
        }
      ]
    },
    {
      "cell_type": "code",
      "source": [
        "from sklearn.metrics import r2_score\n",
        "\n",
        "test_x = np.asanyarray(test[['no_of_cars']])\n",
        "test_y_aluminium = np.asanyarray(test[['aluminium']])\n",
        "test_y_hat_aluminium =model_aluminium.predict(test_x)\n",
        "\n",
        "print(\"Mean absolute error: %.2f\" % np.mean(np.absolute(test_y_hat_aluminium - test_y_aluminium)))\n",
        "\n",
        "print(\"R2-score: %.2f\" % r2_score(test_y_hat_aluminium , test_y_aluminium) )\n",
        "rmse= mean_squared_error( test_y_aluminium,test_y_hat_aluminium,squared=False)\n",
        "nrmse = rmse/np.std(test_y_aluminium)\n",
        "print(\"Rmse: %.2f\" % nrmse)"
      ],
      "metadata": {
        "colab": {
          "base_uri": "https://localhost:8080/"
        },
        "id": "7FfzCVFiWMMV",
        "outputId": "53651e29-0066-45c6-d041-1c7aa39f4903"
      },
      "execution_count": 22,
      "outputs": [
        {
          "output_type": "stream",
          "name": "stdout",
          "text": [
            "Mean absolute error: 122700.19\n",
            "R2-score: 0.98\n",
            "Rmse: 0.14\n"
          ]
        }
      ]
    },
    {
      "cell_type": "markdown",
      "source": [
        "# **GLASS**"
      ],
      "metadata": {
        "id": "-QPHBohKWWJy"
      }
    },
    {
      "cell_type": "code",
      "source": [
        "from sklearn import linear_model\n",
        "model_glass = RandomForestRegressor()\n",
        "train_x = np.asanyarray(train[['no_of_cars']])\n",
        "train_y_glass = np.asanyarray(train[['glass']])\n",
        "model_glass.fit (train_x, train_y_glass)"
      ],
      "metadata": {
        "colab": {
          "base_uri": "https://localhost:8080/"
        },
        "id": "5xOQ-PL3WRJY",
        "outputId": "0876cf8f-886e-445d-9e44-3f600f8c3de6"
      },
      "execution_count": 23,
      "outputs": [
        {
          "output_type": "stream",
          "name": "stderr",
          "text": [
            "/usr/local/lib/python3.7/dist-packages/ipykernel_launcher.py:5: DataConversionWarning: A column-vector y was passed when a 1d array was expected. Please change the shape of y to (n_samples,), for example using ravel().\n",
            "  \"\"\"\n"
          ]
        },
        {
          "output_type": "execute_result",
          "data": {
            "text/plain": [
              "RandomForestRegressor()"
            ]
          },
          "metadata": {},
          "execution_count": 23
        }
      ]
    },
    {
      "cell_type": "code",
      "source": [
        "y_glass_pred = model_glass.predict(test[['rubber']])"
      ],
      "metadata": {
        "colab": {
          "base_uri": "https://localhost:8080/"
        },
        "id": "NOdh5beGWaso",
        "outputId": "dd5e482e-5702-4f46-b531-dbb82c936a57"
      },
      "execution_count": 24,
      "outputs": [
        {
          "output_type": "stream",
          "name": "stderr",
          "text": [
            "/usr/local/lib/python3.7/dist-packages/sklearn/base.py:444: UserWarning: X has feature names, but RandomForestRegressor was fitted without feature names\n",
            "  f\"X has feature names, but {self.__class__.__name__} was fitted without\"\n"
          ]
        }
      ]
    },
    {
      "cell_type": "code",
      "source": [
        "from sklearn.metrics import r2_score\n",
        "\n",
        "test_x = np.asanyarray(test[['no_of_cars']])\n",
        "test_y_glass = np.asanyarray(test[['glass']])\n",
        "test_y_hat_glass =model_glass.predict(test_x)\n",
        "\n",
        "print(\"Mean absolute error: %.2f\" % np.mean(np.absolute(test_y_hat_glass - test_y_glass)))\n",
        "print(\"R2-score: %.2f\" % r2_score(test_y_hat_glass , test_y_glass) )\n",
        "rmse= mean_squared_error( test_y_glass,test_y_hat_glass,squared=False)\n",
        "nrmse = rmse/np.std(test_y_glass)\n",
        "print(\"Rmse: %.2f\" % nrmse)"
      ],
      "metadata": {
        "colab": {
          "base_uri": "https://localhost:8080/"
        },
        "id": "GBMrGaI1WdRB",
        "outputId": "5f90f05d-141f-4cec-f72f-c12d9feaee4d"
      },
      "execution_count": 25,
      "outputs": [
        {
          "output_type": "stream",
          "name": "stdout",
          "text": [
            "Mean absolute error: 54740.16\n",
            "R2-score: 0.99\n",
            "Rmse: 0.12\n"
          ]
        }
      ]
    },
    {
      "cell_type": "markdown",
      "source": [
        "# **COPPER**"
      ],
      "metadata": {
        "id": "XLaVrDgfusQw"
      }
    },
    {
      "cell_type": "code",
      "source": [
        "from sklearn import linear_model\n",
        "model_copper = RandomForestRegressor()\n",
        "train_x = np.asanyarray(train[['no_of_cars']])\n",
        "\n",
        "train_y_copper = np.asanyarray(train[['copper']])\n",
        "model_copper.fit (train_x, train_y_copper.ravel())"
      ],
      "metadata": {
        "colab": {
          "base_uri": "https://localhost:8080/"
        },
        "id": "8Db_FNP_Wgfv",
        "outputId": "7bb249c7-9a00-4099-dfd5-03efc57f04c7"
      },
      "execution_count": 26,
      "outputs": [
        {
          "output_type": "execute_result",
          "data": {
            "text/plain": [
              "RandomForestRegressor()"
            ]
          },
          "metadata": {},
          "execution_count": 26
        }
      ]
    },
    {
      "cell_type": "code",
      "source": [
        "from sklearn.metrics import r2_score\n",
        "\n",
        "test_x = np.asanyarray(test[['no_of_cars']])\n",
        "test_y_copper = np.asanyarray(test[['copper']])\n",
        "test_y_hat_copper =model_copper.predict(test_x)\n",
        "\n",
        "print(\"Mean absolute error: %.2f\" % np.mean(np.absolute(test_y_hat_copper - test_y_copper)))\n",
        "\n",
        "print(\"R2-score: %.2f\" % r2_score(test_y_hat_copper , test_y_copper) )\n",
        "rmse= mean_squared_error( test_y_copper,test_y_hat_copper,squared=False)\n",
        "nrmse = rmse/np.std(test_y_copper)\n",
        "print(\"Rmse: %.2f\" % nrmse)"
      ],
      "metadata": {
        "colab": {
          "base_uri": "https://localhost:8080/"
        },
        "id": "fjL4LGMnWkWz",
        "outputId": "9ee79be4-ffef-4905-8e5a-a79ea2ae1f3a"
      },
      "execution_count": 27,
      "outputs": [
        {
          "output_type": "stream",
          "name": "stdout",
          "text": [
            "Mean absolute error: 21376.24\n",
            "R2-score: 0.99\n",
            "Rmse: 0.10\n"
          ]
        }
      ]
    },
    {
      "cell_type": "code",
      "source": [
        ""
      ],
      "metadata": {
        "id": "LzZCM-PbWo-p"
      },
      "execution_count": 27,
      "outputs": []
    },
    {
      "cell_type": "code",
      "source": [
        "  "
      ],
      "metadata": {
        "id": "9nt0YNEhEHQE"
      },
      "execution_count": 27,
      "outputs": []
    },
    {
      "cell_type": "code",
      "source": [
        ""
      ],
      "metadata": {
        "id": "krsZamZ_g60b"
      },
      "execution_count": 27,
      "outputs": []
    }
  ]
}