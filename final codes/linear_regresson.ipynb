{
  "nbformat": 4,
  "nbformat_minor": 0,
  "metadata": {
    "colab": {
      "name": "linear regresson.ipynb",
      "provenance": [],
      "collapsed_sections": [
        "YoTKUm2o6GOj",
        "8iMoy8rcYyNa",
        "eHJQ2_KDa1rY",
        "stnGKyMSdHSV",
        "JJTd7RfifbyL",
        "SSmMZN2TflMI"
      ]
    },
    "kernelspec": {
      "name": "python3",
      "display_name": "Python 3"
    },
    "language_info": {
      "name": "python"
    }
  },
  "cells": [
    {
      "cell_type": "code",
      "execution_count": null,
      "metadata": {
        "id": "3vLd8FIZzldJ"
      },
      "outputs": [],
      "source": [
        "import pandas as pd\n",
        "import numpy as np\n",
        "import pickle\n",
        "from sklearn import preprocessing\n",
        "import matplotlib.pyplot as plt  \n",
        "%matplotlib inline\n"
      ]
    },
    {
      "cell_type": "code",
      "source": [
        "!git clone https://github.com/Nitesh167/raw-materials-forecasting.git\n"
      ],
      "metadata": {
        "colab": {
          "base_uri": "https://localhost:8080/"
        },
        "id": "8mKp6V3ezsin",
        "outputId": "eeeea412-add6-4e09-acae-4a58f59bf8ca"
      },
      "execution_count": null,
      "outputs": [
        {
          "output_type": "stream",
          "name": "stdout",
          "text": [
            "Cloning into 'raw-materials-forecasting'...\n",
            "remote: Enumerating objects: 47, done.\u001b[K\n",
            "remote: Counting objects: 100% (28/28), done.\u001b[K\n",
            "remote: Compressing objects: 100% (28/28), done.\u001b[K\n",
            "remote: Total 47 (delta 8), reused 0 (delta 0), pack-reused 19\u001b[K\n",
            "Unpacking objects: 100% (47/47), done.\n"
          ]
        }
      ]
    },
    {
      "cell_type": "code",
      "source": [
        "cd raw-materials-forecasting/"
      ],
      "metadata": {
        "colab": {
          "base_uri": "https://localhost:8080/"
        },
        "id": "7UUXoXMOzvzC",
        "outputId": "4539d400-1d4f-43be-9c81-5b962ee488ba"
      },
      "execution_count": null,
      "outputs": [
        {
          "output_type": "stream",
          "name": "stdout",
          "text": [
            "/content/raw-materials-forecasting/raw-materials-forecasting/raw-materials-forecasting/raw-materials-forecasting\n"
          ]
        }
      ]
    },
    {
      "cell_type": "code",
      "source": [
        "df=pd.read_csv('dataset_value2.csv')\n",
        "df.columns=['Year',\"no_of_cars\",\"steel\",\"plastics\",\"iron\",\"rubber\",\"aluminium\",\"glass\",\"copper\"]\n",
        "df.head(10)\n"
      ],
      "metadata": {
        "colab": {
          "base_uri": "https://localhost:8080/",
          "height": 363
        },
        "id": "-PAj5FTkz2OT",
        "outputId": "6073352d-9d35-4273-9c8a-d321f03c103d"
      },
      "execution_count": null,
      "outputs": [
        {
          "output_type": "execute_result",
          "data": {
            "text/plain": [
              "        Year  no_of_cars      steel  plastics      iron    rubber  aluminium  \\\n",
              "0  2001-2002      669719   505463.7   86072.3   70039.2   38816.9    24471.5   \n",
              "1  2002-2003      723330   572265.4  100524.4   76557.2   44020.4    28708.9   \n",
              "2  2003-2004      989560   811239.3  139558.5  108891.2   61251.2    42195.3   \n",
              "3  2004-2005     1209876  1045361.9  187176.3  139499.3   82993.2    54740.2   \n",
              "4  2005-2006     1309300  1151778.1  206929.6  150316.8   93703.9    62469.3   \n",
              "5  2006-2007     1545234  1409559.4  259339.7  177695.7  117663.3    79242.6   \n",
              "6  2007-2008     1777583  1645920.9  311564.3  208558.4  146554.6    98642.5   \n",
              "7  2008-2009     1838593  1648801.5  359327.6  212921.7  153244.8   102163.2   \n",
              "8  2009-2010     2357411  2070944.3  398196.5  251241.0  204582.0   136388.0   \n",
              "9  2010-2011     2987296  2619488.2  522065.8  286828.2  261032.9   178601.4   \n",
              "\n",
              "      glass   copper  \n",
              "0   25315.3   8016.5  \n",
              "1   29665.9   9569.6  \n",
              "2   40834.2  13611.4  \n",
              "3   51208.6  19423.9  \n",
              "4   56612.8  19521.6  \n",
              "5   72038.8  24012.9  \n",
              "6   90187.4  28183.5  \n",
              "7   87973.9  31216.5  \n",
              "8  107674.7  39480.7  \n",
              "9  141965.2  50374.7  "
            ],
            "text/html": [
              "\n",
              "  <div id=\"df-ca5dad63-0ace-4f41-8354-b842ec964ab5\">\n",
              "    <div class=\"colab-df-container\">\n",
              "      <div>\n",
              "<style scoped>\n",
              "    .dataframe tbody tr th:only-of-type {\n",
              "        vertical-align: middle;\n",
              "    }\n",
              "\n",
              "    .dataframe tbody tr th {\n",
              "        vertical-align: top;\n",
              "    }\n",
              "\n",
              "    .dataframe thead th {\n",
              "        text-align: right;\n",
              "    }\n",
              "</style>\n",
              "<table border=\"1\" class=\"dataframe\">\n",
              "  <thead>\n",
              "    <tr style=\"text-align: right;\">\n",
              "      <th></th>\n",
              "      <th>Year</th>\n",
              "      <th>no_of_cars</th>\n",
              "      <th>steel</th>\n",
              "      <th>plastics</th>\n",
              "      <th>iron</th>\n",
              "      <th>rubber</th>\n",
              "      <th>aluminium</th>\n",
              "      <th>glass</th>\n",
              "      <th>copper</th>\n",
              "    </tr>\n",
              "  </thead>\n",
              "  <tbody>\n",
              "    <tr>\n",
              "      <th>0</th>\n",
              "      <td>2001-2002</td>\n",
              "      <td>669719</td>\n",
              "      <td>505463.7</td>\n",
              "      <td>86072.3</td>\n",
              "      <td>70039.2</td>\n",
              "      <td>38816.9</td>\n",
              "      <td>24471.5</td>\n",
              "      <td>25315.3</td>\n",
              "      <td>8016.5</td>\n",
              "    </tr>\n",
              "    <tr>\n",
              "      <th>1</th>\n",
              "      <td>2002-2003</td>\n",
              "      <td>723330</td>\n",
              "      <td>572265.4</td>\n",
              "      <td>100524.4</td>\n",
              "      <td>76557.2</td>\n",
              "      <td>44020.4</td>\n",
              "      <td>28708.9</td>\n",
              "      <td>29665.9</td>\n",
              "      <td>9569.6</td>\n",
              "    </tr>\n",
              "    <tr>\n",
              "      <th>2</th>\n",
              "      <td>2003-2004</td>\n",
              "      <td>989560</td>\n",
              "      <td>811239.3</td>\n",
              "      <td>139558.5</td>\n",
              "      <td>108891.2</td>\n",
              "      <td>61251.2</td>\n",
              "      <td>42195.3</td>\n",
              "      <td>40834.2</td>\n",
              "      <td>13611.4</td>\n",
              "    </tr>\n",
              "    <tr>\n",
              "      <th>3</th>\n",
              "      <td>2004-2005</td>\n",
              "      <td>1209876</td>\n",
              "      <td>1045361.9</td>\n",
              "      <td>187176.3</td>\n",
              "      <td>139499.3</td>\n",
              "      <td>82993.2</td>\n",
              "      <td>54740.2</td>\n",
              "      <td>51208.6</td>\n",
              "      <td>19423.9</td>\n",
              "    </tr>\n",
              "    <tr>\n",
              "      <th>4</th>\n",
              "      <td>2005-2006</td>\n",
              "      <td>1309300</td>\n",
              "      <td>1151778.1</td>\n",
              "      <td>206929.6</td>\n",
              "      <td>150316.8</td>\n",
              "      <td>93703.9</td>\n",
              "      <td>62469.3</td>\n",
              "      <td>56612.8</td>\n",
              "      <td>19521.6</td>\n",
              "    </tr>\n",
              "    <tr>\n",
              "      <th>5</th>\n",
              "      <td>2006-2007</td>\n",
              "      <td>1545234</td>\n",
              "      <td>1409559.4</td>\n",
              "      <td>259339.7</td>\n",
              "      <td>177695.7</td>\n",
              "      <td>117663.3</td>\n",
              "      <td>79242.6</td>\n",
              "      <td>72038.8</td>\n",
              "      <td>24012.9</td>\n",
              "    </tr>\n",
              "    <tr>\n",
              "      <th>6</th>\n",
              "      <td>2007-2008</td>\n",
              "      <td>1777583</td>\n",
              "      <td>1645920.9</td>\n",
              "      <td>311564.3</td>\n",
              "      <td>208558.4</td>\n",
              "      <td>146554.6</td>\n",
              "      <td>98642.5</td>\n",
              "      <td>90187.4</td>\n",
              "      <td>28183.5</td>\n",
              "    </tr>\n",
              "    <tr>\n",
              "      <th>7</th>\n",
              "      <td>2008-2009</td>\n",
              "      <td>1838593</td>\n",
              "      <td>1648801.5</td>\n",
              "      <td>359327.6</td>\n",
              "      <td>212921.7</td>\n",
              "      <td>153244.8</td>\n",
              "      <td>102163.2</td>\n",
              "      <td>87973.9</td>\n",
              "      <td>31216.5</td>\n",
              "    </tr>\n",
              "    <tr>\n",
              "      <th>8</th>\n",
              "      <td>2009-2010</td>\n",
              "      <td>2357411</td>\n",
              "      <td>2070944.3</td>\n",
              "      <td>398196.5</td>\n",
              "      <td>251241.0</td>\n",
              "      <td>204582.0</td>\n",
              "      <td>136388.0</td>\n",
              "      <td>107674.7</td>\n",
              "      <td>39480.7</td>\n",
              "    </tr>\n",
              "    <tr>\n",
              "      <th>9</th>\n",
              "      <td>2010-2011</td>\n",
              "      <td>2987296</td>\n",
              "      <td>2619488.2</td>\n",
              "      <td>522065.8</td>\n",
              "      <td>286828.2</td>\n",
              "      <td>261032.9</td>\n",
              "      <td>178601.4</td>\n",
              "      <td>141965.2</td>\n",
              "      <td>50374.7</td>\n",
              "    </tr>\n",
              "  </tbody>\n",
              "</table>\n",
              "</div>\n",
              "      <button class=\"colab-df-convert\" onclick=\"convertToInteractive('df-ca5dad63-0ace-4f41-8354-b842ec964ab5')\"\n",
              "              title=\"Convert this dataframe to an interactive table.\"\n",
              "              style=\"display:none;\">\n",
              "        \n",
              "  <svg xmlns=\"http://www.w3.org/2000/svg\" height=\"24px\"viewBox=\"0 0 24 24\"\n",
              "       width=\"24px\">\n",
              "    <path d=\"M0 0h24v24H0V0z\" fill=\"none\"/>\n",
              "    <path d=\"M18.56 5.44l.94 2.06.94-2.06 2.06-.94-2.06-.94-.94-2.06-.94 2.06-2.06.94zm-11 1L8.5 8.5l.94-2.06 2.06-.94-2.06-.94L8.5 2.5l-.94 2.06-2.06.94zm10 10l.94 2.06.94-2.06 2.06-.94-2.06-.94-.94-2.06-.94 2.06-2.06.94z\"/><path d=\"M17.41 7.96l-1.37-1.37c-.4-.4-.92-.59-1.43-.59-.52 0-1.04.2-1.43.59L10.3 9.45l-7.72 7.72c-.78.78-.78 2.05 0 2.83L4 21.41c.39.39.9.59 1.41.59.51 0 1.02-.2 1.41-.59l7.78-7.78 2.81-2.81c.8-.78.8-2.07 0-2.86zM5.41 20L4 18.59l7.72-7.72 1.47 1.35L5.41 20z\"/>\n",
              "  </svg>\n",
              "      </button>\n",
              "      \n",
              "  <style>\n",
              "    .colab-df-container {\n",
              "      display:flex;\n",
              "      flex-wrap:wrap;\n",
              "      gap: 12px;\n",
              "    }\n",
              "\n",
              "    .colab-df-convert {\n",
              "      background-color: #E8F0FE;\n",
              "      border: none;\n",
              "      border-radius: 50%;\n",
              "      cursor: pointer;\n",
              "      display: none;\n",
              "      fill: #1967D2;\n",
              "      height: 32px;\n",
              "      padding: 0 0 0 0;\n",
              "      width: 32px;\n",
              "    }\n",
              "\n",
              "    .colab-df-convert:hover {\n",
              "      background-color: #E2EBFA;\n",
              "      box-shadow: 0px 1px 2px rgba(60, 64, 67, 0.3), 0px 1px 3px 1px rgba(60, 64, 67, 0.15);\n",
              "      fill: #174EA6;\n",
              "    }\n",
              "\n",
              "    [theme=dark] .colab-df-convert {\n",
              "      background-color: #3B4455;\n",
              "      fill: #D2E3FC;\n",
              "    }\n",
              "\n",
              "    [theme=dark] .colab-df-convert:hover {\n",
              "      background-color: #434B5C;\n",
              "      box-shadow: 0px 1px 3px 1px rgba(0, 0, 0, 0.15);\n",
              "      filter: drop-shadow(0px 1px 2px rgba(0, 0, 0, 0.3));\n",
              "      fill: #FFFFFF;\n",
              "    }\n",
              "  </style>\n",
              "\n",
              "      <script>\n",
              "        const buttonEl =\n",
              "          document.querySelector('#df-ca5dad63-0ace-4f41-8354-b842ec964ab5 button.colab-df-convert');\n",
              "        buttonEl.style.display =\n",
              "          google.colab.kernel.accessAllowed ? 'block' : 'none';\n",
              "\n",
              "        async function convertToInteractive(key) {\n",
              "          const element = document.querySelector('#df-ca5dad63-0ace-4f41-8354-b842ec964ab5');\n",
              "          const dataTable =\n",
              "            await google.colab.kernel.invokeFunction('convertToInteractive',\n",
              "                                                     [key], {});\n",
              "          if (!dataTable) return;\n",
              "\n",
              "          const docLinkHtml = 'Like what you see? Visit the ' +\n",
              "            '<a target=\"_blank\" href=https://colab.research.google.com/notebooks/data_table.ipynb>data table notebook</a>'\n",
              "            + ' to learn more about interactive tables.';\n",
              "          element.innerHTML = '';\n",
              "          dataTable['output_type'] = 'display_data';\n",
              "          await google.colab.output.renderOutput(dataTable, element);\n",
              "          const docLink = document.createElement('div');\n",
              "          docLink.innerHTML = docLinkHtml;\n",
              "          element.appendChild(docLink);\n",
              "        }\n",
              "      </script>\n",
              "    </div>\n",
              "  </div>\n",
              "  "
            ]
          },
          "metadata": {},
          "execution_count": 107
        }
      ]
    },
    {
      "cell_type": "code",
      "source": [
        "#delete column \n",
        "del df[\"Year\"]\n",
        "\n",
        "df.head()"
      ],
      "metadata": {
        "colab": {
          "base_uri": "https://localhost:8080/",
          "height": 206
        },
        "id": "_hdC3tGB0E4d",
        "outputId": "415cdc3c-91c0-43b5-e01b-1833641eddc9"
      },
      "execution_count": null,
      "outputs": [
        {
          "output_type": "execute_result",
          "data": {
            "text/plain": [
              "   no_of_cars      steel  plastics      iron   rubber  aluminium    glass  \\\n",
              "0      669719   505463.7   86072.3   70039.2  38816.9    24471.5  25315.3   \n",
              "1      723330   572265.4  100524.4   76557.2  44020.4    28708.9  29665.9   \n",
              "2      989560   811239.3  139558.5  108891.2  61251.2    42195.3  40834.2   \n",
              "3     1209876  1045361.9  187176.3  139499.3  82993.2    54740.2  51208.6   \n",
              "4     1309300  1151778.1  206929.6  150316.8  93703.9    62469.3  56612.8   \n",
              "\n",
              "    copper  \n",
              "0   8016.5  \n",
              "1   9569.6  \n",
              "2  13611.4  \n",
              "3  19423.9  \n",
              "4  19521.6  "
            ],
            "text/html": [
              "\n",
              "  <div id=\"df-40bfc09e-4252-4e80-8d2c-5fd9328e6eb3\">\n",
              "    <div class=\"colab-df-container\">\n",
              "      <div>\n",
              "<style scoped>\n",
              "    .dataframe tbody tr th:only-of-type {\n",
              "        vertical-align: middle;\n",
              "    }\n",
              "\n",
              "    .dataframe tbody tr th {\n",
              "        vertical-align: top;\n",
              "    }\n",
              "\n",
              "    .dataframe thead th {\n",
              "        text-align: right;\n",
              "    }\n",
              "</style>\n",
              "<table border=\"1\" class=\"dataframe\">\n",
              "  <thead>\n",
              "    <tr style=\"text-align: right;\">\n",
              "      <th></th>\n",
              "      <th>no_of_cars</th>\n",
              "      <th>steel</th>\n",
              "      <th>plastics</th>\n",
              "      <th>iron</th>\n",
              "      <th>rubber</th>\n",
              "      <th>aluminium</th>\n",
              "      <th>glass</th>\n",
              "      <th>copper</th>\n",
              "    </tr>\n",
              "  </thead>\n",
              "  <tbody>\n",
              "    <tr>\n",
              "      <th>0</th>\n",
              "      <td>669719</td>\n",
              "      <td>505463.7</td>\n",
              "      <td>86072.3</td>\n",
              "      <td>70039.2</td>\n",
              "      <td>38816.9</td>\n",
              "      <td>24471.5</td>\n",
              "      <td>25315.3</td>\n",
              "      <td>8016.5</td>\n",
              "    </tr>\n",
              "    <tr>\n",
              "      <th>1</th>\n",
              "      <td>723330</td>\n",
              "      <td>572265.4</td>\n",
              "      <td>100524.4</td>\n",
              "      <td>76557.2</td>\n",
              "      <td>44020.4</td>\n",
              "      <td>28708.9</td>\n",
              "      <td>29665.9</td>\n",
              "      <td>9569.6</td>\n",
              "    </tr>\n",
              "    <tr>\n",
              "      <th>2</th>\n",
              "      <td>989560</td>\n",
              "      <td>811239.3</td>\n",
              "      <td>139558.5</td>\n",
              "      <td>108891.2</td>\n",
              "      <td>61251.2</td>\n",
              "      <td>42195.3</td>\n",
              "      <td>40834.2</td>\n",
              "      <td>13611.4</td>\n",
              "    </tr>\n",
              "    <tr>\n",
              "      <th>3</th>\n",
              "      <td>1209876</td>\n",
              "      <td>1045361.9</td>\n",
              "      <td>187176.3</td>\n",
              "      <td>139499.3</td>\n",
              "      <td>82993.2</td>\n",
              "      <td>54740.2</td>\n",
              "      <td>51208.6</td>\n",
              "      <td>19423.9</td>\n",
              "    </tr>\n",
              "    <tr>\n",
              "      <th>4</th>\n",
              "      <td>1309300</td>\n",
              "      <td>1151778.1</td>\n",
              "      <td>206929.6</td>\n",
              "      <td>150316.8</td>\n",
              "      <td>93703.9</td>\n",
              "      <td>62469.3</td>\n",
              "      <td>56612.8</td>\n",
              "      <td>19521.6</td>\n",
              "    </tr>\n",
              "  </tbody>\n",
              "</table>\n",
              "</div>\n",
              "      <button class=\"colab-df-convert\" onclick=\"convertToInteractive('df-40bfc09e-4252-4e80-8d2c-5fd9328e6eb3')\"\n",
              "              title=\"Convert this dataframe to an interactive table.\"\n",
              "              style=\"display:none;\">\n",
              "        \n",
              "  <svg xmlns=\"http://www.w3.org/2000/svg\" height=\"24px\"viewBox=\"0 0 24 24\"\n",
              "       width=\"24px\">\n",
              "    <path d=\"M0 0h24v24H0V0z\" fill=\"none\"/>\n",
              "    <path d=\"M18.56 5.44l.94 2.06.94-2.06 2.06-.94-2.06-.94-.94-2.06-.94 2.06-2.06.94zm-11 1L8.5 8.5l.94-2.06 2.06-.94-2.06-.94L8.5 2.5l-.94 2.06-2.06.94zm10 10l.94 2.06.94-2.06 2.06-.94-2.06-.94-.94-2.06-.94 2.06-2.06.94z\"/><path d=\"M17.41 7.96l-1.37-1.37c-.4-.4-.92-.59-1.43-.59-.52 0-1.04.2-1.43.59L10.3 9.45l-7.72 7.72c-.78.78-.78 2.05 0 2.83L4 21.41c.39.39.9.59 1.41.59.51 0 1.02-.2 1.41-.59l7.78-7.78 2.81-2.81c.8-.78.8-2.07 0-2.86zM5.41 20L4 18.59l7.72-7.72 1.47 1.35L5.41 20z\"/>\n",
              "  </svg>\n",
              "      </button>\n",
              "      \n",
              "  <style>\n",
              "    .colab-df-container {\n",
              "      display:flex;\n",
              "      flex-wrap:wrap;\n",
              "      gap: 12px;\n",
              "    }\n",
              "\n",
              "    .colab-df-convert {\n",
              "      background-color: #E8F0FE;\n",
              "      border: none;\n",
              "      border-radius: 50%;\n",
              "      cursor: pointer;\n",
              "      display: none;\n",
              "      fill: #1967D2;\n",
              "      height: 32px;\n",
              "      padding: 0 0 0 0;\n",
              "      width: 32px;\n",
              "    }\n",
              "\n",
              "    .colab-df-convert:hover {\n",
              "      background-color: #E2EBFA;\n",
              "      box-shadow: 0px 1px 2px rgba(60, 64, 67, 0.3), 0px 1px 3px 1px rgba(60, 64, 67, 0.15);\n",
              "      fill: #174EA6;\n",
              "    }\n",
              "\n",
              "    [theme=dark] .colab-df-convert {\n",
              "      background-color: #3B4455;\n",
              "      fill: #D2E3FC;\n",
              "    }\n",
              "\n",
              "    [theme=dark] .colab-df-convert:hover {\n",
              "      background-color: #434B5C;\n",
              "      box-shadow: 0px 1px 3px 1px rgba(0, 0, 0, 0.15);\n",
              "      filter: drop-shadow(0px 1px 2px rgba(0, 0, 0, 0.3));\n",
              "      fill: #FFFFFF;\n",
              "    }\n",
              "  </style>\n",
              "\n",
              "      <script>\n",
              "        const buttonEl =\n",
              "          document.querySelector('#df-40bfc09e-4252-4e80-8d2c-5fd9328e6eb3 button.colab-df-convert');\n",
              "        buttonEl.style.display =\n",
              "          google.colab.kernel.accessAllowed ? 'block' : 'none';\n",
              "\n",
              "        async function convertToInteractive(key) {\n",
              "          const element = document.querySelector('#df-40bfc09e-4252-4e80-8d2c-5fd9328e6eb3');\n",
              "          const dataTable =\n",
              "            await google.colab.kernel.invokeFunction('convertToInteractive',\n",
              "                                                     [key], {});\n",
              "          if (!dataTable) return;\n",
              "\n",
              "          const docLinkHtml = 'Like what you see? Visit the ' +\n",
              "            '<a target=\"_blank\" href=https://colab.research.google.com/notebooks/data_table.ipynb>data table notebook</a>'\n",
              "            + ' to learn more about interactive tables.';\n",
              "          element.innerHTML = '';\n",
              "          dataTable['output_type'] = 'display_data';\n",
              "          await google.colab.output.renderOutput(dataTable, element);\n",
              "          const docLink = document.createElement('div');\n",
              "          docLink.innerHTML = docLinkHtml;\n",
              "          element.appendChild(docLink);\n",
              "        }\n",
              "      </script>\n",
              "    </div>\n",
              "  </div>\n",
              "  "
            ]
          },
          "metadata": {},
          "execution_count": 108
        }
      ]
    },
    {
      "cell_type": "code",
      "source": [
        "'''from sklearn.preprocessing import StandardScaler\n",
        "cols_to_norm = ['no_of_cars','steel','plastics','iron','rubber','aluminium','glass','copper']\n",
        "df[cols_to_norm] = StandardScaler().fit_transform(df[cols_to_norm])'''"
      ],
      "metadata": {
        "id": "9JR6u54sUNIg",
        "colab": {
          "base_uri": "https://localhost:8080/",
          "height": 53
        },
        "outputId": "4bfa254d-28f7-499e-c098-dc8098f8df2c"
      },
      "execution_count": null,
      "outputs": [
        {
          "output_type": "execute_result",
          "data": {
            "text/plain": [
              "\"from sklearn.preprocessing import StandardScaler\\ncols_to_norm = ['no_of_cars','steel','plastics','iron','rubber','aluminium','glass','copper']\\ndf[cols_to_norm] = StandardScaler().fit_transform(df[cols_to_norm])\""
            ],
            "application/vnd.google.colaboratory.intrinsic+json": {
              "type": "string"
            }
          },
          "metadata": {},
          "execution_count": 109
        }
      ]
    },
    {
      "cell_type": "code",
      "source": [
        "df.head(10)"
      ],
      "metadata": {
        "colab": {
          "base_uri": "https://localhost:8080/",
          "height": 363
        },
        "id": "cA96fQrsUOTQ",
        "outputId": "04ce3c1d-3357-456f-b6c8-b67ce100647d"
      },
      "execution_count": null,
      "outputs": [
        {
          "output_type": "execute_result",
          "data": {
            "text/plain": [
              "   no_of_cars      steel  plastics      iron    rubber  aluminium     glass  \\\n",
              "0      669719   505463.7   86072.3   70039.2   38816.9    24471.5   25315.3   \n",
              "1      723330   572265.4  100524.4   76557.2   44020.4    28708.9   29665.9   \n",
              "2      989560   811239.3  139558.5  108891.2   61251.2    42195.3   40834.2   \n",
              "3     1209876  1045361.9  187176.3  139499.3   82993.2    54740.2   51208.6   \n",
              "4     1309300  1151778.1  206929.6  150316.8   93703.9    62469.3   56612.8   \n",
              "5     1545234  1409559.4  259339.7  177695.7  117663.3    79242.6   72038.8   \n",
              "6     1777583  1645920.9  311564.3  208558.4  146554.6    98642.5   90187.4   \n",
              "7     1838593  1648801.5  359327.6  212921.7  153244.8   102163.2   87973.9   \n",
              "8     2357411  2070944.3  398196.5  251241.0  204582.0   136388.0  107674.7   \n",
              "9     2987296  2619488.2  522065.8  286828.2  261032.9   178601.4  141965.2   \n",
              "\n",
              "    copper  \n",
              "0   8016.5  \n",
              "1   9569.6  \n",
              "2  13611.4  \n",
              "3  19423.9  \n",
              "4  19521.6  \n",
              "5  24012.9  \n",
              "6  28183.5  \n",
              "7  31216.5  \n",
              "8  39480.7  \n",
              "9  50374.7  "
            ],
            "text/html": [
              "\n",
              "  <div id=\"df-7c147d9e-5259-41ed-ab1f-f84b433461aa\">\n",
              "    <div class=\"colab-df-container\">\n",
              "      <div>\n",
              "<style scoped>\n",
              "    .dataframe tbody tr th:only-of-type {\n",
              "        vertical-align: middle;\n",
              "    }\n",
              "\n",
              "    .dataframe tbody tr th {\n",
              "        vertical-align: top;\n",
              "    }\n",
              "\n",
              "    .dataframe thead th {\n",
              "        text-align: right;\n",
              "    }\n",
              "</style>\n",
              "<table border=\"1\" class=\"dataframe\">\n",
              "  <thead>\n",
              "    <tr style=\"text-align: right;\">\n",
              "      <th></th>\n",
              "      <th>no_of_cars</th>\n",
              "      <th>steel</th>\n",
              "      <th>plastics</th>\n",
              "      <th>iron</th>\n",
              "      <th>rubber</th>\n",
              "      <th>aluminium</th>\n",
              "      <th>glass</th>\n",
              "      <th>copper</th>\n",
              "    </tr>\n",
              "  </thead>\n",
              "  <tbody>\n",
              "    <tr>\n",
              "      <th>0</th>\n",
              "      <td>669719</td>\n",
              "      <td>505463.7</td>\n",
              "      <td>86072.3</td>\n",
              "      <td>70039.2</td>\n",
              "      <td>38816.9</td>\n",
              "      <td>24471.5</td>\n",
              "      <td>25315.3</td>\n",
              "      <td>8016.5</td>\n",
              "    </tr>\n",
              "    <tr>\n",
              "      <th>1</th>\n",
              "      <td>723330</td>\n",
              "      <td>572265.4</td>\n",
              "      <td>100524.4</td>\n",
              "      <td>76557.2</td>\n",
              "      <td>44020.4</td>\n",
              "      <td>28708.9</td>\n",
              "      <td>29665.9</td>\n",
              "      <td>9569.6</td>\n",
              "    </tr>\n",
              "    <tr>\n",
              "      <th>2</th>\n",
              "      <td>989560</td>\n",
              "      <td>811239.3</td>\n",
              "      <td>139558.5</td>\n",
              "      <td>108891.2</td>\n",
              "      <td>61251.2</td>\n",
              "      <td>42195.3</td>\n",
              "      <td>40834.2</td>\n",
              "      <td>13611.4</td>\n",
              "    </tr>\n",
              "    <tr>\n",
              "      <th>3</th>\n",
              "      <td>1209876</td>\n",
              "      <td>1045361.9</td>\n",
              "      <td>187176.3</td>\n",
              "      <td>139499.3</td>\n",
              "      <td>82993.2</td>\n",
              "      <td>54740.2</td>\n",
              "      <td>51208.6</td>\n",
              "      <td>19423.9</td>\n",
              "    </tr>\n",
              "    <tr>\n",
              "      <th>4</th>\n",
              "      <td>1309300</td>\n",
              "      <td>1151778.1</td>\n",
              "      <td>206929.6</td>\n",
              "      <td>150316.8</td>\n",
              "      <td>93703.9</td>\n",
              "      <td>62469.3</td>\n",
              "      <td>56612.8</td>\n",
              "      <td>19521.6</td>\n",
              "    </tr>\n",
              "    <tr>\n",
              "      <th>5</th>\n",
              "      <td>1545234</td>\n",
              "      <td>1409559.4</td>\n",
              "      <td>259339.7</td>\n",
              "      <td>177695.7</td>\n",
              "      <td>117663.3</td>\n",
              "      <td>79242.6</td>\n",
              "      <td>72038.8</td>\n",
              "      <td>24012.9</td>\n",
              "    </tr>\n",
              "    <tr>\n",
              "      <th>6</th>\n",
              "      <td>1777583</td>\n",
              "      <td>1645920.9</td>\n",
              "      <td>311564.3</td>\n",
              "      <td>208558.4</td>\n",
              "      <td>146554.6</td>\n",
              "      <td>98642.5</td>\n",
              "      <td>90187.4</td>\n",
              "      <td>28183.5</td>\n",
              "    </tr>\n",
              "    <tr>\n",
              "      <th>7</th>\n",
              "      <td>1838593</td>\n",
              "      <td>1648801.5</td>\n",
              "      <td>359327.6</td>\n",
              "      <td>212921.7</td>\n",
              "      <td>153244.8</td>\n",
              "      <td>102163.2</td>\n",
              "      <td>87973.9</td>\n",
              "      <td>31216.5</td>\n",
              "    </tr>\n",
              "    <tr>\n",
              "      <th>8</th>\n",
              "      <td>2357411</td>\n",
              "      <td>2070944.3</td>\n",
              "      <td>398196.5</td>\n",
              "      <td>251241.0</td>\n",
              "      <td>204582.0</td>\n",
              "      <td>136388.0</td>\n",
              "      <td>107674.7</td>\n",
              "      <td>39480.7</td>\n",
              "    </tr>\n",
              "    <tr>\n",
              "      <th>9</th>\n",
              "      <td>2987296</td>\n",
              "      <td>2619488.2</td>\n",
              "      <td>522065.8</td>\n",
              "      <td>286828.2</td>\n",
              "      <td>261032.9</td>\n",
              "      <td>178601.4</td>\n",
              "      <td>141965.2</td>\n",
              "      <td>50374.7</td>\n",
              "    </tr>\n",
              "  </tbody>\n",
              "</table>\n",
              "</div>\n",
              "      <button class=\"colab-df-convert\" onclick=\"convertToInteractive('df-7c147d9e-5259-41ed-ab1f-f84b433461aa')\"\n",
              "              title=\"Convert this dataframe to an interactive table.\"\n",
              "              style=\"display:none;\">\n",
              "        \n",
              "  <svg xmlns=\"http://www.w3.org/2000/svg\" height=\"24px\"viewBox=\"0 0 24 24\"\n",
              "       width=\"24px\">\n",
              "    <path d=\"M0 0h24v24H0V0z\" fill=\"none\"/>\n",
              "    <path d=\"M18.56 5.44l.94 2.06.94-2.06 2.06-.94-2.06-.94-.94-2.06-.94 2.06-2.06.94zm-11 1L8.5 8.5l.94-2.06 2.06-.94-2.06-.94L8.5 2.5l-.94 2.06-2.06.94zm10 10l.94 2.06.94-2.06 2.06-.94-2.06-.94-.94-2.06-.94 2.06-2.06.94z\"/><path d=\"M17.41 7.96l-1.37-1.37c-.4-.4-.92-.59-1.43-.59-.52 0-1.04.2-1.43.59L10.3 9.45l-7.72 7.72c-.78.78-.78 2.05 0 2.83L4 21.41c.39.39.9.59 1.41.59.51 0 1.02-.2 1.41-.59l7.78-7.78 2.81-2.81c.8-.78.8-2.07 0-2.86zM5.41 20L4 18.59l7.72-7.72 1.47 1.35L5.41 20z\"/>\n",
              "  </svg>\n",
              "      </button>\n",
              "      \n",
              "  <style>\n",
              "    .colab-df-container {\n",
              "      display:flex;\n",
              "      flex-wrap:wrap;\n",
              "      gap: 12px;\n",
              "    }\n",
              "\n",
              "    .colab-df-convert {\n",
              "      background-color: #E8F0FE;\n",
              "      border: none;\n",
              "      border-radius: 50%;\n",
              "      cursor: pointer;\n",
              "      display: none;\n",
              "      fill: #1967D2;\n",
              "      height: 32px;\n",
              "      padding: 0 0 0 0;\n",
              "      width: 32px;\n",
              "    }\n",
              "\n",
              "    .colab-df-convert:hover {\n",
              "      background-color: #E2EBFA;\n",
              "      box-shadow: 0px 1px 2px rgba(60, 64, 67, 0.3), 0px 1px 3px 1px rgba(60, 64, 67, 0.15);\n",
              "      fill: #174EA6;\n",
              "    }\n",
              "\n",
              "    [theme=dark] .colab-df-convert {\n",
              "      background-color: #3B4455;\n",
              "      fill: #D2E3FC;\n",
              "    }\n",
              "\n",
              "    [theme=dark] .colab-df-convert:hover {\n",
              "      background-color: #434B5C;\n",
              "      box-shadow: 0px 1px 3px 1px rgba(0, 0, 0, 0.15);\n",
              "      filter: drop-shadow(0px 1px 2px rgba(0, 0, 0, 0.3));\n",
              "      fill: #FFFFFF;\n",
              "    }\n",
              "  </style>\n",
              "\n",
              "      <script>\n",
              "        const buttonEl =\n",
              "          document.querySelector('#df-7c147d9e-5259-41ed-ab1f-f84b433461aa button.colab-df-convert');\n",
              "        buttonEl.style.display =\n",
              "          google.colab.kernel.accessAllowed ? 'block' : 'none';\n",
              "\n",
              "        async function convertToInteractive(key) {\n",
              "          const element = document.querySelector('#df-7c147d9e-5259-41ed-ab1f-f84b433461aa');\n",
              "          const dataTable =\n",
              "            await google.colab.kernel.invokeFunction('convertToInteractive',\n",
              "                                                     [key], {});\n",
              "          if (!dataTable) return;\n",
              "\n",
              "          const docLinkHtml = 'Like what you see? Visit the ' +\n",
              "            '<a target=\"_blank\" href=https://colab.research.google.com/notebooks/data_table.ipynb>data table notebook</a>'\n",
              "            + ' to learn more about interactive tables.';\n",
              "          element.innerHTML = '';\n",
              "          dataTable['output_type'] = 'display_data';\n",
              "          await google.colab.output.renderOutput(dataTable, element);\n",
              "          const docLink = document.createElement('div');\n",
              "          docLink.innerHTML = docLinkHtml;\n",
              "          element.appendChild(docLink);\n",
              "        }\n",
              "      </script>\n",
              "    </div>\n",
              "  </div>\n",
              "  "
            ]
          },
          "metadata": {},
          "execution_count": 110
        }
      ]
    },
    {
      "cell_type": "code",
      "source": [
        "np.random.seed(99)\n",
        "msk = np.random.rand(len(df)) < 0.8\n",
        "train = df[msk]\n",
        "test = df[~msk]"
      ],
      "metadata": {
        "id": "eigUWLmd0H-K"
      },
      "execution_count": null,
      "outputs": []
    },
    {
      "cell_type": "code",
      "source": [
        "# print(train)"
      ],
      "metadata": {
        "id": "I35XTYEm0MxX"
      },
      "execution_count": null,
      "outputs": []
    },
    {
      "cell_type": "code",
      "source": [
        "#print(test)"
      ],
      "metadata": {
        "id": "Lrw3Uhjg0PKS"
      },
      "execution_count": null,
      "outputs": []
    },
    {
      "cell_type": "markdown",
      "source": [
        "# **STEEL**"
      ],
      "metadata": {
        "id": "T7Uv6floW4vF"
      }
    },
    {
      "cell_type": "code",
      "source": [
        "from sklearn import linear_model\n",
        "model_steel = linear_model.LinearRegression()\n",
        "train_x = np.asanyarray(train[['no_of_cars']])\n",
        "train_y_steel = np.asanyarray(train[['steel']])\n",
        "model_steel.fit (train_x, train_y_steel)\n",
        "# The coefficients\n",
        "print ('Coefficients: ', model_steel.coef_)\n",
        "print ('Intercept: ',model_steel.intercept_)"
      ],
      "metadata": {
        "colab": {
          "base_uri": "https://localhost:8080/"
        },
        "id": "wgDDH0y10R-y",
        "outputId": "6cf79b2c-0c37-447a-ff38-03245f2ec222"
      },
      "execution_count": null,
      "outputs": [
        {
          "output_type": "stream",
          "name": "stdout",
          "text": [
            "Coefficients:  [[0.82312167]]\n",
            "Intercept:  [66914.70216473]\n"
          ]
        }
      ]
    },
    {
      "cell_type": "code",
      "source": [
        "plt.scatter(train.no_of_cars, train.steel,  color='blue')\n",
        "plt.xticks(rotation=45)\n",
        "plt.plot(train_x, model_steel.coef_[0][0]*train_x + model_steel.intercept_[0], '-r')\n",
        "plt.xlabel(\"No_of_cars\")\n",
        "plt.ylabel(\"steel\")"
      ],
      "metadata": {
        "id": "xO9hPUoC0VYy",
        "colab": {
          "base_uri": "https://localhost:8080/",
          "height": 317
        },
        "outputId": "d69592db-e212-4772-82f1-4a80105be283"
      },
      "execution_count": null,
      "outputs": [
        {
          "output_type": "execute_result",
          "data": {
            "text/plain": [
              "Text(0, 0.5, 'steel')"
            ]
          },
          "metadata": {},
          "execution_count": 115
        },
        {
          "output_type": "display_data",
          "data": {
            "text/plain": [
              "<Figure size 432x288 with 1 Axes>"
            ],
            "image/png": "[encoded data removed]"
          },
          "metadata": {
            "needs_background": "light"
          }
        }
      ]
    },
    {
      "cell_type": "code",
      "source": [
        "y_steel_pred = model_steel.predict(test[['steel']])\n",
        "#print(y_pred)"
      ],
      "metadata": {
        "id": "t_46iyI40jW7",
        "colab": {
          "base_uri": "https://localhost:8080/"
        },
        "outputId": "c39a2471-654b-49d2-a59e-e32d2af2ed53"
      },
      "execution_count": null,
      "outputs": [
        {
          "output_type": "stream",
          "name": "stderr",
          "text": [
            "/usr/local/lib/python3.7/dist-packages/sklearn/base.py:444: UserWarning: X has feature names, but LinearRegression was fitted without feature names\n",
            "  f\"X has feature names, but {self.__class__.__name__} was fitted without\"\n"
          ]
        }
      ]
    },
    {
      "cell_type": "code",
      "source": [
        "from sklearn.metrics import r2_score\n",
        "from sklearn.metrics import mean_squared_error\n",
        "\n",
        "test_x = np.asanyarray(test[['no_of_cars']])\n",
        "test_y_steel = np.asanyarray(test[['steel']])\n",
        "test_y_hat_steel =model_steel.predict(test_x)\n",
        "\n",
        "print(\"Mean absolute error: %.2f\" % np.mean(np.absolute(test_y_hat_steel - test_y_steel)))\n",
        "print(\"R2-score: %.2f\" % r2_score(test_y_hat_steel , test_y_steel) )\n",
        "rmse= mean_squared_error( test_y_steel,test_y_hat_steel, squared=False)\n",
        "nrmse = rmse/np.std(test_y_steel)\n",
        "print(\"Rmse: %.2f\" % nrmse)\n",
        "\n"
      ],
      "metadata": {
        "id": "Bu62H_2e1OET",
        "colab": {
          "base_uri": "https://localhost:8080/"
        },
        "outputId": "dfa68603-86df-44cb-9685-69c5cc72f73a"
      },
      "execution_count": null,
      "outputs": [
        {
          "output_type": "stream",
          "name": "stdout",
          "text": [
            "Mean absolute error: 70297.75\n",
            "R2-score: 0.99\n",
            "Rmse: 0.10\n"
          ]
        }
      ]
    },
    {
      "cell_type": "code",
      "source": [
        "output = model_steel.predict([['1209876']])\n",
        "print(output)"
      ],
      "metadata": {
        "id": "6b6L_4vr4vfB",
        "colab": {
          "base_uri": "https://localhost:8080/"
        },
        "outputId": "1d7ed691-1fd0-4f1c-9ed8-5db27d8f7992"
      },
      "execution_count": null,
      "outputs": [
        {
          "output_type": "stream",
          "name": "stdout",
          "text": [
            "[[1062789.85522696]]\n"
          ]
        },
        {
          "output_type": "stream",
          "name": "stderr",
          "text": [
            "/usr/local/lib/python3.7/dist-packages/sklearn/base.py:566: FutureWarning: Arrays of bytes/strings is being converted to decimal numbers if dtype='numeric'. This behavior is deprecated in 0.24 and will be removed in 1.1 (renaming of 0.26). Please convert your data to numeric values explicitly instead.\n",
            "  X = check_array(X, **check_params)\n"
          ]
        }
      ]
    },
    {
      "cell_type": "markdown",
      "source": [
        "# **PLASTICS**"
      ],
      "metadata": {
        "id": "YoTKUm2o6GOj"
      }
    },
    {
      "cell_type": "code",
      "source": [
        "from sklearn import linear_model\n",
        "model_plastics = linear_model.LinearRegression()\n",
        "train_x = np.asanyarray(train[['no_of_cars']])\n",
        "train_y_plastics = np.asanyarray(train[['plastics']])\n",
        "model_plastics.fit (train_x, train_y_plastics)\n",
        "# The coefficients\n",
        "print ('Coefficients: ', model_plastics.coef_)\n",
        "print ('Intercept: ',model_plastics.intercept_)"
      ],
      "metadata": {
        "id": "1CDnmhld5x3S",
        "colab": {
          "base_uri": "https://localhost:8080/"
        },
        "outputId": "8a086d0f-8fa3-4c15-f720-a5b6831c28bb"
      },
      "execution_count": null,
      "outputs": [
        {
          "output_type": "stream",
          "name": "stdout",
          "text": [
            "Coefficients:  [[0.20379943]]\n",
            "Intercept:  [-51039.43601556]\n"
          ]
        }
      ]
    },
    {
      "cell_type": "code",
      "source": [
        "plt.scatter(train.no_of_cars, train.plastics,  color='blue')\n",
        "plt.xticks(rotation=45)\n",
        "plt.plot(train_x, model_plastics.coef_[0][0]*train_x + model_plastics.intercept_[0], '-r')\n",
        "plt.xlabel(\"No_of_cars\")\n",
        "plt.ylabel(\"plastics\")"
      ],
      "metadata": {
        "id": "Q-eGrP2lVBmy",
        "colab": {
          "base_uri": "https://localhost:8080/",
          "height": 306
        },
        "outputId": "6301df67-bb54-4d62-bf74-3c98fbf2756d"
      },
      "execution_count": null,
      "outputs": [
        {
          "output_type": "execute_result",
          "data": {
            "text/plain": [
              "Text(0, 0.5, 'plastics')"
            ]
          },
          "metadata": {},
          "execution_count": 120
        },
        {
          "output_type": "display_data",
          "data": {
            "text/plain": [
              "<Figure size 432x288 with 1 Axes>"
            ],
            "image/png": "[encoded data removed]"
          },
          "metadata": {
            "needs_background": "light"
          }
        }
      ]
    },
    {
      "cell_type": "code",
      "source": [
        "y_plastics_pred = model_plastics.predict(test[['plastics']])"
      ],
      "metadata": {
        "id": "LPfc9C83VMuZ",
        "colab": {
          "base_uri": "https://localhost:8080/"
        },
        "outputId": "45625f7f-28f7-4fa5-bc9c-f3edb47a18b9"
      },
      "execution_count": null,
      "outputs": [
        {
          "output_type": "stream",
          "name": "stderr",
          "text": [
            "/usr/local/lib/python3.7/dist-packages/sklearn/base.py:444: UserWarning: X has feature names, but LinearRegression was fitted without feature names\n",
            "  f\"X has feature names, but {self.__class__.__name__} was fitted without\"\n"
          ]
        }
      ]
    },
    {
      "cell_type": "code",
      "source": [
        "from sklearn.metrics import r2_score\n",
        "\n",
        "test_x = np.asanyarray(test[['no_of_cars']])\n",
        "test_y_plastics = np.asanyarray(test[['plastics']])\n",
        "test_y_hat_plastics =model_plastics.predict(test_x)\n",
        "\n",
        "print(\"Mean absolute error: %.2f\" % np.mean(np.absolute(test_y_hat_plastics - test_y_plastics)))\n",
        "\n",
        "print(\"R2-score: %.2f\" % r2_score(test_y_hat_plastics , test_y_plastics) )\n",
        "rmse= mean_squared_error( test_y_plastics,test_y_hat_plastics, squared=False)\n",
        "nrmse = rmse/np.std(test_y_plastics)\n",
        "print(\"Rmse: %.2f\" % nrmse)"
      ],
      "metadata": {
        "id": "RI8VNM0mVNOB",
        "colab": {
          "base_uri": "https://localhost:8080/"
        },
        "outputId": "c494e578-b919-464e-dd8b-1eb97a3b44de"
      },
      "execution_count": null,
      "outputs": [
        {
          "output_type": "stream",
          "name": "stdout",
          "text": [
            "Mean absolute error: 15941.18\n",
            "R2-score: 0.99\n",
            "Rmse: 0.08\n"
          ]
        }
      ]
    },
    {
      "cell_type": "code",
      "source": [
        "output = model_plastics.predict([['4028471']])\n",
        "print(output)"
      ],
      "metadata": {
        "id": "Xy3Y0yo7VNTM",
        "colab": {
          "base_uri": "https://localhost:8080/"
        },
        "outputId": "f21d4b0c-07a2-4246-85c0-198454110c2f"
      },
      "execution_count": null,
      "outputs": [
        {
          "output_type": "stream",
          "name": "stdout",
          "text": [
            "[[769960.64107488]]\n"
          ]
        },
        {
          "output_type": "stream",
          "name": "stderr",
          "text": [
            "/usr/local/lib/python3.7/dist-packages/sklearn/base.py:566: FutureWarning: Arrays of bytes/strings is being converted to decimal numbers if dtype='numeric'. This behavior is deprecated in 0.24 and will be removed in 1.1 (renaming of 0.26). Please convert your data to numeric values explicitly instead.\n",
            "  X = check_array(X, **check_params)\n"
          ]
        }
      ]
    },
    {
      "cell_type": "markdown",
      "source": [
        "# **IRON**"
      ],
      "metadata": {
        "id": "8iMoy8rcYyNa"
      }
    },
    {
      "cell_type": "code",
      "source": [
        "from sklearn import linear_model\n",
        "model_iron = linear_model.LinearRegression()\n",
        "train_x = np.asanyarray(train[['no_of_cars']])\n",
        "train_y_iron = np.asanyarray(train[['iron']])\n",
        "model_iron.fit (train_x, train_y_iron)\n",
        "# The coefficients\n",
        "print ('Coefficients: ', model_iron.coef_)\n",
        "print ('Intercept: ',model_iron.intercept_)"
      ],
      "metadata": {
        "id": "mb1nNILgVNWI",
        "colab": {
          "base_uri": "https://localhost:8080/"
        },
        "outputId": "a60d63e6-b9a3-480b-fe1a-8def61cf748a"
      },
      "execution_count": null,
      "outputs": [
        {
          "output_type": "stream",
          "name": "stdout",
          "text": [
            "Coefficients:  [[0.07437028]]\n",
            "Intercept:  [49735.19619911]\n"
          ]
        }
      ]
    },
    {
      "cell_type": "code",
      "source": [
        "plt.scatter(train.no_of_cars, train.iron,  color='blue')\n",
        "plt.xticks(rotation=45)\n",
        "plt.plot(train_x, model_iron.coef_[0][0]*train_x + model_iron.intercept_[0], '-r')\n",
        "plt.xlabel(\"No_of_cars\")\n",
        "plt.ylabel(\"iron\")"
      ],
      "metadata": {
        "id": "TSFc488iVNYt",
        "colab": {
          "base_uri": "https://localhost:8080/",
          "height": 306
        },
        "outputId": "1fb5dfda-1fad-457d-81f9-9030722cf586"
      },
      "execution_count": null,
      "outputs": [
        {
          "output_type": "execute_result",
          "data": {
            "text/plain": [
              "Text(0, 0.5, 'iron')"
            ]
          },
          "metadata": {},
          "execution_count": 125
        },
        {
          "output_type": "display_data",
          "data": {
            "text/plain": [
              "<Figure size 432x288 with 1 Axes>"
            ],
            "image/png": "[encoded data removed]"
          },
          "metadata": {
            "needs_background": "light"
          }
        }
      ]
    },
    {
      "cell_type": "code",
      "source": [
        "y_iron_pred = model_iron.predict(test[['iron']])"
      ],
      "metadata": {
        "id": "HCeRToPAVNbE",
        "colab": {
          "base_uri": "https://localhost:8080/"
        },
        "outputId": "a7609992-cef7-4217-ac14-a0994c468f5b"
      },
      "execution_count": null,
      "outputs": [
        {
          "output_type": "stream",
          "name": "stderr",
          "text": [
            "/usr/local/lib/python3.7/dist-packages/sklearn/base.py:444: UserWarning: X has feature names, but LinearRegression was fitted without feature names\n",
            "  f\"X has feature names, but {self.__class__.__name__} was fitted without\"\n"
          ]
        }
      ]
    },
    {
      "cell_type": "code",
      "source": [
        "from sklearn.metrics import r2_score\n",
        "\n",
        "test_x = np.asanyarray(test[['no_of_cars']])\n",
        "test_y_iron = np.asanyarray(test[['iron']])\n",
        "test_y_hat_iron =model_iron.predict(test_x)\n",
        "\n",
        "print(\"Mean absolute error: %.2f\" % np.mean(np.absolute(test_y_hat_iron - test_y_iron)))\n",
        "\n",
        "print(\"R2-score: %.2f\" % r2_score(test_y_hat_iron , test_y_iron) )\n",
        "rmse= mean_squared_error( test_y_iron,test_y_hat_iron,squared=False)\n",
        "nrmse = rmse/np.std(test_y_iron)\n",
        "print(\"Rmse: %.2f\" % nrmse)"
      ],
      "metadata": {
        "id": "Mnk4CCm5VNd-",
        "colab": {
          "base_uri": "https://localhost:8080/"
        },
        "outputId": "9454d8bc-9687-4495-8bc8-55aa153a27d4"
      },
      "execution_count": null,
      "outputs": [
        {
          "output_type": "stream",
          "name": "stdout",
          "text": [
            "Mean absolute error: 19395.57\n",
            "R2-score: 0.90\n",
            "Rmse: 0.33\n"
          ]
        }
      ]
    },
    {
      "cell_type": "code",
      "source": [
        "output = model_iron.predict([['3062221']])\n",
        "print(output)"
      ],
      "metadata": {
        "id": "bzYLoQ5kVNgp",
        "colab": {
          "base_uri": "https://localhost:8080/"
        },
        "outputId": "7272a430-fb65-4811-828d-23718ff705fe"
      },
      "execution_count": null,
      "outputs": [
        {
          "output_type": "stream",
          "name": "stdout",
          "text": [
            "[[277473.42972563]]\n"
          ]
        },
        {
          "output_type": "stream",
          "name": "stderr",
          "text": [
            "/usr/local/lib/python3.7/dist-packages/sklearn/base.py:566: FutureWarning: Arrays of bytes/strings is being converted to decimal numbers if dtype='numeric'. This behavior is deprecated in 0.24 and will be removed in 1.1 (renaming of 0.26). Please convert your data to numeric values explicitly instead.\n",
            "  X = check_array(X, **check_params)\n"
          ]
        }
      ]
    },
    {
      "cell_type": "markdown",
      "source": [
        "# **RUBBER**"
      ],
      "metadata": {
        "id": "eHJQ2_KDa1rY"
      }
    },
    {
      "cell_type": "code",
      "source": [
        "from sklearn import linear_model\n",
        "model_rubber = linear_model.LinearRegression()\n",
        "train_x = np.asanyarray(train[['no_of_cars']])\n",
        "train_y_rubber = np.asanyarray(train[['rubber']])\n",
        "model_rubber.fit (train_x, train_y_rubber)\n",
        "# The coefficients\n",
        "print ('Coefficients: ', model_rubber.coef_)\n",
        "print ('Intercept: ',model_rubber.intercept_)"
      ],
      "metadata": {
        "id": "UoZi4pHXY6hU",
        "colab": {
          "base_uri": "https://localhost:8080/"
        },
        "outputId": "3ca8e63a-2552-4c3b-d5c2-a0b3784100f8"
      },
      "execution_count": null,
      "outputs": [
        {
          "output_type": "stream",
          "name": "stdout",
          "text": [
            "Coefficients:  [[0.0796503]]\n",
            "Intercept:  [-4682.83692741]\n"
          ]
        }
      ]
    },
    {
      "cell_type": "code",
      "source": [
        "plt.scatter(train.no_of_cars, train.rubber,  color='blue')\n",
        "plt.xticks(rotation=45)\n",
        "plt.plot(train_x, model_rubber.coef_[0][0]*train_x + model_rubber.intercept_[0], '-r')\n",
        "plt.xlabel(\"No_of_cars\")\n",
        "plt.ylabel(\"rubber\")"
      ],
      "metadata": {
        "id": "3kIYeY2PY7IQ",
        "colab": {
          "base_uri": "https://localhost:8080/",
          "height": 306
        },
        "outputId": "05bb2a49-2353-416c-cc54-3a38b78ade52"
      },
      "execution_count": null,
      "outputs": [
        {
          "output_type": "execute_result",
          "data": {
            "text/plain": [
              "Text(0, 0.5, 'rubber')"
            ]
          },
          "metadata": {},
          "execution_count": 130
        },
        {
          "output_type": "display_data",
          "data": {
            "text/plain": [
              "<Figure size 432x288 with 1 Axes>"
            ],
            "image/png": "[encoded data removed]"
          },
          "metadata": {
            "needs_background": "light"
          }
        }
      ]
    },
    {
      "cell_type": "code",
      "source": [
        "y_rubber_pred = model_rubber.predict(test[['rubber']])"
      ],
      "metadata": {
        "id": "Xbl9mS4Ca6ve",
        "colab": {
          "base_uri": "https://localhost:8080/"
        },
        "outputId": "e3f6c749-c234-44aa-c2d8-89f918a31235"
      },
      "execution_count": null,
      "outputs": [
        {
          "output_type": "stream",
          "name": "stderr",
          "text": [
            "/usr/local/lib/python3.7/dist-packages/sklearn/base.py:444: UserWarning: X has feature names, but LinearRegression was fitted without feature names\n",
            "  f\"X has feature names, but {self.__class__.__name__} was fitted without\"\n"
          ]
        }
      ]
    },
    {
      "cell_type": "code",
      "source": [
        "from sklearn.metrics import r2_score\n",
        "\n",
        "test_x = np.asanyarray(test[['no_of_cars']])\n",
        "test_y_rubber = np.asanyarray(test[['rubber']])\n",
        "test_y_hat_rubber =model_rubber.predict(test_x)\n",
        "\n",
        "print(\"Mean absolute error: %.2f\" % np.mean(np.absolute(test_y_hat_rubber - test_y_rubber)))\n",
        "\n",
        "print(\"R2-score: %.2f\" % r2_score(test_y_hat_rubber , test_y_rubber) )\n",
        "rmse= mean_squared_error( test_y_rubber,test_y_hat_rubber,squared=False)\n",
        "nrmse = rmse/np.std(test_y_rubber)\n",
        "print(\"Rmse: %.2f\" % nrmse)"
      ],
      "metadata": {
        "id": "OqkeuVXLa7IC",
        "colab": {
          "base_uri": "https://localhost:8080/"
        },
        "outputId": "6c8f34e6-a079-4018-df87-af17900b1a1e"
      },
      "execution_count": null,
      "outputs": [
        {
          "output_type": "stream",
          "name": "stdout",
          "text": [
            "Mean absolute error: 16996.27\n",
            "R2-score: 0.96\n",
            "Rmse: 0.22\n"
          ]
        }
      ]
    },
    {
      "cell_type": "code",
      "source": [
        "output = model_rubber.predict([['669719']])\n",
        "print(output)"
      ],
      "metadata": {
        "id": "pFabtkv9a7gs",
        "colab": {
          "base_uri": "https://localhost:8080/"
        },
        "outputId": "eec76b47-8818-4a62-a588-9089811df8dc"
      },
      "execution_count": null,
      "outputs": [
        {
          "output_type": "stream",
          "name": "stdout",
          "text": [
            "[[48660.48171287]]\n"
          ]
        },
        {
          "output_type": "stream",
          "name": "stderr",
          "text": [
            "/usr/local/lib/python3.7/dist-packages/sklearn/base.py:566: FutureWarning: Arrays of bytes/strings is being converted to decimal numbers if dtype='numeric'. This behavior is deprecated in 0.24 and will be removed in 1.1 (renaming of 0.26). Please convert your data to numeric values explicitly instead.\n",
            "  X = check_array(X, **check_params)\n"
          ]
        }
      ]
    },
    {
      "cell_type": "markdown",
      "source": [
        "# **ALUMINIUM**"
      ],
      "metadata": {
        "id": "stnGKyMSdHSV"
      }
    },
    {
      "cell_type": "code",
      "source": [
        "from sklearn import linear_model\n",
        "model_aluminium = linear_model.LinearRegression()\n",
        "train_x = np.asanyarray(train[['no_of_cars']])\n",
        "train_y_aluminium = np.asanyarray(train[['aluminium']])\n",
        "model_aluminium.fit (train_x, train_y_aluminium)\n",
        "# The coefficients\n",
        "#print ('Coefficients: ', model_aluminium.coef_)\n",
        "#print ('Intercept: ',model_aluminium.intercept_)"
      ],
      "metadata": {
        "id": "KyXk1Ki0a78c",
        "colab": {
          "base_uri": "https://localhost:8080/"
        },
        "outputId": "b41ff622-e651-4430-d12c-26e7750484f4"
      },
      "execution_count": null,
      "outputs": [
        {
          "output_type": "execute_result",
          "data": {
            "text/plain": [
              "LinearRegression()"
            ]
          },
          "metadata": {},
          "execution_count": 134
        }
      ]
    },
    {
      "cell_type": "code",
      "source": [
        "plt.scatter(train.no_of_cars, train.aluminium,  color='blue')\n",
        "plt.xticks(rotation=45)\n",
        "plt.plot(train_x, model_aluminium.coef_[0][0]*train_x + model_aluminium.intercept_[0], '-r')\n",
        "plt.xlabel(\"No_of_cars\")\n",
        "plt.ylabel(\"aluminium\")"
      ],
      "metadata": {
        "id": "yMQx07Vza8Zm",
        "colab": {
          "base_uri": "https://localhost:8080/",
          "height": 306
        },
        "outputId": "42a062a5-dc90-44e5-862e-36f7d0041f5b"
      },
      "execution_count": null,
      "outputs": [
        {
          "output_type": "execute_result",
          "data": {
            "text/plain": [
              "Text(0, 0.5, 'aluminium')"
            ]
          },
          "metadata": {},
          "execution_count": 135
        },
        {
          "output_type": "display_data",
          "data": {
            "text/plain": [
              "<Figure size 432x288 with 1 Axes>"
            ],
            "image/png": "[encoded data removed]"
          },
          "metadata": {
            "needs_background": "light"
          }
        }
      ]
    },
    {
      "cell_type": "code",
      "source": [
        "y_aluminium_pred = model_aluminium.predict(test[['aluminium']])"
      ],
      "metadata": {
        "id": "ILzSncFqduOM",
        "colab": {
          "base_uri": "https://localhost:8080/"
        },
        "outputId": "523a0b59-e4fa-46db-baf2-2d154c6c7047"
      },
      "execution_count": null,
      "outputs": [
        {
          "output_type": "stream",
          "name": "stderr",
          "text": [
            "/usr/local/lib/python3.7/dist-packages/sklearn/base.py:444: UserWarning: X has feature names, but LinearRegression was fitted without feature names\n",
            "  f\"X has feature names, but {self.__class__.__name__} was fitted without\"\n"
          ]
        }
      ]
    },
    {
      "cell_type": "code",
      "source": [
        "from sklearn.metrics import r2_score\n",
        "\n",
        "test_x = np.asanyarray(test[['no_of_cars']])\n",
        "test_y_aluminium = np.asanyarray(test[['aluminium']])\n",
        "test_y_hat_aluminium =model_aluminium.predict(test_x)\n",
        "\n",
        "print(\"Mean absolute error: %.2f\" % np.mean(np.absolute(test_y_hat_aluminium - test_y_aluminium)))\n",
        "\n",
        "print(\"R2-score: %.2f\" % r2_score(test_y_hat_aluminium , test_y_aluminium) )\n",
        "rmse= mean_squared_error( test_y_aluminium,test_y_hat_aluminium,squared=False)\n",
        "nrmse = rmse/np.std(test_y_aluminium)\n",
        "print(\"Rmse: %.2f\" % nrmse)"
      ],
      "metadata": {
        "id": "9Fr2heVadu_X",
        "colab": {
          "base_uri": "https://localhost:8080/"
        },
        "outputId": "435125c3-b7ba-4f84-dc62-e2b6fae076f7"
      },
      "execution_count": null,
      "outputs": [
        {
          "output_type": "stream",
          "name": "stdout",
          "text": [
            "Mean absolute error: 18301.50\n",
            "R2-score: 0.94\n",
            "Rmse: 0.21\n"
          ]
        }
      ]
    },
    {
      "cell_type": "code",
      "source": [
        "output = model_aluminium.predict([['669719']])\n",
        "print(output)"
      ],
      "metadata": {
        "id": "ta4ziXG_dvd2",
        "colab": {
          "base_uri": "https://localhost:8080/"
        },
        "outputId": "890e24e4-7d94-4776-cfcc-911fbf4d0d2d"
      },
      "execution_count": null,
      "outputs": [
        {
          "output_type": "stream",
          "name": "stdout",
          "text": [
            "[[6323.24283598]]\n"
          ]
        },
        {
          "output_type": "stream",
          "name": "stderr",
          "text": [
            "/usr/local/lib/python3.7/dist-packages/sklearn/base.py:566: FutureWarning: Arrays of bytes/strings is being converted to decimal numbers if dtype='numeric'. This behavior is deprecated in 0.24 and will be removed in 1.1 (renaming of 0.26). Please convert your data to numeric values explicitly instead.\n",
            "  X = check_array(X, **check_params)\n"
          ]
        }
      ]
    },
    {
      "cell_type": "markdown",
      "source": [
        "# **GLASS**"
      ],
      "metadata": {
        "id": "JJTd7RfifbyL"
      }
    },
    {
      "cell_type": "code",
      "source": [
        "from sklearn import linear_model\n",
        "model_glass = linear_model.LinearRegression()\n",
        "train_x = np.asanyarray(train[['no_of_cars']])\n",
        "train_y_glass = np.asanyarray(train[['glass']])\n",
        "model_glass.fit (train_x, train_y_glass)\n",
        "\n",
        "# The coefficients\n",
        "print ('Coefficients: ', model_glass.coef_)\n",
        "print ('Intercept: ',model_glass.intercept_)"
      ],
      "metadata": {
        "id": "5TiQeeSBdv4F",
        "colab": {
          "base_uri": "https://localhost:8080/"
        },
        "outputId": "789aa372-ea0e-4791-9f3d-cf03b59496a7"
      },
      "execution_count": null,
      "outputs": [
        {
          "output_type": "stream",
          "name": "stdout",
          "text": [
            "Coefficients:  [[0.04710247]]\n",
            "Intercept:  [-1952.39108927]\n"
          ]
        }
      ]
    },
    {
      "cell_type": "code",
      "source": [
        "plt.scatter(train.no_of_cars, train.glass,  color='blue')\n",
        "plt.xticks(rotation=45)\n",
        "plt.plot(train_x, model_glass.coef_[0][0]*train_x + model_glass.intercept_[0], '-r')\n",
        "plt.xlabel(\"No_of_cars\")\n",
        "plt.ylabel(\"glass\")"
      ],
      "metadata": {
        "id": "mj4-oJB8dwOo",
        "colab": {
          "base_uri": "https://localhost:8080/",
          "height": 306
        },
        "outputId": "a6e48e85-148d-4b44-8fbd-bffb70d5c291"
      },
      "execution_count": null,
      "outputs": [
        {
          "output_type": "execute_result",
          "data": {
            "text/plain": [
              "Text(0, 0.5, 'glass')"
            ]
          },
          "metadata": {},
          "execution_count": 140
        },
        {
          "output_type": "display_data",
          "data": {
            "text/plain": [
              "<Figure size 432x288 with 1 Axes>"
            ],
            "image/png": "[encoded data removed]"
          },
          "metadata": {
            "needs_background": "light"
          }
        }
      ]
    },
    {
      "cell_type": "code",
      "source": [
        "y_glass_pred = model_glass.predict(test[['rubber']])"
      ],
      "metadata": {
        "id": "NU8Z8KgXdwmN",
        "colab": {
          "base_uri": "https://localhost:8080/"
        },
        "outputId": "e03bd8de-c33e-442b-dd12-065fd1624b2a"
      },
      "execution_count": null,
      "outputs": [
        {
          "output_type": "stream",
          "name": "stderr",
          "text": [
            "/usr/local/lib/python3.7/dist-packages/sklearn/base.py:444: UserWarning: X has feature names, but LinearRegression was fitted without feature names\n",
            "  f\"X has feature names, but {self.__class__.__name__} was fitted without\"\n"
          ]
        }
      ]
    },
    {
      "cell_type": "code",
      "source": [
        "from sklearn.metrics import r2_score\n",
        "\n",
        "test_x = np.asanyarray(test[['no_of_cars']])\n",
        "test_y_glass = np.asanyarray(test[['glass']])\n",
        "test_y_hat_glass =model_glass.predict(test_x)\n",
        "\n",
        "print(\"Mean absolute error: %.2f\" % np.mean(np.absolute(test_y_hat_glass - test_y_glass)))\n",
        "\n",
        "print(\"R2-score: %.2f\" % r2_score(test_y_hat_glass , test_y_glass) )\n",
        "rmse= mean_squared_error( test_y_glass,test_y_hat_glass,squared=False)\n",
        "nrmse = rmse/np.std(test_y_glass)\n",
        "print(\"Rmse: %.2f\" % nrmse)"
      ],
      "metadata": {
        "id": "BPoP489Vdw9X",
        "colab": {
          "base_uri": "https://localhost:8080/"
        },
        "outputId": "eb2a6124-323c-4747-9ad7-339d77d17826"
      },
      "execution_count": null,
      "outputs": [
        {
          "output_type": "stream",
          "name": "stdout",
          "text": [
            "Mean absolute error: 4100.76\n",
            "R2-score: 0.99\n",
            "Rmse: 0.09\n"
          ]
        }
      ]
    },
    {
      "cell_type": "code",
      "source": [
        "output = model_glass.predict([['3220172']])\n",
        "print(output)"
      ],
      "metadata": {
        "id": "myJwVD3odxVs",
        "colab": {
          "base_uri": "https://localhost:8080/"
        },
        "outputId": "363963ca-f72b-4b4c-8a66-d9d19ea93584"
      },
      "execution_count": null,
      "outputs": [
        {
          "output_type": "stream",
          "name": "stdout",
          "text": [
            "[[149725.65954496]]\n"
          ]
        },
        {
          "output_type": "stream",
          "name": "stderr",
          "text": [
            "/usr/local/lib/python3.7/dist-packages/sklearn/base.py:566: FutureWarning: Arrays of bytes/strings is being converted to decimal numbers if dtype='numeric'. This behavior is deprecated in 0.24 and will be removed in 1.1 (renaming of 0.26). Please convert your data to numeric values explicitly instead.\n",
            "  X = check_array(X, **check_params)\n"
          ]
        }
      ]
    },
    {
      "cell_type": "markdown",
      "source": [
        "# **COPPER**"
      ],
      "metadata": {
        "id": "SSmMZN2TflMI"
      }
    },
    {
      "cell_type": "code",
      "source": [
        "from sklearn import linear_model\n",
        "model_copper = linear_model.LinearRegression()\n",
        "train_x = np.asanyarray(train[['no_of_cars']])\n",
        "\n",
        "train_y_copper = np.asanyarray(train[['copper']])\n",
        "model_copper.fit (train_x, train_y_copper)\n",
        "# The coefficients\n",
        "print ('Coefficients: ', model_copper.coef_)\n",
        "print ('Intercept: ',model_copper.intercept_)"
      ],
      "metadata": {
        "id": "umaCmJ4vdyUI",
        "colab": {
          "base_uri": "https://localhost:8080/"
        },
        "outputId": "5dcf58fd-0b5c-4de3-d9f1-444d7b501c37"
      },
      "execution_count": null,
      "outputs": [
        {
          "output_type": "stream",
          "name": "stdout",
          "text": [
            "Coefficients:  [[0.01830755]]\n",
            "Intercept:  [-3885.46579951]\n"
          ]
        }
      ]
    },
    {
      "cell_type": "code",
      "source": [
        ""
      ],
      "metadata": {
        "id": "muaoPxWBd2I-"
      },
      "execution_count": null,
      "outputs": []
    },
    {
      "cell_type": "code",
      "source": [
        "plt.scatter(train.no_of_cars, train.copper,  color='blue')\n",
        "plt.xticks(rotation=45)\n",
        "plt.plot(train_x, model_copper.coef_[0][0]*train_x + model_copper.intercept_[0], '-r')\n",
        "plt.xlabel(\"No_of_cars\")\n",
        "plt.ylabel(\"copper\")"
      ],
      "metadata": {
        "id": "Bzh5gp-idyQm",
        "colab": {
          "base_uri": "https://localhost:8080/",
          "height": 306
        },
        "outputId": "eced34ef-c7cb-4879-cafc-c2c38195c01c"
      },
      "execution_count": null,
      "outputs": [
        {
          "output_type": "execute_result",
          "data": {
            "text/plain": [
              "Text(0, 0.5, 'copper')"
            ]
          },
          "metadata": {},
          "execution_count": 145
        },
        {
          "output_type": "display_data",
          "data": {
            "text/plain": [
              "<Figure size 432x288 with 1 Axes>"
            ],
            "image/png": "[encoded data removed]"
          },
          "metadata": {
            "needs_background": "light"
          }
        }
      ]
    },
    {
      "cell_type": "code",
      "source": [
        "y_copper_pred_train=model_copper.predict(train[['copper']])\n",
        "\n",
        "y_copper_pred = model_copper.predict(test[['copper']])\n",
        "\n",
        "#y_copper_pred.reshape(-1,1)\n",
        "y_copper_pred\n"
      ],
      "metadata": {
        "id": "gMGNeQhnfs-0",
        "colab": {
          "base_uri": "https://localhost:8080/"
        },
        "outputId": "2a20bea7-3935-4916-b446-64f85e865597"
      },
      "execution_count": null,
      "outputs": [
        {
          "output_type": "stream",
          "name": "stderr",
          "text": [
            "/usr/local/lib/python3.7/dist-packages/sklearn/base.py:444: UserWarning: X has feature names, but LinearRegression was fitted without feature names\n",
            "  f\"X has feature names, but {self.__class__.__name__} was fitted without\"\n",
            "/usr/local/lib/python3.7/dist-packages/sklearn/base.py:444: UserWarning: X has feature names, but LinearRegression was fitted without feature names\n",
            "  f\"X has feature names, but {self.__class__.__name__} was fitted without\"\n"
          ]
        },
        {
          "output_type": "execute_result",
          "data": {
            "text/plain": [
              "array([[-3636.2744333 ],\n",
              "       [-3528.07315992],\n",
              "       [-3162.67096785],\n",
              "       [-2859.69934706],\n",
              "       [-2669.83176115],\n",
              "       [-2985.42277515]])"
            ]
          },
          "metadata": {},
          "execution_count": 146
        }
      ]
    },
    {
      "cell_type": "code",
      "source": [
        "from sklearn.metrics import r2_score\n",
        "\n",
        "test_x = np.asanyarray(test[['no_of_cars']])\n",
        "test_y_copper = np.asanyarray(test[['copper']])\n",
        "test_y_hat_copper =model_copper.predict(test_x)\n",
        "\n",
        "print(\"Mean absolute error: %.2f\" % np.mean(np.absolute(test_y_hat_copper - test_y_copper)))\n",
        "\n",
        "print(\"R2-score: %.2f\" % r2_score(test_y_hat_copper , test_y_copper) )\n",
        "rmse= mean_squared_error( test_y_copper,test_y_hat_copper,squared=False)\n",
        "nrmse = rmse/np.std(test_y_copper)\n",
        "print(\"Rmse: %.2f\" % nrmse)"
      ],
      "metadata": {
        "id": "LWeAiW9LftY4",
        "colab": {
          "base_uri": "https://localhost:8080/"
        },
        "outputId": "107ff434-df9a-420c-e1b5-8641493e013d"
      },
      "execution_count": null,
      "outputs": [
        {
          "output_type": "stream",
          "name": "stdout",
          "text": [
            "Mean absolute error: 1873.43\n",
            "R2-score: 0.99\n",
            "Rmse: 0.12\n"
          ]
        }
      ]
    },
    {
      "cell_type": "code",
      "source": [
        "output = model_copper.predict([['3220172']])\n",
        "\n",
        "\n",
        "#print(output.shape)\n",
        "print(output)"
      ],
      "metadata": {
        "id": "y0YaRv1Qft2l",
        "colab": {
          "base_uri": "https://localhost:8080/"
        },
        "outputId": "7e92abb4-5411-4ccb-e0d4-075a7c0595b5"
      },
      "execution_count": null,
      "outputs": [
        {
          "output_type": "stream",
          "name": "stdout",
          "text": [
            "[[55067.98939843]]\n"
          ]
        },
        {
          "output_type": "stream",
          "name": "stderr",
          "text": [
            "/usr/local/lib/python3.7/dist-packages/sklearn/base.py:566: FutureWarning: Arrays of bytes/strings is being converted to decimal numbers if dtype='numeric'. This behavior is deprecated in 0.24 and will be removed in 1.1 (renaming of 0.26). Please convert your data to numeric values explicitly instead.\n",
            "  X = check_array(X, **check_params)\n"
          ]
        }
      ]
    },
    {
      "cell_type": "code",
      "source": [
        ""
      ],
      "metadata": {
        "id": "j9ZOtQmdZhX9",
        "colab": {
          "base_uri": "https://localhost:8080/"
        },
        "outputId": "1fbc37a2-26ac-4932-9b87-74327ffb21de"
      },
      "execution_count": null,
      "outputs": [
        {
          "output_type": "stream",
          "name": "stdout",
          "text": [
            "R2-score of steel: 0.99\n",
            "R2-score of plastics: 0.99\n",
            "R2-score: of iron 0.90\n",
            "R2-score: of rubber 0.96\n",
            "R2-score of aluminium: 0.94\n",
            "R2-score of glass: 0.99\n",
            "R2-score of copper: 0.99\n"
          ]
        }
      ]
    },
    {
      "cell_type": "code",
      "source": [
        "\n",
        "\n"
      ],
      "metadata": {
        "id": "P-zMdtqfrvTt",
        "colab": {
          "base_uri": "https://localhost:8080/"
        },
        "outputId": "b1f22f1f-4b9d-4d8c-e337-d395c38ceb57"
      },
      "execution_count": null,
      "outputs": [
        {
          "output_type": "stream",
          "name": "stderr",
          "text": [
            "/usr/local/lib/python3.7/dist-packages/sklearn/base.py:566: FutureWarning: Arrays of bytes/strings is being converted to decimal numbers if dtype='numeric'. This behavior is deprecated in 0.24 and will be removed in 1.1 (renaming of 0.26). Please convert your data to numeric values explicitly instead.\n",
            "  X = check_array(X, **check_params)\n",
            "/usr/local/lib/python3.7/dist-packages/sklearn/base.py:566: FutureWarning: Arrays of bytes/strings is being converted to decimal numbers if dtype='numeric'. This behavior is deprecated in 0.24 and will be removed in 1.1 (renaming of 0.26). Please convert your data to numeric values explicitly instead.\n",
            "  X = check_array(X, **check_params)\n",
            "/usr/local/lib/python3.7/dist-packages/sklearn/base.py:566: FutureWarning: Arrays of bytes/strings is being converted to decimal numbers if dtype='numeric'. This behavior is deprecated in 0.24 and will be removed in 1.1 (renaming of 0.26). Please convert your data to numeric values explicitly instead.\n",
            "  X = check_array(X, **check_params)\n",
            "/usr/local/lib/python3.7/dist-packages/sklearn/base.py:566: FutureWarning: Arrays of bytes/strings is being converted to decimal numbers if dtype='numeric'. This behavior is deprecated in 0.24 and will be removed in 1.1 (renaming of 0.26). Please convert your data to numeric values explicitly instead.\n",
            "  X = check_array(X, **check_params)\n",
            "/usr/local/lib/python3.7/dist-packages/sklearn/base.py:566: FutureWarning: Arrays of bytes/strings is being converted to decimal numbers if dtype='numeric'. This behavior is deprecated in 0.24 and will be removed in 1.1 (renaming of 0.26). Please convert your data to numeric values explicitly instead.\n",
            "  X = check_array(X, **check_params)\n",
            "/usr/local/lib/python3.7/dist-packages/sklearn/base.py:566: FutureWarning: Arrays of bytes/strings is being converted to decimal numbers if dtype='numeric'. This behavior is deprecated in 0.24 and will be removed in 1.1 (renaming of 0.26). Please convert your data to numeric values explicitly instead.\n",
            "  X = check_array(X, **check_params)\n",
            "/usr/local/lib/python3.7/dist-packages/sklearn/base.py:566: FutureWarning: Arrays of bytes/strings is being converted to decimal numbers if dtype='numeric'. This behavior is deprecated in 0.24 and will be removed in 1.1 (renaming of 0.26). Please convert your data to numeric values explicitly instead.\n",
            "  X = check_array(X, **check_params)\n",
            "/usr/local/lib/python3.7/dist-packages/sklearn/base.py:566: FutureWarning: Arrays of bytes/strings is being converted to decimal numbers if dtype='numeric'. This behavior is deprecated in 0.24 and will be removed in 1.1 (renaming of 0.26). Please convert your data to numeric values explicitly instead.\n",
            "  X = check_array(X, **check_params)\n",
            "/usr/local/lib/python3.7/dist-packages/sklearn/base.py:566: FutureWarning: Arrays of bytes/strings is being converted to decimal numbers if dtype='numeric'. This behavior is deprecated in 0.24 and will be removed in 1.1 (renaming of 0.26). Please convert your data to numeric values explicitly instead.\n",
            "  X = check_array(X, **check_params)\n",
            "/usr/local/lib/python3.7/dist-packages/sklearn/base.py:566: FutureWarning: Arrays of bytes/strings is being converted to decimal numbers if dtype='numeric'. This behavior is deprecated in 0.24 and will be removed in 1.1 (renaming of 0.26). Please convert your data to numeric values explicitly instead.\n",
            "  X = check_array(X, **check_params)\n",
            "/usr/local/lib/python3.7/dist-packages/sklearn/base.py:566: FutureWarning: Arrays of bytes/strings is being converted to decimal numbers if dtype='numeric'. This behavior is deprecated in 0.24 and will be removed in 1.1 (renaming of 0.26). Please convert your data to numeric values explicitly instead.\n",
            "  X = check_array(X, **check_params)\n",
            "/usr/local/lib/python3.7/dist-packages/sklearn/base.py:566: FutureWarning: Arrays of bytes/strings is being converted to decimal numbers if dtype='numeric'. This behavior is deprecated in 0.24 and will be removed in 1.1 (renaming of 0.26). Please convert your data to numeric values explicitly instead.\n",
            "  X = check_array(X, **check_params)\n",
            "/usr/local/lib/python3.7/dist-packages/sklearn/base.py:566: FutureWarning: Arrays of bytes/strings is being converted to decimal numbers if dtype='numeric'. This behavior is deprecated in 0.24 and will be removed in 1.1 (renaming of 0.26). Please convert your data to numeric values explicitly instead.\n",
            "  X = check_array(X, **check_params)\n",
            "/usr/local/lib/python3.7/dist-packages/sklearn/base.py:566: FutureWarning: Arrays of bytes/strings is being converted to decimal numbers if dtype='numeric'. This behavior is deprecated in 0.24 and will be removed in 1.1 (renaming of 0.26). Please convert your data to numeric values explicitly instead.\n",
            "  X = check_array(X, **check_params)\n",
            "/usr/local/lib/python3.7/dist-packages/sklearn/base.py:566: FutureWarning: Arrays of bytes/strings is being converted to decimal numbers if dtype='numeric'. This behavior is deprecated in 0.24 and will be removed in 1.1 (renaming of 0.26). Please convert your data to numeric values explicitly instead.\n",
            "  X = check_array(X, **check_params)\n",
            "/usr/local/lib/python3.7/dist-packages/sklearn/base.py:566: FutureWarning: Arrays of bytes/strings is being converted to decimal numbers if dtype='numeric'. This behavior is deprecated in 0.24 and will be removed in 1.1 (renaming of 0.26). Please convert your data to numeric values explicitly instead.\n",
            "  X = check_array(X, **check_params)\n",
            "/usr/local/lib/python3.7/dist-packages/sklearn/base.py:566: FutureWarning: Arrays of bytes/strings is being converted to decimal numbers if dtype='numeric'. This behavior is deprecated in 0.24 and will be removed in 1.1 (renaming of 0.26). Please convert your data to numeric values explicitly instead.\n",
            "  X = check_array(X, **check_params)\n",
            "/usr/local/lib/python3.7/dist-packages/sklearn/base.py:566: FutureWarning: Arrays of bytes/strings is being converted to decimal numbers if dtype='numeric'. This behavior is deprecated in 0.24 and will be removed in 1.1 (renaming of 0.26). Please convert your data to numeric values explicitly instead.\n",
            "  X = check_array(X, **check_params)\n"
          ]
        },
        {
          "output_type": "stream",
          "name": "stdout",
          "text": [
            "[[8375.44730132]]\n",
            "[[9356.93328611]]\n",
            "[[14230.95193398]]\n",
            "[[18264.39779817]]\n",
            "[[20084.60750423]]\n",
            "[[24403.98066153]]\n",
            "[[28657.72125731]]\n",
            "[[29774.66479375]]\n",
            "[[39272.9505123]]\n",
            "[[50804.60072457]]\n",
            "[[53711.34512895]]\n",
            "[[55313.10916583]]\n",
            "[[52647.74978895]]\n",
            "[[55067.98939843]]\n",
            "[[59551.01373212]]\n",
            "[[65713.79225948]]\n",
            "[[69715.76744773]]\n",
            "[[69865.96257596]]\n",
            "[[58809.90585966]]\n",
            "[[52176.29379895]]\n"
          ]
        },
        {
          "output_type": "stream",
          "name": "stderr",
          "text": [
            "/usr/local/lib/python3.7/dist-packages/sklearn/base.py:566: FutureWarning: Arrays of bytes/strings is being converted to decimal numbers if dtype='numeric'. This behavior is deprecated in 0.24 and will be removed in 1.1 (renaming of 0.26). Please convert your data to numeric values explicitly instead.\n",
            "  X = check_array(X, **check_params)\n",
            "/usr/local/lib/python3.7/dist-packages/sklearn/base.py:566: FutureWarning: Arrays of bytes/strings is being converted to decimal numbers if dtype='numeric'. This behavior is deprecated in 0.24 and will be removed in 1.1 (renaming of 0.26). Please convert your data to numeric values explicitly instead.\n",
            "  X = check_array(X, **check_params)\n"
          ]
        }
      ]
    }
  ]
}